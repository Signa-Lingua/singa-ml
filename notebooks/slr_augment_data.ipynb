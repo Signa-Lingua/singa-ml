{
 "cells": [
  {
   "cell_type": "code",
   "execution_count": 1,
   "metadata": {},
   "outputs": [],
   "source": [
    "import shutil\n",
    "import os\n",
    "import random\n",
    "\n",
    "import numpy as np"
   ]
  },
  {
   "cell_type": "code",
   "execution_count": 2,
   "metadata": {},
   "outputs": [],
   "source": [
    "# preprocssed dataset path\n",
    "DATASET_PATH = os.path.join(\"../storage/datasets/cleaned\")\n",
    "\n",
    "# actions to be detected\n",
    "ACTIONS = [\n",
    "    \"_\", \"hello\", \"what's up\", \"how\",\n",
    "    \"thanks\", \"you\", \"morning\", \"afternoon\",\n",
    "    \"night\", \"me\", \"name\", \"fine\",\n",
    "    \"happy\", \"yes\", \"no\", \"repeat\",\n",
    "    \"please\", \"want\", \"good bye\", \"learn\",\n",
    "]\n",
    "\n",
    "# number of videos and actions per video\n",
    "\n",
    "# current dataset have 120 video, so technically:\n",
    "# 120 for processed image (not flipped horizontally)\n",
    "# 120 for processed image (flipped horizontally)\n",
    "videos_per_label = 240\n",
    "\n",
    "# 60 frame per video\n",
    "frames_per_video = 60\n",
    "\n",
    "# data labels\n",
    "labels_map = {label: index for index, label in enumerate(ACTIONS)}"
   ]
  },
  {
   "cell_type": "code",
   "execution_count": 3,
   "metadata": {},
   "outputs": [],
   "source": [
    "def add_noise(landmarks, noise_level, shape=(225,)):\n",
    "    noise = np.random.normal(loc=0, scale=noise_level, size=shape)\n",
    "    return landmarks + noise\n",
    "\n",
    "\n",
    "def shift_landmarks(landmarks, shift_factor, shape=(225,)):\n",
    "    shift = np.random.uniform(-shift_factor, shift_factor, size=shape[1:])\n",
    "    return landmarks + shift\n",
    "\n",
    "\n",
    "def augment_landmarks(landmarks, noise_level=0.01, shift_factor=0.1):\n",
    "    if random.random() > 0.6:\n",
    "        landmarks = add_noise(landmarks, noise_level)\n",
    "\n",
    "    if random.random() > 0.6:\n",
    "        landmarks = shift_landmarks(landmarks, shift_factor)\n",
    "\n",
    "    return landmarks"
   ]
  },
  {
   "cell_type": "code",
   "execution_count": 4,
   "metadata": {},
   "outputs": [],
   "source": [
    "seq_path = os.path.join(\"w:/machine-learning/sign-language/\")\n",
    "lab_path = os.path.join(\"w:/machine-learning/sign-language/\")"
   ]
  },
  {
   "cell_type": "code",
   "execution_count": 6,
   "metadata": {},
   "outputs": [],
   "source": [
    "def generate_bulk_dataset_and_load(augment=True):\n",
    "    for action in ACTIONS:\n",
    "        sequences, labels = [], []\n",
    "\n",
    "        for sequence in range(videos_per_label):\n",
    "            # construct the path to the numpy file for the current frame\n",
    "            npy_path = os.path.join(DATASET_PATH, action, f\"{sequence}.npy\")\n",
    "\n",
    "            # load the frame data from the numpy file\n",
    "            result = np.load(npy_path)\n",
    "\n",
    "            # append the completed sequence to the sequences list\n",
    "            sequences.append(result)\n",
    "\n",
    "            # append the corresponding label to the labels list\n",
    "            labels.append(labels_map[action])\n",
    "\n",
    "            if not augment:\n",
    "                continue\n",
    "\n",
    "            # number of augmented sequences to create per original sequence\n",
    "            num_augmented_sequences = int(0.04 * videos_per_label)  # 4% of total videos\n",
    "\n",
    "            for _ in range(num_augmented_sequences):\n",
    "                augmented_sequence = [\n",
    "                    augment_landmarks(frame, noise_level=0.078, shift_factor=0.65)\n",
    "                    for frame in result\n",
    "                ]\n",
    "\n",
    "                # append the augmented sequence to the sequences list\n",
    "                sequences.append(augmented_sequence)\n",
    "\n",
    "                # append the corresponding label to the labels list\n",
    "                labels.append(labels_map[action])\n",
    "\n",
    "        # convert to numpy arrays\n",
    "        sequences_np = np.array(sequences)\n",
    "        labels_np = np.array(labels)\n",
    "\n",
    "        try:\n",
    "            shutil.rmtree(f\"{seq_path}/{action}\")\n",
    "        except:\n",
    "            os.makedirs(f\"{seq_path}/{action}\")\n",
    "\n",
    "\n",
    "        # save the sequences and labels for the current action\n",
    "        seq_dir = os.path.join(seq_path, f\"{action}/{action}_sequences.npy\")\n",
    "        lab_dir = os.path.join(lab_path, f\"{action}/{action}_labels.npy\")\n",
    "\n",
    "        print(f\"Sequences \\\"{action}\\\" Saved\")\n",
    "        print(\"=\"*50)\n",
    "        np.save(seq_dir, sequences_np)\n",
    "        np.save(lab_dir, labels_np)"
   ]
  },
  {
   "cell_type": "code",
   "execution_count": 7,
   "metadata": {},
   "outputs": [
    {
     "name": "stdout",
     "output_type": "stream",
     "text": [
      "Sequences \"_\" Saved\n",
      "==================================================\n",
      "Sequences \"hello\" Saved\n",
      "==================================================\n",
      "Sequences \"what's up\" Saved\n",
      "==================================================\n",
      "Sequences \"how\" Saved\n",
      "==================================================\n",
      "Sequences \"thanks\" Saved\n",
      "==================================================\n",
      "Sequences \"you\" Saved\n",
      "==================================================\n",
      "Sequences \"morning\" Saved\n",
      "==================================================\n",
      "Sequences \"afternoon\" Saved\n",
      "==================================================\n",
      "Sequences \"night\" Saved\n",
      "==================================================\n",
      "Sequences \"me\" Saved\n",
      "==================================================\n",
      "Sequences \"name\" Saved\n",
      "==================================================\n",
      "Sequences \"fine\" Saved\n",
      "==================================================\n",
      "Sequences \"happy\" Saved\n",
      "==================================================\n",
      "Sequences \"yes\" Saved\n",
      "==================================================\n",
      "Sequences \"no\" Saved\n",
      "==================================================\n",
      "Sequences \"repeat\" Saved\n",
      "==================================================\n",
      "Sequences \"please\" Saved\n",
      "==================================================\n",
      "Sequences \"want\" Saved\n",
      "==================================================\n",
      "Sequences \"good bye\" Saved\n",
      "==================================================\n",
      "Sequences \"learn\" Saved\n",
      "==================================================\n"
     ]
    }
   ],
   "source": [
    "generate_bulk_dataset_and_load(augment=False)"
   ]
  },
  {
   "cell_type": "code",
   "execution_count": 8,
   "metadata": {},
   "outputs": [],
   "source": [
    "def load_and_combine_datasets(seq_dir, lab_dir):\n",
    "    all_sequences = []\n",
    "    all_labels = []\n",
    "\n",
    "    for action in ACTIONS:\n",
    "        seq_path = os.path.join(seq_dir, f\"{action}/{action}_sequences.npy\")\n",
    "        lab_path = os.path.join(lab_dir, f\"{action}/{action}_labels.npy\")\n",
    "\n",
    "        # load sequences and labels\n",
    "        sequences = np.load(seq_path)\n",
    "        labels = np.load(lab_path)\n",
    "\n",
    "        all_sequences.append(sequences)\n",
    "        all_labels.append(labels)\n",
    "\n",
    "    # combine all sequences and labels into single arrays\n",
    "    combined_sequences = np.concatenate(all_sequences, axis=0)\n",
    "    combined_labels = np.concatenate(all_labels, axis=0)\n",
    "\n",
    "    return combined_sequences, combined_labels"
   ]
  },
  {
   "cell_type": "code",
   "execution_count": 9,
   "metadata": {},
   "outputs": [],
   "source": [
    "# load and combine the dataset\n",
    "sequences, labels = load_and_combine_datasets(seq_path, lab_path)"
   ]
  },
  {
   "cell_type": "code",
   "execution_count": 10,
   "metadata": {},
   "outputs": [],
   "source": [
    "# save the combined dataset\n",
    "np.save(os.path.join(\"w:/machine-learning/sign-language-batched/\", \"combined_sequences.npy\"), sequences)\n",
    "np.save(os.path.join(\"w:/machine-learning/sign-language-batched/\", \"combined_labels.npy\"), labels)"
   ]
  },
  {
   "cell_type": "code",
   "execution_count": 11,
   "metadata": {},
   "outputs": [
    {
     "data": {
      "text/plain": [
       "341"
      ]
     },
     "execution_count": 11,
     "metadata": {},
     "output_type": "execute_result"
    }
   ],
   "source": [
    "# please run this\n",
    "\n",
    "import gc # garbage collector\n",
    "\n",
    "del sequences\n",
    "del labels\n",
    "\n",
    "gc.collect()"
   ]
  }
 ],
 "metadata": {
  "kernelspec": {
   "display_name": "venv",
   "language": "python",
   "name": "python3"
  },
  "language_info": {
   "codemirror_mode": {
    "name": "ipython",
    "version": 3
   },
   "file_extension": ".py",
   "mimetype": "text/x-python",
   "name": "python",
   "nbconvert_exporter": "python",
   "pygments_lexer": "ipython3",
   "version": "3.10.2"
  }
 },
 "nbformat": 4,
 "nbformat_minor": 2
}
