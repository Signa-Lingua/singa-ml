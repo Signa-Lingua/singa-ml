{
 "cells": [
  {
   "cell_type": "code",
   "execution_count": 29,
   "metadata": {},
   "outputs": [],
   "source": [
    "import datetime\n",
    "import os\n",
    "import random\n",
    "import tempfile\n",
    "\n",
    "import numpy as np\n",
    "import tensorflow as tf\n",
    "from sklearn.model_selection import train_test_split\n",
    "from tensorflow.keras import models  # type: ignore\n",
    "from tensorflow.keras.callbacks import (Callback,  # type: ignore\n",
    "                                        EarlyStopping, ReduceLROnPlateau,\n",
    "                                        TensorBoard)\n",
    "from tensorflow.keras.optimizers import Adam  # type: ignore\n",
    "from tensorflow.keras.regularizers import l2  # type: ignore\n",
    "from tensorflow.keras.utils import to_categorical  # type: ignore"
   ]
  },
  {
   "cell_type": "markdown",
   "metadata": {},
   "source": [
    "#### Setting up for data training and testing"
   ]
  },
  {
   "cell_type": "code",
   "execution_count": 30,
   "metadata": {},
   "outputs": [],
   "source": [
    "# actions to be trained\n",
    "ACTIONS = [\n",
    "    \"_\", \"hello\", \"what's up\", \"how\",\n",
    "    \"thanks\", \"you\", \"morning\", \"afternoon\",\n",
    "    \"night\", \"me\", \"name\", \"fine\",\n",
    "    \"happy\", \"yes\", \"no\", \"repeat\",\n",
    "    \"please\", \"want\", \"good bye\", \"learn\",\n",
    "]"
   ]
  },
  {
   "cell_type": "markdown",
   "metadata": {},
   "source": [
    "#### Load and Augmented data"
   ]
  },
  {
   "cell_type": "code",
   "execution_count": 31,
   "metadata": {},
   "outputs": [],
   "source": [
    "seq_path = os.path.join(\"w:/machine-learning/sign-language-batched/combined_sequences.npy\")\n",
    "lab_path = os.path.join(\"w:/machine-learning/sign-language-batched/combined_labels.npy\")"
   ]
  },
  {
   "cell_type": "code",
   "execution_count": 32,
   "metadata": {},
   "outputs": [],
   "source": [
    "# def load_and_combine_datasets(seq_dir, lab_dir):\n",
    "#     all_sequences = []\n",
    "#     all_labels = []\n",
    "\n",
    "#     for action in ACTIONS:\n",
    "#         seq_path = os.path.join(seq_dir, f\"{action}/{action}_sequences.npy\")\n",
    "#         lab_path = os.path.join(lab_dir, f\"{action}/{action}_labels.npy\")\n",
    "\n",
    "#         # Load sequences and labels\n",
    "#         sequences = np.load(seq_path)\n",
    "#         labels = np.load(lab_path)\n",
    "\n",
    "#         all_sequences.append(sequences)\n",
    "#         all_labels.append(labels)\n",
    "\n",
    "#     # combine all sequences and labels into single arrays\n",
    "#     combined_sequences = np.concatenate(all_sequences, axis=0)\n",
    "#     combined_labels = np.concatenate(all_labels, axis=0)\n",
    "\n",
    "#     return combined_sequences, combined_labels"
   ]
  },
  {
   "cell_type": "code",
   "execution_count": 33,
   "metadata": {},
   "outputs": [],
   "source": [
    "# load the combined dataset\n",
    "combined_sequences, combined_labels = np.load(seq_path), np.load(lab_path)"
   ]
  },
  {
   "cell_type": "code",
   "execution_count": 34,
   "metadata": {},
   "outputs": [
    {
     "data": {
      "text/plain": [
       "(4800, 4800)"
      ]
     },
     "execution_count": 34,
     "metadata": {},
     "output_type": "execute_result"
    }
   ],
   "source": [
    "len(combined_sequences), len(combined_labels)"
   ]
  },
  {
   "cell_type": "markdown",
   "metadata": {},
   "source": [
    "**Adjusting the Augmentation Factor**\n",
    "\n",
    "If you want to achieve a specific total number of sequences, you can adjust N<sub>augmented_per_original</sub>\n",
    "\n",
    "- Desired N<sub>total</sub> = 1920\n",
    "- Original N<sub>original</sub> = 480 (without augmentation)\n",
    "\n",
    "Using the formula to find N<sub>augmented_per_original</sub> :\n",
    "- 1920 = 480 + (480 × N<sub>augmented_per_original</sub>)\n",
    "\n",
    "Subtract 480 from both sides :\n",
    "- 1440 = 480 × N<sub>augmented_per_original</sub>\n",
    "\n",
    "Divide both sides by 480 :\n",
    "- N<sub>augmented_per_original</sub> = 3"
   ]
  },
  {
   "cell_type": "code",
   "execution_count": 35,
   "metadata": {},
   "outputs": [],
   "source": [
    "# convert to numpy array\n",
    "datas = np.array(combined_sequences)\n",
    "\n",
    "# convert labels list to a one-hot encoded NumPy array\n",
    "labels = to_categorical(combined_labels).astype(int)"
   ]
  },
  {
   "cell_type": "code",
   "execution_count": 36,
   "metadata": {},
   "outputs": [
    {
     "data": {
      "text/plain": [
       "22"
      ]
     },
     "execution_count": 36,
     "metadata": {},
     "output_type": "execute_result"
    }
   ],
   "source": [
    "# free up memory\n",
    "import gc\n",
    "\n",
    "# we do not need this variable again\n",
    "# so we can just remove it to freed up some memory\n",
    "del combined_sequences\n",
    "del combined_labels\n",
    "\n",
    "# force garbage collection\n",
    "gc.collect()"
   ]
  },
  {
   "cell_type": "code",
   "execution_count": 37,
   "metadata": {},
   "outputs": [
    {
     "data": {
      "text/plain": [
       "(4800, 4800)"
      ]
     },
     "execution_count": 37,
     "metadata": {},
     "output_type": "execute_result"
    }
   ],
   "source": [
    "# the length of the datas and labels should be the same\n",
    "len(datas), len(labels)"
   ]
  },
  {
   "cell_type": "markdown",
   "metadata": {},
   "source": [
    "The shapes of the datasets depend on the total number of sequences and the sequence length. Here we processes 120 sequence of videos for each of the 4 actions, we have:\n",
    "\n",
    "    Total sequences = 120 sequences/action × 4 actions = 480 sequences\n",
    "\n",
    "Given a test_size of 0.2, 20% of the data (approximately 96 sequences) will be in the test set, and 80% (approximately 384 sequences) will be in the training set."
   ]
  },
  {
   "cell_type": "code",
   "execution_count": 38,
   "metadata": {},
   "outputs": [
    {
     "name": "stdout",
     "output_type": "stream",
     "text": [
      "(3840, 60, 225) (960, 60, 225) (3840, 20) (960, 20)\n"
     ]
    }
   ],
   "source": [
    "# splits the dataset into training and testing sets\n",
    "\n",
    "# specifies that 20% of the data should be used as the test set,\n",
    "# and the remaining 80% should be used as the training set.\n",
    "X_train, X_test, y_train, y_test = train_test_split(datas, labels, test_size=0.2, random_state=42)\n",
    "\n",
    "print(X_train.shape, X_test.shape, y_train.shape, y_test.shape)"
   ]
  },
  {
   "cell_type": "code",
   "execution_count": 39,
   "metadata": {},
   "outputs": [
    {
     "data": {
      "text/plain": [
       "0"
      ]
     },
     "execution_count": 39,
     "metadata": {},
     "output_type": "execute_result"
    }
   ],
   "source": [
    "# free up memory\n",
    "import gc\n",
    "\n",
    "# we do not need this variable again\n",
    "# so we can just remove it to freed up some memory\n",
    "del datas\n",
    "del labels\n",
    "\n",
    "# force garbage collection\n",
    "gc.collect()"
   ]
  },
  {
   "cell_type": "markdown",
   "metadata": {},
   "source": [
    "Wrong Output Example : `(384, 60, 225) (96, 60, 225) (384, 4, 2) (96, 4, 2)`"
   ]
  },
  {
   "cell_type": "code",
   "execution_count": 40,
   "metadata": {},
   "outputs": [],
   "source": [
    "# # augment the training data\n",
    "# X_train_augmented, y_train_augmented = augment_train_test_data(X_train, y_train)\n",
    "\n",
    "# # convert the test data to the required format\n",
    "# X_test = np.array(X_test)\n",
    "# y_test = np.array(y_test)\n",
    "\n",
    "# print(X_train_augmented.shape, X_test.shape, y_train_augmented.shape, y_test.shape)"
   ]
  },
  {
   "cell_type": "markdown",
   "metadata": {},
   "source": [
    "#### Modelling"
   ]
  },
  {
   "cell_type": "code",
   "execution_count": 41,
   "metadata": {},
   "outputs": [
    {
     "data": {
      "text/html": [
       "<pre style=\"white-space:pre;overflow-x:auto;line-height:normal;font-family:Menlo,'DejaVu Sans Mono',consolas,'Courier New',monospace\"><span style=\"font-weight: bold\">Model: \"functional_1\"</span>\n",
       "</pre>\n"
      ],
      "text/plain": [
       "\u001b[1mModel: \"functional_1\"\u001b[0m\n"
      ]
     },
     "metadata": {},
     "output_type": "display_data"
    },
    {
     "data": {
      "text/html": [
       "<pre style=\"white-space:pre;overflow-x:auto;line-height:normal;font-family:Menlo,'DejaVu Sans Mono',consolas,'Courier New',monospace\">┏━━━━━━━━━━━━━━━━━━━━━━━━━━━━━━━━━┳━━━━━━━━━━━━━━━━━━━━━━━━┳━━━━━━━━━━━━━━━┓\n",
       "┃<span style=\"font-weight: bold\"> Layer (type)                    </span>┃<span style=\"font-weight: bold\"> Output Shape           </span>┃<span style=\"font-weight: bold\">       Param # </span>┃\n",
       "┡━━━━━━━━━━━━━━━━━━━━━━━━━━━━━━━━━╇━━━━━━━━━━━━━━━━━━━━━━━━╇━━━━━━━━━━━━━━━┩\n",
       "│ input_layer (<span style=\"color: #0087ff; text-decoration-color: #0087ff\">InputLayer</span>)        │ (<span style=\"color: #00d7ff; text-decoration-color: #00d7ff\">None</span>, <span style=\"color: #00af00; text-decoration-color: #00af00\">60</span>, <span style=\"color: #00af00; text-decoration-color: #00af00\">225</span>)        │             <span style=\"color: #00af00; text-decoration-color: #00af00\">0</span> │\n",
       "├─────────────────────────────────┼────────────────────────┼───────────────┤\n",
       "│ batch_normalization             │ (<span style=\"color: #00d7ff; text-decoration-color: #00d7ff\">None</span>, <span style=\"color: #00af00; text-decoration-color: #00af00\">60</span>, <span style=\"color: #00af00; text-decoration-color: #00af00\">225</span>)        │           <span style=\"color: #00af00; text-decoration-color: #00af00\">900</span> │\n",
       "│ (<span style=\"color: #0087ff; text-decoration-color: #0087ff\">BatchNormalization</span>)            │                        │               │\n",
       "├─────────────────────────────────┼────────────────────────┼───────────────┤\n",
       "│ conv1d (<span style=\"color: #0087ff; text-decoration-color: #0087ff\">Conv1D</span>)                 │ (<span style=\"color: #00d7ff; text-decoration-color: #00d7ff\">None</span>, <span style=\"color: #00af00; text-decoration-color: #00af00\">59</span>, <span style=\"color: #00af00; text-decoration-color: #00af00\">64</span>)         │        <span style=\"color: #00af00; text-decoration-color: #00af00\">28,864</span> │\n",
       "├─────────────────────────────────┼────────────────────────┼───────────────┤\n",
       "│ batch_normalization_1           │ (<span style=\"color: #00d7ff; text-decoration-color: #00d7ff\">None</span>, <span style=\"color: #00af00; text-decoration-color: #00af00\">59</span>, <span style=\"color: #00af00; text-decoration-color: #00af00\">64</span>)         │           <span style=\"color: #00af00; text-decoration-color: #00af00\">256</span> │\n",
       "│ (<span style=\"color: #0087ff; text-decoration-color: #0087ff\">BatchNormalization</span>)            │                        │               │\n",
       "├─────────────────────────────────┼────────────────────────┼───────────────┤\n",
       "│ max_pooling1d (<span style=\"color: #0087ff; text-decoration-color: #0087ff\">MaxPooling1D</span>)    │ (<span style=\"color: #00d7ff; text-decoration-color: #00d7ff\">None</span>, <span style=\"color: #00af00; text-decoration-color: #00af00\">29</span>, <span style=\"color: #00af00; text-decoration-color: #00af00\">64</span>)         │             <span style=\"color: #00af00; text-decoration-color: #00af00\">0</span> │\n",
       "├─────────────────────────────────┼────────────────────────┼───────────────┤\n",
       "│ conv1d_1 (<span style=\"color: #0087ff; text-decoration-color: #0087ff\">Conv1D</span>)               │ (<span style=\"color: #00d7ff; text-decoration-color: #00d7ff\">None</span>, <span style=\"color: #00af00; text-decoration-color: #00af00\">28</span>, <span style=\"color: #00af00; text-decoration-color: #00af00\">64</span>)         │         <span style=\"color: #00af00; text-decoration-color: #00af00\">8,256</span> │\n",
       "├─────────────────────────────────┼────────────────────────┼───────────────┤\n",
       "│ batch_normalization_2           │ (<span style=\"color: #00d7ff; text-decoration-color: #00d7ff\">None</span>, <span style=\"color: #00af00; text-decoration-color: #00af00\">28</span>, <span style=\"color: #00af00; text-decoration-color: #00af00\">64</span>)         │           <span style=\"color: #00af00; text-decoration-color: #00af00\">256</span> │\n",
       "│ (<span style=\"color: #0087ff; text-decoration-color: #0087ff\">BatchNormalization</span>)            │                        │               │\n",
       "├─────────────────────────────────┼────────────────────────┼───────────────┤\n",
       "│ max_pooling1d_1 (<span style=\"color: #0087ff; text-decoration-color: #0087ff\">MaxPooling1D</span>)  │ (<span style=\"color: #00d7ff; text-decoration-color: #00d7ff\">None</span>, <span style=\"color: #00af00; text-decoration-color: #00af00\">14</span>, <span style=\"color: #00af00; text-decoration-color: #00af00\">64</span>)         │             <span style=\"color: #00af00; text-decoration-color: #00af00\">0</span> │\n",
       "├─────────────────────────────────┼────────────────────────┼───────────────┤\n",
       "│ reshape (<span style=\"color: #0087ff; text-decoration-color: #0087ff\">Reshape</span>)               │ (<span style=\"color: #00d7ff; text-decoration-color: #00d7ff\">None</span>, <span style=\"color: #00af00; text-decoration-color: #00af00\">14</span>, <span style=\"color: #00af00; text-decoration-color: #00af00\">64</span>)         │             <span style=\"color: #00af00; text-decoration-color: #00af00\">0</span> │\n",
       "├─────────────────────────────────┼────────────────────────┼───────────────┤\n",
       "│ bidirectional (<span style=\"color: #0087ff; text-decoration-color: #0087ff\">Bidirectional</span>)   │ (<span style=\"color: #00d7ff; text-decoration-color: #00d7ff\">None</span>, <span style=\"color: #00af00; text-decoration-color: #00af00\">14</span>, <span style=\"color: #00af00; text-decoration-color: #00af00\">128</span>)        │        <span style=\"color: #00af00; text-decoration-color: #00af00\">66,048</span> │\n",
       "├─────────────────────────────────┼────────────────────────┼───────────────┤\n",
       "│ bidirectional_1 (<span style=\"color: #0087ff; text-decoration-color: #0087ff\">Bidirectional</span>) │ (<span style=\"color: #00d7ff; text-decoration-color: #00d7ff\">None</span>, <span style=\"color: #00af00; text-decoration-color: #00af00\">128</span>)            │        <span style=\"color: #00af00; text-decoration-color: #00af00\">98,816</span> │\n",
       "├─────────────────────────────────┼────────────────────────┼───────────────┤\n",
       "│ batch_normalization_3           │ (<span style=\"color: #00d7ff; text-decoration-color: #00d7ff\">None</span>, <span style=\"color: #00af00; text-decoration-color: #00af00\">128</span>)            │           <span style=\"color: #00af00; text-decoration-color: #00af00\">512</span> │\n",
       "│ (<span style=\"color: #0087ff; text-decoration-color: #0087ff\">BatchNormalization</span>)            │                        │               │\n",
       "├─────────────────────────────────┼────────────────────────┼───────────────┤\n",
       "│ dense (<span style=\"color: #0087ff; text-decoration-color: #0087ff\">Dense</span>)                   │ (<span style=\"color: #00d7ff; text-decoration-color: #00d7ff\">None</span>, <span style=\"color: #00af00; text-decoration-color: #00af00\">16</span>)             │         <span style=\"color: #00af00; text-decoration-color: #00af00\">2,064</span> │\n",
       "├─────────────────────────────────┼────────────────────────┼───────────────┤\n",
       "│ dropout (<span style=\"color: #0087ff; text-decoration-color: #0087ff\">Dropout</span>)               │ (<span style=\"color: #00d7ff; text-decoration-color: #00d7ff\">None</span>, <span style=\"color: #00af00; text-decoration-color: #00af00\">16</span>)             │             <span style=\"color: #00af00; text-decoration-color: #00af00\">0</span> │\n",
       "├─────────────────────────────────┼────────────────────────┼───────────────┤\n",
       "│ dense_1 (<span style=\"color: #0087ff; text-decoration-color: #0087ff\">Dense</span>)                 │ (<span style=\"color: #00d7ff; text-decoration-color: #00d7ff\">None</span>, <span style=\"color: #00af00; text-decoration-color: #00af00\">16</span>)             │           <span style=\"color: #00af00; text-decoration-color: #00af00\">272</span> │\n",
       "├─────────────────────────────────┼────────────────────────┼───────────────┤\n",
       "│ dropout_1 (<span style=\"color: #0087ff; text-decoration-color: #0087ff\">Dropout</span>)             │ (<span style=\"color: #00d7ff; text-decoration-color: #00d7ff\">None</span>, <span style=\"color: #00af00; text-decoration-color: #00af00\">16</span>)             │             <span style=\"color: #00af00; text-decoration-color: #00af00\">0</span> │\n",
       "├─────────────────────────────────┼────────────────────────┼───────────────┤\n",
       "│ dense_2 (<span style=\"color: #0087ff; text-decoration-color: #0087ff\">Dense</span>)                 │ (<span style=\"color: #00d7ff; text-decoration-color: #00d7ff\">None</span>, <span style=\"color: #00af00; text-decoration-color: #00af00\">20</span>)             │           <span style=\"color: #00af00; text-decoration-color: #00af00\">340</span> │\n",
       "└─────────────────────────────────┴────────────────────────┴───────────────┘\n",
       "</pre>\n"
      ],
      "text/plain": [
       "┏━━━━━━━━━━━━━━━━━━━━━━━━━━━━━━━━━┳━━━━━━━━━━━━━━━━━━━━━━━━┳━━━━━━━━━━━━━━━┓\n",
       "┃\u001b[1m \u001b[0m\u001b[1mLayer (type)                   \u001b[0m\u001b[1m \u001b[0m┃\u001b[1m \u001b[0m\u001b[1mOutput Shape          \u001b[0m\u001b[1m \u001b[0m┃\u001b[1m \u001b[0m\u001b[1m      Param #\u001b[0m\u001b[1m \u001b[0m┃\n",
       "┡━━━━━━━━━━━━━━━━━━━━━━━━━━━━━━━━━╇━━━━━━━━━━━━━━━━━━━━━━━━╇━━━━━━━━━━━━━━━┩\n",
       "│ input_layer (\u001b[38;5;33mInputLayer\u001b[0m)        │ (\u001b[38;5;45mNone\u001b[0m, \u001b[38;5;34m60\u001b[0m, \u001b[38;5;34m225\u001b[0m)        │             \u001b[38;5;34m0\u001b[0m │\n",
       "├─────────────────────────────────┼────────────────────────┼───────────────┤\n",
       "│ batch_normalization             │ (\u001b[38;5;45mNone\u001b[0m, \u001b[38;5;34m60\u001b[0m, \u001b[38;5;34m225\u001b[0m)        │           \u001b[38;5;34m900\u001b[0m │\n",
       "│ (\u001b[38;5;33mBatchNormalization\u001b[0m)            │                        │               │\n",
       "├─────────────────────────────────┼────────────────────────┼───────────────┤\n",
       "│ conv1d (\u001b[38;5;33mConv1D\u001b[0m)                 │ (\u001b[38;5;45mNone\u001b[0m, \u001b[38;5;34m59\u001b[0m, \u001b[38;5;34m64\u001b[0m)         │        \u001b[38;5;34m28,864\u001b[0m │\n",
       "├─────────────────────────────────┼────────────────────────┼───────────────┤\n",
       "│ batch_normalization_1           │ (\u001b[38;5;45mNone\u001b[0m, \u001b[38;5;34m59\u001b[0m, \u001b[38;5;34m64\u001b[0m)         │           \u001b[38;5;34m256\u001b[0m │\n",
       "│ (\u001b[38;5;33mBatchNormalization\u001b[0m)            │                        │               │\n",
       "├─────────────────────────────────┼────────────────────────┼───────────────┤\n",
       "│ max_pooling1d (\u001b[38;5;33mMaxPooling1D\u001b[0m)    │ (\u001b[38;5;45mNone\u001b[0m, \u001b[38;5;34m29\u001b[0m, \u001b[38;5;34m64\u001b[0m)         │             \u001b[38;5;34m0\u001b[0m │\n",
       "├─────────────────────────────────┼────────────────────────┼───────────────┤\n",
       "│ conv1d_1 (\u001b[38;5;33mConv1D\u001b[0m)               │ (\u001b[38;5;45mNone\u001b[0m, \u001b[38;5;34m28\u001b[0m, \u001b[38;5;34m64\u001b[0m)         │         \u001b[38;5;34m8,256\u001b[0m │\n",
       "├─────────────────────────────────┼────────────────────────┼───────────────┤\n",
       "│ batch_normalization_2           │ (\u001b[38;5;45mNone\u001b[0m, \u001b[38;5;34m28\u001b[0m, \u001b[38;5;34m64\u001b[0m)         │           \u001b[38;5;34m256\u001b[0m │\n",
       "│ (\u001b[38;5;33mBatchNormalization\u001b[0m)            │                        │               │\n",
       "├─────────────────────────────────┼────────────────────────┼───────────────┤\n",
       "│ max_pooling1d_1 (\u001b[38;5;33mMaxPooling1D\u001b[0m)  │ (\u001b[38;5;45mNone\u001b[0m, \u001b[38;5;34m14\u001b[0m, \u001b[38;5;34m64\u001b[0m)         │             \u001b[38;5;34m0\u001b[0m │\n",
       "├─────────────────────────────────┼────────────────────────┼───────────────┤\n",
       "│ reshape (\u001b[38;5;33mReshape\u001b[0m)               │ (\u001b[38;5;45mNone\u001b[0m, \u001b[38;5;34m14\u001b[0m, \u001b[38;5;34m64\u001b[0m)         │             \u001b[38;5;34m0\u001b[0m │\n",
       "├─────────────────────────────────┼────────────────────────┼───────────────┤\n",
       "│ bidirectional (\u001b[38;5;33mBidirectional\u001b[0m)   │ (\u001b[38;5;45mNone\u001b[0m, \u001b[38;5;34m14\u001b[0m, \u001b[38;5;34m128\u001b[0m)        │        \u001b[38;5;34m66,048\u001b[0m │\n",
       "├─────────────────────────────────┼────────────────────────┼───────────────┤\n",
       "│ bidirectional_1 (\u001b[38;5;33mBidirectional\u001b[0m) │ (\u001b[38;5;45mNone\u001b[0m, \u001b[38;5;34m128\u001b[0m)            │        \u001b[38;5;34m98,816\u001b[0m │\n",
       "├─────────────────────────────────┼────────────────────────┼───────────────┤\n",
       "│ batch_normalization_3           │ (\u001b[38;5;45mNone\u001b[0m, \u001b[38;5;34m128\u001b[0m)            │           \u001b[38;5;34m512\u001b[0m │\n",
       "│ (\u001b[38;5;33mBatchNormalization\u001b[0m)            │                        │               │\n",
       "├─────────────────────────────────┼────────────────────────┼───────────────┤\n",
       "│ dense (\u001b[38;5;33mDense\u001b[0m)                   │ (\u001b[38;5;45mNone\u001b[0m, \u001b[38;5;34m16\u001b[0m)             │         \u001b[38;5;34m2,064\u001b[0m │\n",
       "├─────────────────────────────────┼────────────────────────┼───────────────┤\n",
       "│ dropout (\u001b[38;5;33mDropout\u001b[0m)               │ (\u001b[38;5;45mNone\u001b[0m, \u001b[38;5;34m16\u001b[0m)             │             \u001b[38;5;34m0\u001b[0m │\n",
       "├─────────────────────────────────┼────────────────────────┼───────────────┤\n",
       "│ dense_1 (\u001b[38;5;33mDense\u001b[0m)                 │ (\u001b[38;5;45mNone\u001b[0m, \u001b[38;5;34m16\u001b[0m)             │           \u001b[38;5;34m272\u001b[0m │\n",
       "├─────────────────────────────────┼────────────────────────┼───────────────┤\n",
       "│ dropout_1 (\u001b[38;5;33mDropout\u001b[0m)             │ (\u001b[38;5;45mNone\u001b[0m, \u001b[38;5;34m16\u001b[0m)             │             \u001b[38;5;34m0\u001b[0m │\n",
       "├─────────────────────────────────┼────────────────────────┼───────────────┤\n",
       "│ dense_2 (\u001b[38;5;33mDense\u001b[0m)                 │ (\u001b[38;5;45mNone\u001b[0m, \u001b[38;5;34m20\u001b[0m)             │           \u001b[38;5;34m340\u001b[0m │\n",
       "└─────────────────────────────────┴────────────────────────┴───────────────┘\n"
      ]
     },
     "metadata": {},
     "output_type": "display_data"
    },
    {
     "data": {
      "text/html": [
       "<pre style=\"white-space:pre;overflow-x:auto;line-height:normal;font-family:Menlo,'DejaVu Sans Mono',consolas,'Courier New',monospace\"><span style=\"font-weight: bold\"> Total params: </span><span style=\"color: #00af00; text-decoration-color: #00af00\">206,584</span> (806.97 KB)\n",
       "</pre>\n"
      ],
      "text/plain": [
       "\u001b[1m Total params: \u001b[0m\u001b[38;5;34m206,584\u001b[0m (806.97 KB)\n"
      ]
     },
     "metadata": {},
     "output_type": "display_data"
    },
    {
     "data": {
      "text/html": [
       "<pre style=\"white-space:pre;overflow-x:auto;line-height:normal;font-family:Menlo,'DejaVu Sans Mono',consolas,'Courier New',monospace\"><span style=\"font-weight: bold\"> Trainable params: </span><span style=\"color: #00af00; text-decoration-color: #00af00\">205,622</span> (803.21 KB)\n",
       "</pre>\n"
      ],
      "text/plain": [
       "\u001b[1m Trainable params: \u001b[0m\u001b[38;5;34m205,622\u001b[0m (803.21 KB)\n"
      ]
     },
     "metadata": {},
     "output_type": "display_data"
    },
    {
     "data": {
      "text/html": [
       "<pre style=\"white-space:pre;overflow-x:auto;line-height:normal;font-family:Menlo,'DejaVu Sans Mono',consolas,'Courier New',monospace\"><span style=\"font-weight: bold\"> Non-trainable params: </span><span style=\"color: #00af00; text-decoration-color: #00af00\">962</span> (3.76 KB)\n",
       "</pre>\n"
      ],
      "text/plain": [
       "\u001b[1m Non-trainable params: \u001b[0m\u001b[38;5;34m962\u001b[0m (3.76 KB)\n"
      ]
     },
     "metadata": {},
     "output_type": "display_data"
    }
   ],
   "source": [
    "def create_cnn_rnn_model(input_shape, num_classes):\n",
    "    # inputs = tf.keras.Input(shape=input_shape)\n",
    "\n",
    "    # # BatchNormalization layer to normalize input data\n",
    "    # x = tf.keras.layers.BatchNormalization()(inputs)\n",
    "\n",
    "    # # CNN layers to extract spatial features\n",
    "    # x = tf.keras.layers.Conv1D(64, 3, activation=\"relu\", kernel_regularizer=l2(0.02))(x)\n",
    "    # x = tf.keras.layers.BatchNormalization()(x)\n",
    "    # x = tf.keras.layers.MaxPooling1D(2)(x)\n",
    "\n",
    "    # x = tf.keras.layers.Conv1D(128, 3, activation=\"relu\", kernel_regularizer=l2(0.02))(\n",
    "    #     x\n",
    "    # )\n",
    "    # x = tf.keras.layers.BatchNormalization()(x)\n",
    "    # x = tf.keras.layers.MaxPooling1D(pool_size=2)(x)\n",
    "\n",
    "    # # Reshape the output to match LSTM input requirements\n",
    "    # x = tf.keras.layers.Reshape((-1, 128))(x)\n",
    "\n",
    "    # # Bidirectional LSTM to capture temporal features\n",
    "    # x = tf.keras.layers.Bidirectional(\n",
    "    #     tf.keras.layers.LSTM(64, activation=\"relu\", return_sequences=True)\n",
    "    # )(x)\n",
    "    # x = tf.keras.layers.Bidirectional(tf.keras.layers.LSTM(64, activation=\"relu\"))(x)\n",
    "    # x = tf.keras.layers.BatchNormalization()(x)\n",
    "    # x = tf.keras.layers.Dense(64, activation=\"relu\", kernel_regularizer=l2(0.02))(x)\n",
    "    # x = tf.keras.layers.Dropout(0.4)(x)\n",
    "\n",
    "    # x = tf.keras.layers.Dense(32, activation=\"relu\", kernel_regularizer=l2(0.02))(x)\n",
    "    # x = tf.keras.layers.Dropout(0.4)(x)\n",
    "\n",
    "    # outputs = tf.keras.layers.Dense(num_classes, activation=\"softmax\")(x)\n",
    "\n",
    "    # model = models.Model(inputs, outputs)\n",
    "    # return model\n",
    "    inputs = tf.keras.Input(shape=input_shape)\n",
    "\n",
    "    # BatchNormalization layer to normalize input data\n",
    "    x = tf.keras.layers.BatchNormalization()(inputs)\n",
    "\n",
    "    # CNN layers to extract spatial features\n",
    "    x = tf.keras.layers.Conv1D(64, 2, activation=\"relu\", kernel_regularizer=l2(0.02))(x)\n",
    "    x = tf.keras.layers.BatchNormalization()(x)\n",
    "    x = tf.keras.layers.MaxPooling1D(pool_size=2)(x)\n",
    "\n",
    "    x = tf.keras.layers.Conv1D(64, 2, activation=\"relu\", kernel_regularizer=l2(0.02))(\n",
    "        x\n",
    "    )\n",
    "    x = tf.keras.layers.BatchNormalization()(x)\n",
    "    x = tf.keras.layers.MaxPooling1D(pool_size=2)(x)\n",
    "\n",
    "    # Reshape the output to match LSTM input requirements\n",
    "    x = tf.keras.layers.Reshape((-1, 64))(x)\n",
    "\n",
    "    # Bidirectional LSTM to capture temporal features\n",
    "    x = tf.keras.layers.Bidirectional(\n",
    "        tf.keras.layers.LSTM(64, activation=\"relu\", return_sequences=True)\n",
    "    )(x)\n",
    "    x = tf.keras.layers.Bidirectional(tf.keras.layers.LSTM(64, activation=\"relu\"))(x)\n",
    "    x = tf.keras.layers.BatchNormalization()(x)\n",
    "\n",
    "    x = tf.keras.layers.Dense(16, activation=\"relu\", kernel_regularizer=l2(0.02))(x)\n",
    "    x = tf.keras.layers.Dropout(0.4)(x)\n",
    "    x = tf.keras.layers.Dense(16, activation=\"relu\", kernel_regularizer=l2(0.02))(x)\n",
    "    x = tf.keras.layers.Dropout(0.4)(x)\n",
    "\n",
    "    outputs = tf.keras.layers.Dense(num_classes, activation=\"softmax\")(x)\n",
    "\n",
    "    model = models.Model(inputs, outputs)\n",
    "    return model\n",
    "\n",
    "\n",
    "# where 60 is the sequence length\n",
    "# and 225 is the number of features (keypoints) per frame\n",
    "input_shape = (60, 225)\n",
    "num_classes = len(ACTIONS)  # N gesture classes (4)\n",
    "\n",
    "# create the model\n",
    "model = create_cnn_rnn_model(input_shape, num_classes)\n",
    "model.summary()"
   ]
  },
  {
   "cell_type": "markdown",
   "metadata": {},
   "source": [
    "##### Setting up callbacks for training"
   ]
  },
  {
   "cell_type": "code",
   "execution_count": 42,
   "metadata": {},
   "outputs": [
    {
     "name": "stdout",
     "output_type": "stream",
     "text": [
      "Created new log directory: ../storage/logs\\train-20240616-123900\n"
     ]
    }
   ],
   "source": [
    "def create_log_dir(base_dir, use_time=False):\n",
    "    current_time = datetime.datetime.now().strftime(\"%Y%m%d-%H%M%S\")\n",
    "\n",
    "    # check existing log directories\n",
    "    existing_logs = [\n",
    "        d\n",
    "        for d in os.listdir(base_dir)\n",
    "        if os.path.isdir(os.path.join(base_dir, d)) and d.startswith(\"train-\")\n",
    "    ]\n",
    "\n",
    "    # determine the new log directory name\n",
    "    if existing_logs and not use_time:\n",
    "        latest_log = max(existing_logs)\n",
    "        log_num = int(latest_log.split(\"-\")[1]) + 1\n",
    "        new_log_dir = os.path.join(base_dir, f\"train-{str(log_num).zfill(3)}\")\n",
    "\n",
    "    if not existing_logs and not use_time:\n",
    "        new_log_dir = os.path.join(base_dir, f\"train-001\")\n",
    "\n",
    "    if use_time:\n",
    "        new_log_dir = os.path.join(base_dir, f\"train-{current_time}\")\n",
    "\n",
    "    # create the new log directory\n",
    "    os.makedirs(new_log_dir)\n",
    "    print(f\"Created new log directory: {new_log_dir}\")\n",
    "\n",
    "    return new_log_dir\n",
    "\n",
    "# callback for logging\n",
    "log_dir = os.path.join(create_log_dir(os.path.join(\"../storage/logs\"), True))\n",
    "\n",
    "logging = TensorBoard(log_dir=log_dir)"
   ]
  },
  {
   "cell_type": "markdown",
   "metadata": {},
   "source": [
    "##### Compiling Model"
   ]
  },
  {
   "cell_type": "code",
   "execution_count": 44,
   "metadata": {},
   "outputs": [],
   "source": [
    "# set the optimizer with an initial learning rate\n",
    "optimizer = Adam(learning_rate=1e-3)\n",
    "\n",
    "# compile the model with the optimizer\n",
    "model.compile(\n",
    "    optimizer=optimizer, loss=\"categorical_crossentropy\", metrics=[\"accuracy\"]\n",
    ")\n",
    "\n",
    "early_stopping = EarlyStopping(\n",
    "    monitor=\"val_loss\", patience=20, restore_best_weights=True, verbose=1\n",
    ")\n",
    "\n",
    "lr_scheduler = ReduceLROnPlateau(\n",
    "    monitor=\"val_loss\", factor=0.5, patience=10, min_lr=1e-5\n",
    ")"
   ]
  },
  {
   "cell_type": "markdown",
   "metadata": {},
   "source": [
    "##### Training Model"
   ]
  },
  {
   "cell_type": "code",
   "execution_count": 45,
   "metadata": {},
   "outputs": [
    {
     "name": "stdout",
     "output_type": "stream",
     "text": [
      "WARNING:tensorflow:From u:\\workspace\\bangkit\\capstone\\singa-machine-learning\\venv\\lib\\site-packages\\keras\\src\\backend\\common\\global_state.py:82: The name tf.reset_default_graph is deprecated. Please use tf.compat.v1.reset_default_graph instead.\n",
      "\n"
     ]
    },
    {
     "name": "stderr",
     "output_type": "stream",
     "text": [
      "WARNING:tensorflow:From u:\\workspace\\bangkit\\capstone\\singa-machine-learning\\venv\\lib\\site-packages\\keras\\src\\backend\\common\\global_state.py:82: The name tf.reset_default_graph is deprecated. Please use tf.compat.v1.reset_default_graph instead.\n",
      "\n"
     ]
    },
    {
     "name": "stdout",
     "output_type": "stream",
     "text": [
      "Epoch 1/300\n",
      "\u001b[1m120/120\u001b[0m \u001b[32m━━━━━━━━━━━━━━━━━━━━\u001b[0m\u001b[37m\u001b[0m \u001b[1m6s\u001b[0m 16ms/step - accuracy: 0.1443 - loss: 6.6211 - val_accuracy: 0.0990 - val_loss: 5.7002 - learning_rate: 0.0010\n",
      "Epoch 2/300\n",
      "\u001b[1m120/120\u001b[0m \u001b[32m━━━━━━━━━━━━━━━━━━━━\u001b[0m\u001b[37m\u001b[0m \u001b[1m1s\u001b[0m 11ms/step - accuracy: 0.3379 - loss: 4.4504 - val_accuracy: 0.2052 - val_loss: 4.5309 - learning_rate: 0.0010\n",
      "Epoch 3/300\n",
      "\u001b[1m120/120\u001b[0m \u001b[32m━━━━━━━━━━━━━━━━━━━━\u001b[0m\u001b[37m\u001b[0m \u001b[1m1s\u001b[0m 11ms/step - accuracy: 0.4261 - loss: 3.2139 - val_accuracy: 0.2750 - val_loss: 3.6215 - learning_rate: 0.0010\n",
      "Epoch 4/300\n",
      "\u001b[1m120/120\u001b[0m \u001b[32m━━━━━━━━━━━━━━━━━━━━\u001b[0m\u001b[37m\u001b[0m \u001b[1m1s\u001b[0m 12ms/step - accuracy: 0.4979 - loss: 2.4896 - val_accuracy: 0.7552 - val_loss: 2.4741 - learning_rate: 0.0010\n",
      "Epoch 5/300\n",
      "\u001b[1m120/120\u001b[0m \u001b[32m━━━━━━━━━━━━━━━━━━━━\u001b[0m\u001b[37m\u001b[0m \u001b[1m1s\u001b[0m 11ms/step - accuracy: 0.5107 - loss: 2.1133 - val_accuracy: 0.8719 - val_loss: 1.4759 - learning_rate: 0.0010\n",
      "Epoch 6/300\n",
      "\u001b[1m120/120\u001b[0m \u001b[32m━━━━━━━━━━━━━━━━━━━━\u001b[0m\u001b[37m\u001b[0m \u001b[1m1s\u001b[0m 11ms/step - accuracy: 0.5588 - loss: 1.8637 - val_accuracy: 0.9042 - val_loss: 1.0388 - learning_rate: 0.0010\n",
      "Epoch 7/300\n",
      "\u001b[1m120/120\u001b[0m \u001b[32m━━━━━━━━━━━━━━━━━━━━\u001b[0m\u001b[37m\u001b[0m \u001b[1m1s\u001b[0m 11ms/step - accuracy: 0.5195 - loss: 1.9360 - val_accuracy: 0.9010 - val_loss: 0.9111 - learning_rate: 0.0010\n",
      "Epoch 8/300\n",
      "\u001b[1m120/120\u001b[0m \u001b[32m━━━━━━━━━━━━━━━━━━━━\u001b[0m\u001b[37m\u001b[0m \u001b[1m1s\u001b[0m 11ms/step - accuracy: 0.5760 - loss: 1.7090 - val_accuracy: 0.9104 - val_loss: 0.8662 - learning_rate: 0.0010\n",
      "Epoch 9/300\n",
      "\u001b[1m120/120\u001b[0m \u001b[32m━━━━━━━━━━━━━━━━━━━━\u001b[0m\u001b[37m\u001b[0m \u001b[1m1s\u001b[0m 11ms/step - accuracy: 0.5708 - loss: 1.7211 - val_accuracy: 0.8740 - val_loss: 0.8167 - learning_rate: 0.0010\n",
      "Epoch 10/300\n",
      "\u001b[1m120/120\u001b[0m \u001b[32m━━━━━━━━━━━━━━━━━━━━\u001b[0m\u001b[37m\u001b[0m \u001b[1m1s\u001b[0m 11ms/step - accuracy: 0.6059 - loss: 1.6139 - val_accuracy: 0.8719 - val_loss: 0.8208 - learning_rate: 0.0010\n",
      "Epoch 11/300\n",
      "\u001b[1m120/120\u001b[0m \u001b[32m━━━━━━━━━━━━━━━━━━━━\u001b[0m\u001b[37m\u001b[0m \u001b[1m1s\u001b[0m 11ms/step - accuracy: 0.6057 - loss: 1.5568 - val_accuracy: 0.9396 - val_loss: 0.7471 - learning_rate: 0.0010\n",
      "Epoch 12/300\n",
      "\u001b[1m120/120\u001b[0m \u001b[32m━━━━━━━━━━━━━━━━━━━━\u001b[0m\u001b[37m\u001b[0m \u001b[1m1s\u001b[0m 11ms/step - accuracy: 0.6085 - loss: 1.5482 - val_accuracy: 0.9260 - val_loss: 0.9261 - learning_rate: 0.0010\n",
      "Epoch 13/300\n",
      "\u001b[1m120/120\u001b[0m \u001b[32m━━━━━━━━━━━━━━━━━━━━\u001b[0m\u001b[37m\u001b[0m \u001b[1m1s\u001b[0m 11ms/step - accuracy: 0.6126 - loss: 1.6343 - val_accuracy: 0.9542 - val_loss: 0.7091 - learning_rate: 0.0010\n",
      "Epoch 14/300\n",
      "\u001b[1m120/120\u001b[0m \u001b[32m━━━━━━━━━━━━━━━━━━━━\u001b[0m\u001b[37m\u001b[0m \u001b[1m1s\u001b[0m 12ms/step - accuracy: 0.6069 - loss: 1.5538 - val_accuracy: 0.9375 - val_loss: 0.7265 - learning_rate: 0.0010\n",
      "Epoch 15/300\n",
      "\u001b[1m120/120\u001b[0m \u001b[32m━━━━━━━━━━━━━━━━━━━━\u001b[0m\u001b[37m\u001b[0m \u001b[1m1s\u001b[0m 11ms/step - accuracy: 0.6147 - loss: 1.5570 - val_accuracy: 0.9646 - val_loss: 0.7114 - learning_rate: 0.0010\n",
      "Epoch 16/300\n",
      "\u001b[1m120/120\u001b[0m \u001b[32m━━━━━━━━━━━━━━━━━━━━\u001b[0m\u001b[37m\u001b[0m \u001b[1m1s\u001b[0m 11ms/step - accuracy: 0.6249 - loss: 1.4988 - val_accuracy: 0.9521 - val_loss: 0.7897 - learning_rate: 0.0010\n",
      "Epoch 17/300\n",
      "\u001b[1m120/120\u001b[0m \u001b[32m━━━━━━━━━━━━━━━━━━━━\u001b[0m\u001b[37m\u001b[0m \u001b[1m1s\u001b[0m 11ms/step - accuracy: 0.6230 - loss: 1.5230 - val_accuracy: 0.9656 - val_loss: 0.6464 - learning_rate: 0.0010\n",
      "Epoch 18/300\n",
      "\u001b[1m120/120\u001b[0m \u001b[32m━━━━━━━━━━━━━━━━━━━━\u001b[0m\u001b[37m\u001b[0m \u001b[1m1s\u001b[0m 12ms/step - accuracy: 0.6495 - loss: 1.3806 - val_accuracy: 0.9229 - val_loss: 1.2219 - learning_rate: 0.0010\n",
      "Epoch 19/300\n",
      "\u001b[1m120/120\u001b[0m \u001b[32m━━━━━━━━━━━━━━━━━━━━\u001b[0m\u001b[37m\u001b[0m \u001b[1m1s\u001b[0m 11ms/step - accuracy: 0.6373 - loss: 1.5658 - val_accuracy: 0.9990 - val_loss: 0.5956 - learning_rate: 0.0010\n",
      "Epoch 20/300\n",
      "\u001b[1m120/120\u001b[0m \u001b[32m━━━━━━━━━━━━━━━━━━━━\u001b[0m\u001b[37m\u001b[0m \u001b[1m1s\u001b[0m 11ms/step - accuracy: 0.6433 - loss: 1.4566 - val_accuracy: 0.9802 - val_loss: 0.7114 - learning_rate: 0.0010\n",
      "Epoch 21/300\n",
      "\u001b[1m120/120\u001b[0m \u001b[32m━━━━━━━━━━━━━━━━━━━━\u001b[0m\u001b[37m\u001b[0m \u001b[1m1s\u001b[0m 12ms/step - accuracy: 0.6654 - loss: 1.4243 - val_accuracy: 0.9167 - val_loss: 0.9306 - learning_rate: 0.0010\n",
      "Epoch 22/300\n",
      "\u001b[1m120/120\u001b[0m \u001b[32m━━━━━━━━━━━━━━━━━━━━\u001b[0m\u001b[37m\u001b[0m \u001b[1m1s\u001b[0m 12ms/step - accuracy: 0.6302 - loss: 1.6222 - val_accuracy: 1.0000 - val_loss: 0.6235 - learning_rate: 0.0010\n",
      "Epoch 23/300\n",
      "\u001b[1m120/120\u001b[0m \u001b[32m━━━━━━━━━━━━━━━━━━━━\u001b[0m\u001b[37m\u001b[0m \u001b[1m1s\u001b[0m 12ms/step - accuracy: 0.6696 - loss: 1.3651 - val_accuracy: 0.9927 - val_loss: 0.5823 - learning_rate: 0.0010\n",
      "Epoch 24/300\n",
      "\u001b[1m120/120\u001b[0m \u001b[32m━━━━━━━━━━━━━━━━━━━━\u001b[0m\u001b[37m\u001b[0m \u001b[1m1s\u001b[0m 12ms/step - accuracy: 0.6708 - loss: 1.3118 - val_accuracy: 1.0000 - val_loss: 0.5005 - learning_rate: 0.0010\n",
      "Epoch 25/300\n",
      "\u001b[1m120/120\u001b[0m \u001b[32m━━━━━━━━━━━━━━━━━━━━\u001b[0m\u001b[37m\u001b[0m \u001b[1m1s\u001b[0m 12ms/step - accuracy: 0.6824 - loss: 1.3114 - val_accuracy: 0.9344 - val_loss: 0.7088 - learning_rate: 0.0010\n",
      "Epoch 26/300\n",
      "\u001b[1m120/120\u001b[0m \u001b[32m━━━━━━━━━━━━━━━━━━━━\u001b[0m\u001b[37m\u001b[0m \u001b[1m1s\u001b[0m 12ms/step - accuracy: 0.6655 - loss: 1.3943 - val_accuracy: 1.0000 - val_loss: 0.5375 - learning_rate: 0.0010\n",
      "Epoch 27/300\n",
      "\u001b[1m120/120\u001b[0m \u001b[32m━━━━━━━━━━━━━━━━━━━━\u001b[0m\u001b[37m\u001b[0m \u001b[1m1s\u001b[0m 12ms/step - accuracy: 0.6632 - loss: 1.3350 - val_accuracy: 1.0000 - val_loss: 0.4943 - learning_rate: 0.0010\n",
      "Epoch 28/300\n",
      "\u001b[1m120/120\u001b[0m \u001b[32m━━━━━━━━━━━━━━━━━━━━\u001b[0m\u001b[37m\u001b[0m \u001b[1m1s\u001b[0m 12ms/step - accuracy: 0.6665 - loss: 1.2956 - val_accuracy: 0.9823 - val_loss: 0.5159 - learning_rate: 0.0010\n",
      "Epoch 29/300\n",
      "\u001b[1m120/120\u001b[0m \u001b[32m━━━━━━━━━━━━━━━━━━━━\u001b[0m\u001b[37m\u001b[0m \u001b[1m1s\u001b[0m 12ms/step - accuracy: 0.6615 - loss: 1.3666 - val_accuracy: 1.0000 - val_loss: 0.5023 - learning_rate: 0.0010\n",
      "Epoch 30/300\n",
      "\u001b[1m120/120\u001b[0m \u001b[32m━━━━━━━━━━━━━━━━━━━━\u001b[0m\u001b[37m\u001b[0m \u001b[1m1s\u001b[0m 12ms/step - accuracy: 0.6839 - loss: 1.2795 - val_accuracy: 0.9969 - val_loss: 0.4981 - learning_rate: 0.0010\n",
      "Epoch 31/300\n",
      "\u001b[1m120/120\u001b[0m \u001b[32m━━━━━━━━━━━━━━━━━━━━\u001b[0m\u001b[37m\u001b[0m \u001b[1m1s\u001b[0m 12ms/step - accuracy: 0.6842 - loss: 1.2835 - val_accuracy: 0.9927 - val_loss: 0.5921 - learning_rate: 0.0010\n",
      "Epoch 32/300\n",
      "\u001b[1m120/120\u001b[0m \u001b[32m━━━━━━━━━━━━━━━━━━━━\u001b[0m\u001b[37m\u001b[0m \u001b[1m1s\u001b[0m 12ms/step - accuracy: 0.6760 - loss: 1.4475 - val_accuracy: 0.9969 - val_loss: 0.5554 - learning_rate: 0.0010\n",
      "Epoch 33/300\n",
      "\u001b[1m120/120\u001b[0m \u001b[32m━━━━━━━━━━━━━━━━━━━━\u001b[0m\u001b[37m\u001b[0m \u001b[1m1s\u001b[0m 12ms/step - accuracy: 0.6771 - loss: 1.3412 - val_accuracy: 0.9990 - val_loss: 0.5013 - learning_rate: 0.0010\n",
      "Epoch 34/300\n",
      "\u001b[1m120/120\u001b[0m \u001b[32m━━━━━━━━━━━━━━━━━━━━\u001b[0m\u001b[37m\u001b[0m \u001b[1m1s\u001b[0m 12ms/step - accuracy: 0.7112 - loss: 1.2350 - val_accuracy: 0.9812 - val_loss: 0.4753 - learning_rate: 0.0010\n",
      "Epoch 35/300\n",
      "\u001b[1m120/120\u001b[0m \u001b[32m━━━━━━━━━━━━━━━━━━━━\u001b[0m\u001b[37m\u001b[0m \u001b[1m1s\u001b[0m 12ms/step - accuracy: 0.6737 - loss: 1.3592 - val_accuracy: 0.9990 - val_loss: 0.5892 - learning_rate: 0.0010\n",
      "Epoch 36/300\n",
      "\u001b[1m120/120\u001b[0m \u001b[32m━━━━━━━━━━━━━━━━━━━━\u001b[0m\u001b[37m\u001b[0m \u001b[1m1s\u001b[0m 12ms/step - accuracy: 0.6836 - loss: 1.4154 - val_accuracy: 0.9979 - val_loss: 0.5886 - learning_rate: 0.0010\n",
      "Epoch 37/300\n",
      "\u001b[1m120/120\u001b[0m \u001b[32m━━━━━━━━━━━━━━━━━━━━\u001b[0m\u001b[37m\u001b[0m \u001b[1m1s\u001b[0m 12ms/step - accuracy: 0.6925 - loss: 1.3494 - val_accuracy: 0.9990 - val_loss: 0.5546 - learning_rate: 0.0010\n",
      "Epoch 38/300\n",
      "\u001b[1m120/120\u001b[0m \u001b[32m━━━━━━━━━━━━━━━━━━━━\u001b[0m\u001b[37m\u001b[0m \u001b[1m2s\u001b[0m 13ms/step - accuracy: 0.6907 - loss: 1.3028 - val_accuracy: 0.9990 - val_loss: 0.5192 - learning_rate: 0.0010\n",
      "Epoch 39/300\n",
      "\u001b[1m120/120\u001b[0m \u001b[32m━━━━━━━━━━━━━━━━━━━━\u001b[0m\u001b[37m\u001b[0m \u001b[1m2s\u001b[0m 12ms/step - accuracy: 0.7055 - loss: 1.2518 - val_accuracy: 0.9927 - val_loss: 0.5134 - learning_rate: 0.0010\n",
      "Epoch 40/300\n",
      "\u001b[1m120/120\u001b[0m \u001b[32m━━━━━━━━━━━━━━━━━━━━\u001b[0m\u001b[37m\u001b[0m \u001b[1m1s\u001b[0m 12ms/step - accuracy: 0.6940 - loss: 1.3132 - val_accuracy: 0.9958 - val_loss: 0.5024 - learning_rate: 0.0010\n",
      "Epoch 41/300\n",
      "\u001b[1m120/120\u001b[0m \u001b[32m━━━━━━━━━━━━━━━━━━━━\u001b[0m\u001b[37m\u001b[0m \u001b[1m2s\u001b[0m 12ms/step - accuracy: 0.7076 - loss: 1.2440 - val_accuracy: 0.9729 - val_loss: 0.6754 - learning_rate: 0.0010\n",
      "Epoch 42/300\n",
      "\u001b[1m120/120\u001b[0m \u001b[32m━━━━━━━━━━━━━━━━━━━━\u001b[0m\u001b[37m\u001b[0m \u001b[1m2s\u001b[0m 12ms/step - accuracy: 0.7035 - loss: 1.2832 - val_accuracy: 0.9990 - val_loss: 0.4555 - learning_rate: 0.0010\n",
      "Epoch 43/300\n",
      "\u001b[1m120/120\u001b[0m \u001b[32m━━━━━━━━━━━━━━━━━━━━\u001b[0m\u001b[37m\u001b[0m \u001b[1m1s\u001b[0m 12ms/step - accuracy: 0.7213 - loss: 1.2108 - val_accuracy: 0.9875 - val_loss: 0.6237 - learning_rate: 0.0010\n",
      "Epoch 44/300\n",
      "\u001b[1m120/120\u001b[0m \u001b[32m━━━━━━━━━━━━━━━━━━━━\u001b[0m\u001b[37m\u001b[0m \u001b[1m1s\u001b[0m 12ms/step - accuracy: 0.6961 - loss: 1.3183 - val_accuracy: 0.9375 - val_loss: 0.7366 - learning_rate: 0.0010\n",
      "Epoch 45/300\n",
      "\u001b[1m120/120\u001b[0m \u001b[32m━━━━━━━━━━━━━━━━━━━━\u001b[0m\u001b[37m\u001b[0m \u001b[1m2s\u001b[0m 13ms/step - accuracy: 0.6880 - loss: 1.2870 - val_accuracy: 1.0000 - val_loss: 0.4520 - learning_rate: 0.0010\n",
      "Epoch 46/300\n",
      "\u001b[1m120/120\u001b[0m \u001b[32m━━━━━━━━━━━━━━━━━━━━\u001b[0m\u001b[37m\u001b[0m \u001b[1m2s\u001b[0m 12ms/step - accuracy: 0.7295 - loss: 1.2022 - val_accuracy: 1.0000 - val_loss: 0.4520 - learning_rate: 0.0010\n",
      "Epoch 47/300\n",
      "\u001b[1m120/120\u001b[0m \u001b[32m━━━━━━━━━━━━━━━━━━━━\u001b[0m\u001b[37m\u001b[0m \u001b[1m1s\u001b[0m 12ms/step - accuracy: 0.7218 - loss: 1.1997 - val_accuracy: 0.9979 - val_loss: 0.4367 - learning_rate: 0.0010\n",
      "Epoch 48/300\n",
      "\u001b[1m120/120\u001b[0m \u001b[32m━━━━━━━━━━━━━━━━━━━━\u001b[0m\u001b[37m\u001b[0m \u001b[1m2s\u001b[0m 12ms/step - accuracy: 0.7211 - loss: 1.1283 - val_accuracy: 0.9969 - val_loss: 0.4429 - learning_rate: 0.0010\n",
      "Epoch 49/300\n",
      "\u001b[1m120/120\u001b[0m \u001b[32m━━━━━━━━━━━━━━━━━━━━\u001b[0m\u001b[37m\u001b[0m \u001b[1m2s\u001b[0m 13ms/step - accuracy: 0.6981 - loss: 1.3091 - val_accuracy: 0.9979 - val_loss: 0.5583 - learning_rate: 0.0010\n",
      "Epoch 50/300\n",
      "\u001b[1m120/120\u001b[0m \u001b[32m━━━━━━━━━━━━━━━━━━━━\u001b[0m\u001b[37m\u001b[0m \u001b[1m2s\u001b[0m 13ms/step - accuracy: 0.7143 - loss: 1.2382 - val_accuracy: 0.9844 - val_loss: 0.5062 - learning_rate: 0.0010\n",
      "Epoch 51/300\n",
      "\u001b[1m120/120\u001b[0m \u001b[32m━━━━━━━━━━━━━━━━━━━━\u001b[0m\u001b[37m\u001b[0m \u001b[1m1s\u001b[0m 12ms/step - accuracy: 0.7029 - loss: 1.1952 - val_accuracy: 0.9812 - val_loss: 0.6071 - learning_rate: 0.0010\n",
      "Epoch 52/300\n",
      "\u001b[1m120/120\u001b[0m \u001b[32m━━━━━━━━━━━━━━━━━━━━\u001b[0m\u001b[37m\u001b[0m \u001b[1m2s\u001b[0m 13ms/step - accuracy: 0.6890 - loss: 1.3152 - val_accuracy: 1.0000 - val_loss: 0.4486 - learning_rate: 0.0010\n",
      "Epoch 53/300\n",
      "\u001b[1m120/120\u001b[0m \u001b[32m━━━━━━━━━━━━━━━━━━━━\u001b[0m\u001b[37m\u001b[0m \u001b[1m2s\u001b[0m 12ms/step - accuracy: 0.7118 - loss: 1.2224 - val_accuracy: 0.9875 - val_loss: 0.4991 - learning_rate: 0.0010\n",
      "Epoch 54/300\n",
      "\u001b[1m120/120\u001b[0m \u001b[32m━━━━━━━━━━━━━━━━━━━━\u001b[0m\u001b[37m\u001b[0m \u001b[1m1s\u001b[0m 12ms/step - accuracy: 0.7244 - loss: 1.2251 - val_accuracy: 0.9990 - val_loss: 0.4396 - learning_rate: 0.0010\n",
      "Epoch 55/300\n",
      "\u001b[1m120/120\u001b[0m \u001b[32m━━━━━━━━━━━━━━━━━━━━\u001b[0m\u001b[37m\u001b[0m \u001b[1m2s\u001b[0m 13ms/step - accuracy: 0.7239 - loss: 1.1599 - val_accuracy: 0.9917 - val_loss: 0.5015 - learning_rate: 0.0010\n",
      "Epoch 56/300\n",
      "\u001b[1m120/120\u001b[0m \u001b[32m━━━━━━━━━━━━━━━━━━━━\u001b[0m\u001b[37m\u001b[0m \u001b[1m2s\u001b[0m 12ms/step - accuracy: 0.7103 - loss: 1.1547 - val_accuracy: 0.9542 - val_loss: 0.4809 - learning_rate: 0.0010\n",
      "Epoch 57/300\n",
      "\u001b[1m120/120\u001b[0m \u001b[32m━━━━━━━━━━━━━━━━━━━━\u001b[0m\u001b[37m\u001b[0m \u001b[1m1s\u001b[0m 12ms/step - accuracy: 0.6937 - loss: 1.2070 - val_accuracy: 0.9594 - val_loss: 0.5533 - learning_rate: 0.0010\n",
      "Epoch 58/300\n",
      "\u001b[1m120/120\u001b[0m \u001b[32m━━━━━━━━━━━━━━━━━━━━\u001b[0m\u001b[37m\u001b[0m \u001b[1m2s\u001b[0m 13ms/step - accuracy: 0.6931 - loss: 1.2278 - val_accuracy: 1.0000 - val_loss: 0.4152 - learning_rate: 5.0000e-04\n",
      "Epoch 59/300\n",
      "\u001b[1m120/120\u001b[0m \u001b[32m━━━━━━━━━━━━━━━━━━━━\u001b[0m\u001b[37m\u001b[0m \u001b[1m2s\u001b[0m 13ms/step - accuracy: 0.7210 - loss: 1.1096 - val_accuracy: 1.0000 - val_loss: 0.3873 - learning_rate: 5.0000e-04\n",
      "Epoch 60/300\n",
      "\u001b[1m120/120\u001b[0m \u001b[32m━━━━━━━━━━━━━━━━━━━━\u001b[0m\u001b[37m\u001b[0m \u001b[1m1s\u001b[0m 12ms/step - accuracy: 0.7416 - loss: 1.0385 - val_accuracy: 1.0000 - val_loss: 0.3601 - learning_rate: 5.0000e-04\n",
      "Epoch 61/300\n",
      "\u001b[1m120/120\u001b[0m \u001b[32m━━━━━━━━━━━━━━━━━━━━\u001b[0m\u001b[37m\u001b[0m \u001b[1m2s\u001b[0m 12ms/step - accuracy: 0.7446 - loss: 1.0103 - val_accuracy: 0.9760 - val_loss: 0.5215 - learning_rate: 5.0000e-04\n",
      "Epoch 62/300\n",
      "\u001b[1m120/120\u001b[0m \u001b[32m━━━━━━━━━━━━━━━━━━━━\u001b[0m\u001b[37m\u001b[0m \u001b[1m1s\u001b[0m 12ms/step - accuracy: 0.7332 - loss: 1.1325 - val_accuracy: 1.0000 - val_loss: 0.3603 - learning_rate: 5.0000e-04\n",
      "Epoch 63/300\n",
      "\u001b[1m120/120\u001b[0m \u001b[32m━━━━━━━━━━━━━━━━━━━━\u001b[0m\u001b[37m\u001b[0m \u001b[1m2s\u001b[0m 13ms/step - accuracy: 0.7454 - loss: 1.0465 - val_accuracy: 1.0000 - val_loss: 0.3474 - learning_rate: 5.0000e-04\n",
      "Epoch 64/300\n",
      "\u001b[1m120/120\u001b[0m \u001b[32m━━━━━━━━━━━━━━━━━━━━\u001b[0m\u001b[37m\u001b[0m \u001b[1m2s\u001b[0m 13ms/step - accuracy: 0.7443 - loss: 1.0009 - val_accuracy: 0.9979 - val_loss: 0.3532 - learning_rate: 5.0000e-04\n",
      "Epoch 65/300\n",
      "\u001b[1m120/120\u001b[0m \u001b[32m━━━━━━━━━━━━━━━━━━━━\u001b[0m\u001b[37m\u001b[0m \u001b[1m1s\u001b[0m 12ms/step - accuracy: 0.7694 - loss: 0.9469 - val_accuracy: 1.0000 - val_loss: 0.3232 - learning_rate: 5.0000e-04\n",
      "Epoch 66/300\n",
      "\u001b[1m120/120\u001b[0m \u001b[32m━━━━━━━━━━━━━━━━━━━━\u001b[0m\u001b[37m\u001b[0m \u001b[1m2s\u001b[0m 13ms/step - accuracy: 0.7210 - loss: 1.1841 - val_accuracy: 0.9990 - val_loss: 0.3850 - learning_rate: 5.0000e-04\n",
      "Epoch 67/300\n",
      "\u001b[1m120/120\u001b[0m \u001b[32m━━━━━━━━━━━━━━━━━━━━\u001b[0m\u001b[37m\u001b[0m \u001b[1m2s\u001b[0m 13ms/step - accuracy: 0.7458 - loss: 1.0712 - val_accuracy: 0.9990 - val_loss: 0.3770 - learning_rate: 5.0000e-04\n",
      "Epoch 68/300\n",
      "\u001b[1m120/120\u001b[0m \u001b[32m━━━━━━━━━━━━━━━━━━━━\u001b[0m\u001b[37m\u001b[0m \u001b[1m1s\u001b[0m 12ms/step - accuracy: 0.7436 - loss: 1.0674 - val_accuracy: 0.9990 - val_loss: 0.3666 - learning_rate: 5.0000e-04\n",
      "Epoch 69/300\n",
      "\u001b[1m120/120\u001b[0m \u001b[32m━━━━━━━━━━━━━━━━━━━━\u001b[0m\u001b[37m\u001b[0m \u001b[1m1s\u001b[0m 12ms/step - accuracy: 0.7311 - loss: 1.0594 - val_accuracy: 1.0000 - val_loss: 0.3532 - learning_rate: 5.0000e-04\n",
      "Epoch 70/300\n",
      "\u001b[1m120/120\u001b[0m \u001b[32m━━━━━━━━━━━━━━━━━━━━\u001b[0m\u001b[37m\u001b[0m \u001b[1m2s\u001b[0m 13ms/step - accuracy: 0.7508 - loss: 1.0141 - val_accuracy: 1.0000 - val_loss: 0.3400 - learning_rate: 5.0000e-04\n",
      "Epoch 71/300\n",
      "\u001b[1m120/120\u001b[0m \u001b[32m━━━━━━━━━━━━━━━━━━━━\u001b[0m\u001b[37m\u001b[0m \u001b[1m2s\u001b[0m 13ms/step - accuracy: 0.7503 - loss: 0.9946 - val_accuracy: 1.0000 - val_loss: 0.3257 - learning_rate: 5.0000e-04\n",
      "Epoch 72/300\n",
      "\u001b[1m120/120\u001b[0m \u001b[32m━━━━━━━━━━━━━━━━━━━━\u001b[0m\u001b[37m\u001b[0m \u001b[1m1s\u001b[0m 12ms/step - accuracy: 0.7608 - loss: 0.9475 - val_accuracy: 1.0000 - val_loss: 0.3153 - learning_rate: 5.0000e-04\n",
      "Epoch 73/300\n",
      "\u001b[1m120/120\u001b[0m \u001b[32m━━━━━━━━━━━━━━━━━━━━\u001b[0m\u001b[37m\u001b[0m \u001b[1m2s\u001b[0m 13ms/step - accuracy: 0.7420 - loss: 0.9736 - val_accuracy: 1.0000 - val_loss: 0.3021 - learning_rate: 5.0000e-04\n",
      "Epoch 74/300\n",
      "\u001b[1m120/120\u001b[0m \u001b[32m━━━━━━━━━━━━━━━━━━━━\u001b[0m\u001b[37m\u001b[0m \u001b[1m1s\u001b[0m 12ms/step - accuracy: 0.7545 - loss: 0.9814 - val_accuracy: 1.0000 - val_loss: 0.3125 - learning_rate: 5.0000e-04\n",
      "Epoch 75/300\n",
      "\u001b[1m120/120\u001b[0m \u001b[32m━━━━━━━━━━━━━━━━━━━━\u001b[0m\u001b[37m\u001b[0m \u001b[1m1s\u001b[0m 12ms/step - accuracy: 0.7570 - loss: 0.9284 - val_accuracy: 0.9750 - val_loss: 0.3983 - learning_rate: 5.0000e-04\n",
      "Epoch 76/300\n",
      "\u001b[1m120/120\u001b[0m \u001b[32m━━━━━━━━━━━━━━━━━━━━\u001b[0m\u001b[37m\u001b[0m \u001b[1m2s\u001b[0m 13ms/step - accuracy: 0.7489 - loss: 1.0671 - val_accuracy: 1.0000 - val_loss: 0.3379 - learning_rate: 5.0000e-04\n",
      "Epoch 77/300\n",
      "\u001b[1m120/120\u001b[0m \u001b[32m━━━━━━━━━━━━━━━━━━━━\u001b[0m\u001b[37m\u001b[0m \u001b[1m1s\u001b[0m 12ms/step - accuracy: 0.7427 - loss: 1.0061 - val_accuracy: 1.0000 - val_loss: 0.3251 - learning_rate: 5.0000e-04\n",
      "Epoch 78/300\n",
      "\u001b[1m120/120\u001b[0m \u001b[32m━━━━━━━━━━━━━━━━━━━━\u001b[0m\u001b[37m\u001b[0m \u001b[1m2s\u001b[0m 13ms/step - accuracy: 0.7596 - loss: 0.9642 - val_accuracy: 1.0000 - val_loss: 0.3108 - learning_rate: 5.0000e-04\n",
      "Epoch 79/300\n",
      "\u001b[1m120/120\u001b[0m \u001b[32m━━━━━━━━━━━━━━━━━━━━\u001b[0m\u001b[37m\u001b[0m \u001b[1m1s\u001b[0m 12ms/step - accuracy: 0.7528 - loss: 0.9554 - val_accuracy: 0.9854 - val_loss: 0.3623 - learning_rate: 5.0000e-04\n",
      "Epoch 80/300\n",
      "\u001b[1m120/120\u001b[0m \u001b[32m━━━━━━━━━━━━━━━━━━━━\u001b[0m\u001b[37m\u001b[0m \u001b[1m2s\u001b[0m 13ms/step - accuracy: 0.7689 - loss: 0.9537 - val_accuracy: 0.9990 - val_loss: 0.3166 - learning_rate: 5.0000e-04\n",
      "Epoch 81/300\n",
      "\u001b[1m120/120\u001b[0m \u001b[32m━━━━━━━━━━━━━━━━━━━━\u001b[0m\u001b[37m\u001b[0m \u001b[1m2s\u001b[0m 13ms/step - accuracy: 0.7604 - loss: 0.9467 - val_accuracy: 1.0000 - val_loss: 0.2972 - learning_rate: 5.0000e-04\n",
      "Epoch 82/300\n",
      "\u001b[1m120/120\u001b[0m \u001b[32m━━━━━━━━━━━━━━━━━━━━\u001b[0m\u001b[37m\u001b[0m \u001b[1m1s\u001b[0m 12ms/step - accuracy: 0.7680 - loss: 0.9133 - val_accuracy: 0.9990 - val_loss: 0.3162 - learning_rate: 5.0000e-04\n",
      "Epoch 83/300\n",
      "\u001b[1m120/120\u001b[0m \u001b[32m━━━━━━━━━━━━━━━━━━━━\u001b[0m\u001b[37m\u001b[0m \u001b[1m2s\u001b[0m 13ms/step - accuracy: 0.7616 - loss: 0.9980 - val_accuracy: 0.9833 - val_loss: 0.4215 - learning_rate: 5.0000e-04\n",
      "Epoch 84/300\n",
      "\u001b[1m120/120\u001b[0m \u001b[32m━━━━━━━━━━━━━━━━━━━━\u001b[0m\u001b[37m\u001b[0m \u001b[1m2s\u001b[0m 13ms/step - accuracy: 0.7579 - loss: 1.0127 - val_accuracy: 0.9990 - val_loss: 0.3482 - learning_rate: 5.0000e-04\n",
      "Epoch 85/300\n",
      "\u001b[1m120/120\u001b[0m \u001b[32m━━━━━━━━━━━━━━━━━━━━\u001b[0m\u001b[37m\u001b[0m \u001b[1m2s\u001b[0m 12ms/step - accuracy: 0.7705 - loss: 0.9557 - val_accuracy: 1.0000 - val_loss: 0.3236 - learning_rate: 5.0000e-04\n",
      "Epoch 86/300\n",
      "\u001b[1m120/120\u001b[0m \u001b[32m━━━━━━━━━━━━━━━━━━━━\u001b[0m\u001b[37m\u001b[0m \u001b[1m2s\u001b[0m 13ms/step - accuracy: 0.7437 - loss: 1.0092 - val_accuracy: 0.9969 - val_loss: 0.3234 - learning_rate: 5.0000e-04\n",
      "Epoch 87/300\n",
      "\u001b[1m120/120\u001b[0m \u001b[32m━━━━━━━━━━━━━━━━━━━━\u001b[0m\u001b[37m\u001b[0m \u001b[1m2s\u001b[0m 12ms/step - accuracy: 0.7560 - loss: 0.9414 - val_accuracy: 1.0000 - val_loss: 0.3090 - learning_rate: 5.0000e-04\n",
      "Epoch 88/300\n",
      "\u001b[1m120/120\u001b[0m \u001b[32m━━━━━━━━━━━━━━━━━━━━\u001b[0m\u001b[37m\u001b[0m \u001b[1m2s\u001b[0m 12ms/step - accuracy: 0.7638 - loss: 0.9242 - val_accuracy: 1.0000 - val_loss: 0.3057 - learning_rate: 5.0000e-04\n",
      "Epoch 89/300\n",
      "\u001b[1m120/120\u001b[0m \u001b[32m━━━━━━━━━━━━━━━━━━━━\u001b[0m\u001b[37m\u001b[0m \u001b[1m2s\u001b[0m 13ms/step - accuracy: 0.7629 - loss: 0.9099 - val_accuracy: 1.0000 - val_loss: 0.2864 - learning_rate: 5.0000e-04\n",
      "Epoch 90/300\n",
      "\u001b[1m120/120\u001b[0m \u001b[32m━━━━━━━━━━━━━━━━━━━━\u001b[0m\u001b[37m\u001b[0m \u001b[1m2s\u001b[0m 13ms/step - accuracy: 0.7674 - loss: 0.8948 - val_accuracy: 1.0000 - val_loss: 0.2762 - learning_rate: 5.0000e-04\n",
      "Epoch 91/300\n",
      "\u001b[1m120/120\u001b[0m \u001b[32m━━━━━━━━━━━━━━━━━━━━\u001b[0m\u001b[37m\u001b[0m \u001b[1m2s\u001b[0m 13ms/step - accuracy: 0.7756 - loss: 0.8725 - val_accuracy: 1.0000 - val_loss: 0.2676 - learning_rate: 5.0000e-04\n",
      "Epoch 92/300\n",
      "\u001b[1m120/120\u001b[0m \u001b[32m━━━━━━━━━━━━━━━━━━━━\u001b[0m\u001b[37m\u001b[0m \u001b[1m2s\u001b[0m 13ms/step - accuracy: 0.7751 - loss: 0.8719 - val_accuracy: 1.0000 - val_loss: 0.2575 - learning_rate: 5.0000e-04\n",
      "Epoch 93/300\n",
      "\u001b[1m120/120\u001b[0m \u001b[32m━━━━━━━━━━━━━━━━━━━━\u001b[0m\u001b[37m\u001b[0m \u001b[1m2s\u001b[0m 13ms/step - accuracy: 0.7653 - loss: 0.8705 - val_accuracy: 1.0000 - val_loss: 0.2524 - learning_rate: 5.0000e-04\n",
      "Epoch 94/300\n",
      "\u001b[1m120/120\u001b[0m \u001b[32m━━━━━━━━━━━━━━━━━━━━\u001b[0m\u001b[37m\u001b[0m \u001b[1m2s\u001b[0m 13ms/step - accuracy: 0.7760 - loss: 0.8367 - val_accuracy: 1.0000 - val_loss: 0.2427 - learning_rate: 5.0000e-04\n",
      "Epoch 95/300\n",
      "\u001b[1m120/120\u001b[0m \u001b[32m━━━━━━━━━━━━━━━━━━━━\u001b[0m\u001b[37m\u001b[0m \u001b[1m2s\u001b[0m 13ms/step - accuracy: 0.7322 - loss: 1.0553 - val_accuracy: 0.9969 - val_loss: 0.3801 - learning_rate: 5.0000e-04\n",
      "Epoch 96/300\n",
      "\u001b[1m120/120\u001b[0m \u001b[32m━━━━━━━━━━━━━━━━━━━━\u001b[0m\u001b[37m\u001b[0m \u001b[1m2s\u001b[0m 13ms/step - accuracy: 0.7475 - loss: 1.0370 - val_accuracy: 0.9833 - val_loss: 0.3739 - learning_rate: 5.0000e-04\n",
      "Epoch 97/300\n",
      "\u001b[1m120/120\u001b[0m \u001b[32m━━━━━━━━━━━━━━━━━━━━\u001b[0m\u001b[37m\u001b[0m \u001b[1m2s\u001b[0m 12ms/step - accuracy: 0.7607 - loss: 0.9635 - val_accuracy: 0.9990 - val_loss: 0.3351 - learning_rate: 5.0000e-04\n",
      "Epoch 98/300\n",
      "\u001b[1m120/120\u001b[0m \u001b[32m━━━━━━━━━━━━━━━━━━━━\u001b[0m\u001b[37m\u001b[0m \u001b[1m2s\u001b[0m 12ms/step - accuracy: 0.7510 - loss: 0.9678 - val_accuracy: 0.9990 - val_loss: 0.3236 - learning_rate: 5.0000e-04\n",
      "Epoch 99/300\n",
      "\u001b[1m120/120\u001b[0m \u001b[32m━━━━━━━━━━━━━━━━━━━━\u001b[0m\u001b[37m\u001b[0m \u001b[1m2s\u001b[0m 13ms/step - accuracy: 0.7877 - loss: 0.9043 - val_accuracy: 1.0000 - val_loss: 0.3144 - learning_rate: 5.0000e-04\n",
      "Epoch 100/300\n",
      "\u001b[1m120/120\u001b[0m \u001b[32m━━━━━━━━━━━━━━━━━━━━\u001b[0m\u001b[37m\u001b[0m \u001b[1m2s\u001b[0m 13ms/step - accuracy: 0.7619 - loss: 0.9729 - val_accuracy: 1.0000 - val_loss: 0.3159 - learning_rate: 5.0000e-04\n",
      "Epoch 101/300\n",
      "\u001b[1m120/120\u001b[0m \u001b[32m━━━━━━━━━━━━━━━━━━━━\u001b[0m\u001b[37m\u001b[0m \u001b[1m2s\u001b[0m 13ms/step - accuracy: 0.7610 - loss: 0.9427 - val_accuracy: 1.0000 - val_loss: 0.3052 - learning_rate: 5.0000e-04\n",
      "Epoch 102/300\n",
      "\u001b[1m120/120\u001b[0m \u001b[32m━━━━━━━━━━━━━━━━━━━━\u001b[0m\u001b[37m\u001b[0m \u001b[1m2s\u001b[0m 12ms/step - accuracy: 0.7630 - loss: 0.9242 - val_accuracy: 1.0000 - val_loss: 0.2891 - learning_rate: 5.0000e-04\n",
      "Epoch 103/300\n",
      "\u001b[1m120/120\u001b[0m \u001b[32m━━━━━━━━━━━━━━━━━━━━\u001b[0m\u001b[37m\u001b[0m \u001b[1m2s\u001b[0m 13ms/step - accuracy: 0.7611 - loss: 0.9263 - val_accuracy: 0.9563 - val_loss: 0.4593 - learning_rate: 5.0000e-04\n",
      "Epoch 104/300\n",
      "\u001b[1m120/120\u001b[0m \u001b[32m━━━━━━━━━━━━━━━━━━━━\u001b[0m\u001b[37m\u001b[0m \u001b[1m2s\u001b[0m 13ms/step - accuracy: 0.7670 - loss: 0.9216 - val_accuracy: 0.9990 - val_loss: 0.2760 - learning_rate: 5.0000e-04\n",
      "Epoch 105/300\n",
      "\u001b[1m120/120\u001b[0m \u001b[32m━━━━━━━━━━━━━━━━━━━━\u001b[0m\u001b[37m\u001b[0m \u001b[1m2s\u001b[0m 12ms/step - accuracy: 0.7819 - loss: 0.8460 - val_accuracy: 1.0000 - val_loss: 0.2675 - learning_rate: 2.5000e-04\n",
      "Epoch 106/300\n",
      "\u001b[1m120/120\u001b[0m \u001b[32m━━━━━━━━━━━━━━━━━━━━\u001b[0m\u001b[37m\u001b[0m \u001b[1m2s\u001b[0m 13ms/step - accuracy: 0.7699 - loss: 0.8851 - val_accuracy: 1.0000 - val_loss: 0.2616 - learning_rate: 2.5000e-04\n",
      "Epoch 107/300\n",
      "\u001b[1m120/120\u001b[0m \u001b[32m━━━━━━━━━━━━━━━━━━━━\u001b[0m\u001b[37m\u001b[0m \u001b[1m2s\u001b[0m 13ms/step - accuracy: 0.7831 - loss: 0.8714 - val_accuracy: 1.0000 - val_loss: 0.2634 - learning_rate: 2.5000e-04\n",
      "Epoch 108/300\n",
      "\u001b[1m120/120\u001b[0m \u001b[32m━━━━━━━━━━━━━━━━━━━━\u001b[0m\u001b[37m\u001b[0m \u001b[1m2s\u001b[0m 13ms/step - accuracy: 0.7775 - loss: 0.8889 - val_accuracy: 1.0000 - val_loss: 0.2575 - learning_rate: 2.5000e-04\n",
      "Epoch 109/300\n",
      "\u001b[1m120/120\u001b[0m \u001b[32m━━━━━━━━━━━━━━━━━━━━\u001b[0m\u001b[37m\u001b[0m \u001b[1m2s\u001b[0m 12ms/step - accuracy: 0.7824 - loss: 0.8471 - val_accuracy: 1.0000 - val_loss: 0.2551 - learning_rate: 2.5000e-04\n",
      "Epoch 110/300\n",
      "\u001b[1m120/120\u001b[0m \u001b[32m━━━━━━━━━━━━━━━━━━━━\u001b[0m\u001b[37m\u001b[0m \u001b[1m2s\u001b[0m 13ms/step - accuracy: 0.7900 - loss: 0.8398 - val_accuracy: 0.9990 - val_loss: 0.2521 - learning_rate: 2.5000e-04\n",
      "Epoch 111/300\n",
      "\u001b[1m120/120\u001b[0m \u001b[32m━━━━━━━━━━━━━━━━━━━━\u001b[0m\u001b[37m\u001b[0m \u001b[1m2s\u001b[0m 13ms/step - accuracy: 0.7687 - loss: 0.8444 - val_accuracy: 1.0000 - val_loss: 0.2485 - learning_rate: 2.5000e-04\n",
      "Epoch 112/300\n",
      "\u001b[1m120/120\u001b[0m \u001b[32m━━━━━━━━━━━━━━━━━━━━\u001b[0m\u001b[37m\u001b[0m \u001b[1m2s\u001b[0m 14ms/step - accuracy: 0.7742 - loss: 0.8690 - val_accuracy: 1.0000 - val_loss: 0.2532 - learning_rate: 2.5000e-04\n",
      "Epoch 113/300\n",
      "\u001b[1m120/120\u001b[0m \u001b[32m━━━━━━━━━━━━━━━━━━━━\u001b[0m\u001b[37m\u001b[0m \u001b[1m2s\u001b[0m 14ms/step - accuracy: 0.7808 - loss: 0.9140 - val_accuracy: 0.9958 - val_loss: 0.2777 - learning_rate: 2.5000e-04\n",
      "Epoch 114/300\n",
      "\u001b[1m120/120\u001b[0m \u001b[32m━━━━━━━━━━━━━━━━━━━━\u001b[0m\u001b[37m\u001b[0m \u001b[1m2s\u001b[0m 13ms/step - accuracy: 0.7791 - loss: 0.8564 - val_accuracy: 1.0000 - val_loss: 0.2617 - learning_rate: 2.5000e-04\n",
      "Epoch 114: early stopping\n",
      "Restoring model weights from the end of the best epoch: 94.\n"
     ]
    }
   ],
   "source": [
    "tf.keras.backend.clear_session()\n",
    "\n",
    "# train the model with the callbacks\n",
    "history = model.fit(\n",
    "    X_train,\n",
    "    y_train,\n",
    "    epochs=300,\n",
    "    validation_data=(X_test, y_test),\n",
    "    callbacks=[logging, early_stopping, lr_scheduler],\n",
    ")"
   ]
  },
  {
   "cell_type": "markdown",
   "metadata": {},
   "source": [
    "#### Confusion Evaluation"
   ]
  },
  {
   "cell_type": "code",
   "execution_count": 46,
   "metadata": {},
   "outputs": [],
   "source": [
    "import itertools\n",
    "\n",
    "import matplotlib.pyplot as plt  # type: ignore\n",
    "from sklearn.metrics import accuracy_score, confusion_matrix  # type: ignore"
   ]
  },
  {
   "cell_type": "code",
   "execution_count": 47,
   "metadata": {},
   "outputs": [],
   "source": [
    "y_true = np.argmax(y_test, axis=1)\n",
    "y_pred = np.argmax(model.predict(X_test, verbose=0), axis=1)\n",
    "\n",
    "# compute confusion matrix\n",
    "cm = confusion_matrix(y_true, y_pred)"
   ]
  },
  {
   "cell_type": "code",
   "execution_count": 48,
   "metadata": {},
   "outputs": [
    {
     "name": "stdout",
     "output_type": "stream",
     "text": [
      "\u001b[1m120/120\u001b[0m \u001b[32m━━━━━━━━━━━━━━━━━━━━\u001b[0m\u001b[37m\u001b[0m \u001b[1m1s\u001b[0m 4ms/step - accuracy: 1.0000 - loss: 0.2322\n",
      "Test accuracy: 1.0\n"
     ]
    }
   ],
   "source": [
    "test_loss, test_acc = model.evaluate(X_train, y_train)\n",
    "\n",
    "print(f'Test accuracy: {test_acc}')"
   ]
  },
  {
   "cell_type": "code",
   "execution_count": 49,
   "metadata": {},
   "outputs": [
    {
     "name": "stdout",
     "output_type": "stream",
     "text": [
      "Precision: 1.0\n",
      "Recall: 1.0\n",
      "F1 Score: 1.0\n"
     ]
    }
   ],
   "source": [
    "from sklearn.metrics import precision_score, recall_score, f1_score\n",
    "\n",
    "precision = precision_score(y_true, y_pred, average='weighted')\n",
    "recall = recall_score(y_true, y_pred, average='weighted')\n",
    "f1 = f1_score(y_true, y_pred, average='weighted')\n",
    "\n",
    "print(f'Precision: {precision}')\n",
    "print(f'Recall: {recall}')\n",
    "print(f'F1 Score: {f1}')"
   ]
  },
  {
   "cell_type": "code",
   "execution_count": 50,
   "metadata": {},
   "outputs": [
    {
     "name": "stdout",
     "output_type": "stream",
     "text": [
      "              precision    recall  f1-score   support\n",
      "\n",
      "           _       1.00      1.00      1.00        63\n",
      "       hello       1.00      1.00      1.00        52\n",
      "   what's up       1.00      1.00      1.00        49\n",
      "         how       1.00      1.00      1.00        49\n",
      "      thanks       1.00      1.00      1.00        57\n",
      "         you       1.00      1.00      1.00        44\n",
      "     morning       1.00      1.00      1.00        44\n",
      "   afternoon       1.00      1.00      1.00        44\n",
      "       night       1.00      1.00      1.00        38\n",
      "          me       1.00      1.00      1.00        48\n",
      "        name       1.00      1.00      1.00        64\n",
      "        fine       1.00      1.00      1.00        35\n",
      "       happy       1.00      1.00      1.00        49\n",
      "         yes       1.00      1.00      1.00        50\n",
      "          no       1.00      1.00      1.00        46\n",
      "      repeat       1.00      1.00      1.00        50\n",
      "      please       1.00      1.00      1.00        34\n",
      "        want       1.00      1.00      1.00        46\n",
      "    good bye       1.00      1.00      1.00        54\n",
      "       learn       1.00      1.00      1.00        44\n",
      "\n",
      "    accuracy                           1.00       960\n",
      "   macro avg       1.00      1.00      1.00       960\n",
      "weighted avg       1.00      1.00      1.00       960\n",
      "\n"
     ]
    }
   ],
   "source": [
    "from sklearn.metrics import classification_report\n",
    "\n",
    "print(classification_report(y_true, y_pred, target_names=ACTIONS))"
   ]
  },
  {
   "cell_type": "code",
   "execution_count": 51,
   "metadata": {},
   "outputs": [
    {
     "name": "stdout",
     "output_type": "stream",
     "text": [
      "No overlap found between training and test sets.\n"
     ]
    }
   ],
   "source": [
    "# Convert arrays to a set of string representations for faster lookup\n",
    "X_train_str = set(map(str, X_train))\n",
    "X_test_str = set(map(str, X_test))\n",
    "\n",
    "# Find the intersection\n",
    "overlap = X_train_str.intersection(X_test_str)\n",
    "\n",
    "# Assert that there are no overlaps\n",
    "assert len(overlap) == 0, \"Training and Test sets overlap!\"\n",
    "\n",
    "# Optionally, print if no overlap is found\n",
    "if len(overlap) == 0:\n",
    "    print(\"No overlap found between training and test sets.\")\n",
    "else:\n",
    "    print(\"Overlap found!\")"
   ]
  },
  {
   "cell_type": "code",
   "execution_count": 52,
   "metadata": {},
   "outputs": [
    {
     "data": {
      "image/png": "[encoded data removed]",
      "text/plain": [
       "<Figure size 640x480 with 1 Axes>"
      ]
     },
     "metadata": {},
     "output_type": "display_data"
    },
    {
     "data": {
      "image/png": "[encoded data removed]",
      "text/plain": [
       "<Figure size 640x480 with 1 Axes>"
      ]
     },
     "metadata": {},
     "output_type": "display_data"
    }
   ],
   "source": [
    "import matplotlib.pyplot as plt\n",
    "\n",
    "# Plot training & validation accuracy values\n",
    "plt.plot(history.history['accuracy'])\n",
    "plt.plot(history.history['val_accuracy'])\n",
    "plt.title('Model accuracy')\n",
    "plt.ylabel('Accuracy')\n",
    "plt.xlabel('Epoch')\n",
    "plt.legend(['Train', 'Validation'], loc='upper left')\n",
    "plt.show()\n",
    "\n",
    "# Plot training & validation loss values\n",
    "plt.plot(history.history['loss'])\n",
    "plt.plot(history.history['val_loss'])\n",
    "plt.title('Model loss')\n",
    "plt.ylabel('Loss')\n",
    "plt.xlabel('Epoch')\n",
    "plt.legend(['Train', 'Validation'], loc='upper left')\n",
    "plt.show()"
   ]
  },
  {
   "cell_type": "code",
   "execution_count": 53,
   "metadata": {},
   "outputs": [
    {
     "name": "stdout",
     "output_type": "stream",
     "text": [
      "Accuracy Score: 1.0\n"
     ]
    },
    {
     "data": {
      "image/png": "[encoded data removed]",
      "text/plain": [
       "<Figure size 640x480 with 2 Axes>"
      ]
     },
     "metadata": {},
     "output_type": "display_data"
    }
   ],
   "source": [
    "# plot confusion matrix\n",
    "plt.imshow(cm, interpolation='nearest', cmap=plt.cm.Blues)\n",
    "plt.title('Confusion matrix')\n",
    "plt.colorbar()\n",
    "tick_marks = np.arange(len(ACTIONS))\n",
    "plt.xticks(tick_marks, ACTIONS, rotation=45)\n",
    "plt.yticks(tick_marks, ACTIONS)\n",
    "\n",
    "# add labels\n",
    "thresh = cm.max() / 2.\n",
    "for i, j in itertools.product(range(cm.shape[0]), range(cm.shape[1])):\n",
    "    plt.text(j, i, format(cm[i, j], 'd'),\n",
    "             horizontalalignment=\"center\",\n",
    "             color=\"white\" if cm[i, j] > thresh else \"black\")\n",
    "\n",
    "plt.ylabel('True label')\n",
    "plt.xlabel('Predicted label')\n",
    "plt.tight_layout()\n",
    "\n",
    "# compute and print accuracy score\n",
    "accuracy = accuracy_score(y_true, y_pred)\n",
    "print(\"Accuracy Score:\", accuracy)\n",
    "\n",
    "plt.show()"
   ]
  },
  {
   "cell_type": "markdown",
   "metadata": {},
   "source": [
    "#### Saving the model"
   ]
  },
  {
   "cell_type": "code",
   "execution_count": 54,
   "metadata": {},
   "outputs": [],
   "source": [
    "def get_next_filename(directory, base_name, extension):\n",
    "    # list all files in the directory\n",
    "    files = os.listdir(directory)\n",
    "\n",
    "    # filter files that start with the base_name and end with the extension\n",
    "    versions = [f for f in files if f.startswith(base_name) and f.endswith(extension)]\n",
    "\n",
    "    # if the models directory is empty, then use the\n",
    "    # default start version (001)\n",
    "    if not versions and base_name == \"singa_slr_v_\":\n",
    "        return f\"{base_name}001.{extension}\"\n",
    "\n",
    "    # if the fiven basename is different than the actual basename\n",
    "    # then save the model with given name\n",
    "    if not base_name == \"singa_slr_v_\":\n",
    "        return f\"{base_name}.{extension}\"\n",
    "\n",
    "    # extract version numbers from filenames\n",
    "    versions = [file.split(\"_\")[-1] for file in versions]\n",
    "\n",
    "    # convert version numbers to tuples of integers for comparison\n",
    "    versions_int = [int(v.split(\".\")[0]) for v in versions]\n",
    "\n",
    "    next_version = max(versions_int) + 1\n",
    "\n",
    "    # format the next number with leading zeros to maintain the same length\n",
    "    next_filename = f\"{base_name}{next_version:03d}.{extension}\"\n",
    "\n",
    "    return next_filename\n",
    "\n",
    "\n",
    "def save_as_tflite(_model, model_path):\n",
    "    with tempfile.TemporaryDirectory() as temp_dir:\n",
    "        # export the model to the temporary directory\n",
    "        export_path = os.path.join(temp_dir, \"_tf_temp\")\n",
    "\n",
    "        _model.export(export_path)\n",
    "\n",
    "        converter = tf.lite.TFLiteConverter.from_saved_model(export_path)\n",
    "        # Enable resource variables and selective ops to handle the conversion issues\n",
    "        converter.experimental_enable_resource_variables = True\n",
    "        converter.target_spec.supported_ops = [\n",
    "            tf.lite.OpsSet.TFLITE_BUILTINS,\n",
    "            tf.lite.OpsSet.SELECT_TF_OPS,\n",
    "        ]\n",
    "        converter._experimental_lower_tensor_list_ops = False\n",
    "\n",
    "        tflite_model = converter.convert()\n",
    "\n",
    "        with open(model_path, \"wb\") as f:\n",
    "            f.write(tflite_model)\n",
    "\n",
    "        f.close()\n",
    "\n",
    "\n",
    "def save_as_keras(_model, model_path):\n",
    "    _model.save(model_path)\n",
    "\n",
    "\n",
    "def save_model(_model, extension=\"keras\", base_name=\"singa_slr_v_\"):\n",
    "    model_dir = \"../storage/models/\" + extension\n",
    "\n",
    "    next_filename = get_next_filename(model_dir, base_name, extension)\n",
    "    model_path = os.path.join(model_dir, next_filename)\n",
    "\n",
    "    match extension:\n",
    "        case \"tflite\":\n",
    "            save_as_tflite(_model, model_path)\n",
    "            print(f\"saved as tflite at {model_path}\")\n",
    "\n",
    "        case \"keras\":\n",
    "            save_as_keras(_model, model_path)\n",
    "            print(f\"saved as keras at {model_path}\")"
   ]
  },
  {
   "cell_type": "code",
   "execution_count": 55,
   "metadata": {},
   "outputs": [
    {
     "name": "stdout",
     "output_type": "stream",
     "text": [
      "saved as keras at ../storage/models/keras\\singa_slr_v_008.keras\n"
     ]
    }
   ],
   "source": [
    "save_model(model)"
   ]
  },
  {
   "cell_type": "code",
   "execution_count": 56,
   "metadata": {},
   "outputs": [
    {
     "name": "stdout",
     "output_type": "stream",
     "text": [
      "INFO:tensorflow:Assets written to: C:\\Users\\acer\\AppData\\Local\\Temp\\tmprx0klav3\\_tf_temp\\assets\n"
     ]
    },
    {
     "name": "stderr",
     "output_type": "stream",
     "text": [
      "INFO:tensorflow:Assets written to: C:\\Users\\acer\\AppData\\Local\\Temp\\tmprx0klav3\\_tf_temp\\assets\n"
     ]
    },
    {
     "name": "stdout",
     "output_type": "stream",
     "text": [
      "Saved artifact at 'C:\\Users\\acer\\AppData\\Local\\Temp\\tmprx0klav3\\_tf_temp'. The following endpoints are available:\n",
      "\n",
      "* Endpoint 'serve'\n",
      "  args_0 (POSITIONAL_ONLY): TensorSpec(shape=(None, 60, 225), dtype=tf.float32, name='keras_tensor')\n",
      "Output Type:\n",
      "  TensorSpec(shape=(None, 20), dtype=tf.float32, name=None)\n",
      "Captures:\n",
      "  1565781440144: TensorSpec(shape=(), dtype=tf.resource, name=None)\n",
      "  1565781435216: TensorSpec(shape=(), dtype=tf.resource, name=None)\n",
      "  1565781442080: TensorSpec(shape=(), dtype=tf.resource, name=None)\n",
      "  1565781430112: TensorSpec(shape=(), dtype=tf.resource, name=None)\n",
      "  1565781433104: TensorSpec(shape=(), dtype=tf.resource, name=None)\n",
      "  1565781429760: TensorSpec(shape=(), dtype=tf.resource, name=None)\n",
      "  1565781426240: TensorSpec(shape=(), dtype=tf.resource, name=None)\n",
      "  1565781435040: TensorSpec(shape=(), dtype=tf.resource, name=None)\n",
      "  1565781437856: TensorSpec(shape=(), dtype=tf.resource, name=None)\n",
      "  1565781432400: TensorSpec(shape=(), dtype=tf.resource, name=None)\n",
      "  1566731974288: TensorSpec(shape=(), dtype=tf.resource, name=None)\n",
      "  1566731506208: TensorSpec(shape=(), dtype=tf.resource, name=None)\n",
      "  1567055372080: TensorSpec(shape=(), dtype=tf.resource, name=None)\n",
      "  1566731520480: TensorSpec(shape=(), dtype=tf.resource, name=None)\n",
      "  1566731519072: TensorSpec(shape=(), dtype=tf.resource, name=None)\n",
      "  1566731519424: TensorSpec(shape=(), dtype=tf.resource, name=None)\n",
      "  1565785223968: TensorSpec(shape=(), dtype=tf.resource, name=None)\n",
      "  1565785214288: TensorSpec(shape=(), dtype=tf.resource, name=None)\n",
      "  1565785225024: TensorSpec(shape=(), dtype=tf.resource, name=None)\n",
      "  1565785214992: TensorSpec(shape=(), dtype=tf.resource, name=None)\n",
      "  1565785221680: TensorSpec(shape=(), dtype=tf.resource, name=None)\n",
      "  1565785222912: TensorSpec(shape=(), dtype=tf.resource, name=None)\n",
      "  1565785220800: TensorSpec(shape=(), dtype=tf.resource, name=None)\n",
      "  1565785251632: TensorSpec(shape=(), dtype=tf.resource, name=None)\n",
      "  1565785254096: TensorSpec(shape=(), dtype=tf.resource, name=None)\n",
      "  1565785246176: TensorSpec(shape=(), dtype=tf.resource, name=None)\n",
      "  1565785248112: TensorSpec(shape=(), dtype=tf.resource, name=None)\n",
      "  1565785258672: TensorSpec(shape=(), dtype=tf.resource, name=None)\n",
      "  1565785247056: TensorSpec(shape=(), dtype=tf.resource, name=None)\n",
      "  1565785259552: TensorSpec(shape=(), dtype=tf.resource, name=None)\n",
      "  1565785252512: TensorSpec(shape=(), dtype=tf.resource, name=None)\n",
      "  1565785257088: TensorSpec(shape=(), dtype=tf.resource, name=None)\n",
      "  1565785250048: TensorSpec(shape=(), dtype=tf.resource, name=None)\n",
      "  1565785243888: TensorSpec(shape=(), dtype=tf.resource, name=None)\n",
      "  1567034817552: TensorSpec(shape=(), dtype=tf.resource, name=None)\n",
      "  1565725014880: TensorSpec(shape=(), dtype=tf.resource, name=None)\n",
      "  1565784556112: TensorSpec(shape=(), dtype=tf.resource, name=None)\n",
      "  1565784569840: TensorSpec(shape=(), dtype=tf.resource, name=None)\n",
      "saved as tflite at ../storage/models/tflite\\singa_slr_v_007.tflite\n"
     ]
    }
   ],
   "source": [
    "save_model(model, extension=\"tflite\")"
   ]
  },
  {
   "cell_type": "code",
   "execution_count": 28,
   "metadata": {},
   "outputs": [
    {
     "data": {
      "text/plain": [
       "34755"
      ]
     },
     "execution_count": 28,
     "metadata": {},
     "output_type": "execute_result"
    }
   ],
   "source": [
    "# free up memory\n",
    "import gc\n",
    "\n",
    "# we do not need this variable again\n",
    "# so we can just remove it to freed up some memory\n",
    "del X_train\n",
    "del X_test\n",
    "del y_train\n",
    "del y_test\n",
    "\n",
    "# force garbage collection\n",
    "gc.collect()"
   ]
  }
 ],
 "metadata": {
  "kernelspec": {
   "display_name": "venv",
   "language": "python",
   "name": "python3"
  },
  "language_info": {
   "codemirror_mode": {
    "name": "ipython",
    "version": 3
   },
   "file_extension": ".py",
   "mimetype": "text/x-python",
   "name": "python",
   "nbconvert_exporter": "python",
   "pygments_lexer": "ipython3",
   "version": "3.10.2"
  }
 },
 "nbformat": 4,
 "nbformat_minor": 2
}
