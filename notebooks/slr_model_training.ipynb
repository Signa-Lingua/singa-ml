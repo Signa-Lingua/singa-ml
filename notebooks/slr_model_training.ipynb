{
 "cells": [
  {
   "cell_type": "code",
   "execution_count": 1,
   "metadata": {},
   "outputs": [],
   "source": [
    "import datetime\n",
    "import os\n",
    "import random\n",
    "import tempfile\n",
    "\n",
    "import numpy as np\n",
    "import tensorflow as tf\n",
    "from sklearn.model_selection import train_test_split\n",
    "from tensorflow.keras import models  # type: ignore\n",
    "from tensorflow.keras.callbacks import (Callback,  # type: ignore\n",
    "                                        EarlyStopping, ReduceLROnPlateau,\n",
    "                                        TensorBoard)\n",
    "from tensorflow.keras.optimizers import Adam  # type: ignore\n",
    "from tensorflow.keras.regularizers import l2  # type: ignore\n",
    "from tensorflow.keras.utils import to_categorical  # type: ignore"
   ]
  },
  {
   "cell_type": "code",
   "execution_count": 2,
   "metadata": {},
   "outputs": [],
   "source": [
    "import warnings\n",
    "\n",
    "# suppress all warnings\n",
    "warnings.filterwarnings(\"ignore\")"
   ]
  },
  {
   "cell_type": "code",
   "execution_count": 3,
   "metadata": {},
   "outputs": [],
   "source": [
    "os.environ['TF_CPP_MIN_LOG_LEVEL'] = '2'"
   ]
  },
  {
   "cell_type": "markdown",
   "metadata": {},
   "source": [
    "#### Setting up for data training and testing"
   ]
  },
  {
   "cell_type": "code",
   "execution_count": 4,
   "metadata": {},
   "outputs": [],
   "source": [
    "# preprocssed dataset path\n",
    "DATASET_PATH = os.path.join(\"../storage/datasets/cleaned\")\n",
    "\n",
    "# actions to be detected\n",
    "ACTIONS = [\n",
    "    \"_\", \"hello\", \"thanks\", \"i-love-you\", \"see-you-later\", \"I\", \"Father\", \"Mother\", \"Yes\",\n",
    "    \"No\", \"Help\", \"Please\", \"Want\", \"What\", \"Again\", \"Eat\", \"Milk\", \"More\", \"Go To\",\n",
    "    \"Bathroom\", \"Fine\", \"Like\", \"Learn\", \"Sign\", \"Done\"\n",
    "]\n",
    "\n",
    "# limit to first x actions for testing\n",
    "ACTIONS = np.array(ACTIONS[:4])\n",
    "\n",
    "# number of videos and actions per video\n",
    "videos_per_label = 120\n",
    "frames_per_video = 60\n",
    "\n",
    "# data labels\n",
    "labels_map = {label: index for index, label in enumerate(ACTIONS)}"
   ]
  },
  {
   "cell_type": "markdown",
   "metadata": {},
   "source": [
    "##### Data Augmentation"
   ]
  },
  {
   "cell_type": "code",
   "execution_count": 5,
   "metadata": {},
   "outputs": [],
   "source": [
    "def add_noise(landmarks, noise_level, shape=(60, 225)):\n",
    "    noise = np.random.normal(loc=0, scale=noise_level, size=shape)\n",
    "    return landmarks + noise\n",
    "\n",
    "\n",
    "def shift_landmarks(landmarks, shift_factor, shape=(60, 225)):\n",
    "    shift = np.random.uniform(-shift_factor, shift_factor, size=shape[1:])\n",
    "    return landmarks + shift\n",
    "\n",
    "\n",
    "def augment_landmarks(landmarks, noise_level=0.01, shift_factor=0.1):\n",
    "    if random.random() > 0.5:\n",
    "        landmarks = add_noise(landmarks, noise_level)\n",
    "\n",
    "    if random.random() > 0.5:\n",
    "        landmarks = shift_landmarks(landmarks, shift_factor)\n",
    "\n",
    "    return landmarks"
   ]
  },
  {
   "cell_type": "markdown",
   "metadata": {},
   "source": [
    "#### Load and Augment data"
   ]
  },
  {
   "cell_type": "code",
   "execution_count": 6,
   "metadata": {},
   "outputs": [],
   "source": [
    "seq_path = os.path.join(\"./data\", \"sequences.npy\")\n",
    "lab_path = os.path.join(\"./data\", \"labels.npy\")\n",
    "\n",
    "sequences, labels = [], []"
   ]
  },
  {
   "cell_type": "code",
   "execution_count": 7,
   "metadata": {},
   "outputs": [
    {
     "name": "stdout",
     "output_type": "stream",
     "text": [
      "DATA IS BEING LOADED\n"
     ]
    }
   ],
   "source": [
    "def generate_bulk_dataset_and_load(augment=True):\n",
    "    sequences, labels = [], []\n",
    "\n",
    "    for action in ACTIONS:\n",
    "        window = []\n",
    "        window_labels = []\n",
    "\n",
    "        \"\"\"Iterates over each sequence for the current action\"\"\"\n",
    "        for sequence in range(videos_per_label):\n",
    "            \"\"\"\n",
    "            Frame Processing\n",
    "\n",
    "            Iterates over each frame in the current sequence, then constructs the file path to the numpy array for the current frame.\n",
    "            Prints the path to verify correctness, then loads the frame data from the numpy file.\n",
    "            \"\"\"\n",
    "            # construct the path to the numpy file for the current frame\n",
    "            npy_path = os.path.join(DATASET_PATH, action, \"{}.npy\".format(sequence))\n",
    "\n",
    "            # load the frame data from the numpy file\n",
    "            result = np.load(npy_path)\n",
    "\n",
    "            # append the completed sequence to the sequences list\n",
    "            window.append(result)\n",
    "\n",
    "            # append the corresponding label to the labels list\n",
    "            window_labels.append(labels_map[action])\n",
    "\n",
    "            if not augment:\n",
    "                continue\n",
    "\n",
    "            # number of augmented window to create per original sequence\n",
    "            num_augmented_sequences = int(0.1 * 60)  # 10% of total of video\n",
    "\n",
    "            for _ in range(num_augmented_sequences):\n",
    "                augmented_sequence = [\n",
    "                    augment_landmarks(frame, noise_level=0.047, shift_factor=0.47)\n",
    "                    for frame in window\n",
    "                ]\n",
    "\n",
    "                # append the augmented to the window list\n",
    "                window.append(augmented_sequence[0])\n",
    "\n",
    "                window_labels.append(labels_map[action])\n",
    "\n",
    "            print(f\"{action} - {sequence}\")\n",
    "\n",
    "        sequences.append(window)\n",
    "        labels.append(window_labels)\n",
    "\n",
    "    keypoints = np.concatenate([s for s in sequences])\n",
    "    key_label = np.concatenate([l for l in labels])\n",
    "\n",
    "    # save the original sequences and labels\n",
    "    np.save(seq_path, keypoints)\n",
    "    np.save(lab_path, key_label)\n",
    "\n",
    "    return keypoints, key_label\n",
    "\n",
    "\n",
    "def load_dataset():\n",
    "    if os.path.exists(seq_path) and os.path.exists(lab_path):\n",
    "        print(\"DATA IS BEING LOADED\")\n",
    "\n",
    "        sequences = np.load(seq_path, allow_pickle=True)\n",
    "        labels = np.load(lab_path, allow_pickle=True)\n",
    "\n",
    "        return sequences, labels\n",
    "\n",
    "    print(\"DATA IS BEING GENERATED AND LOADED\")\n",
    "\n",
    "    return generate_bulk_dataset_and_load(augment=True)\n",
    "\n",
    "\n",
    "sequences, labels = load_dataset()"
   ]
  },
  {
   "cell_type": "code",
   "execution_count": 8,
   "metadata": {},
   "outputs": [
    {
     "data": {
      "text/plain": [
       "(3360, 3360)"
      ]
     },
     "execution_count": 8,
     "metadata": {},
     "output_type": "execute_result"
    }
   ],
   "source": [
    "len(sequences), len(labels)"
   ]
  },
  {
   "cell_type": "markdown",
   "metadata": {},
   "source": [
    "**Adjusting the Augmentation Factor**\n",
    "\n",
    "If you want to achieve a specific total number of sequences, you can adjust N<sub>augmented_per_original</sub>\n",
    "\n",
    "- Desired N<sub>total</sub> = 1920\n",
    "- Original N<sub>original</sub> = 480 (without augmentation)\n",
    "\n",
    "Using the formula to find N<sub>augmented_per_original</sub> :\n",
    "- 1920 = 480 + (480 × N<sub>augmented_per_original</sub>)\n",
    "\n",
    "Subtract 480 from both sides :\n",
    "- 1440 = 480 × N<sub>augmented_per_original</sub>\n",
    "\n",
    "Divide both sides by 480 :\n",
    "- N<sub>augmented_per_original</sub> = 3"
   ]
  },
  {
   "cell_type": "code",
   "execution_count": 9,
   "metadata": {},
   "outputs": [],
   "source": [
    "# convert to numpy array\n",
    "datas = np.array(sequences)\n",
    "\n",
    "# convert labels list to a one-hot encoded NumPy array\n",
    "labels = to_categorical(labels).astype(int)"
   ]
  },
  {
   "cell_type": "code",
   "execution_count": 10,
   "metadata": {},
   "outputs": [
    {
     "data": {
      "text/plain": [
       "(3360, 3360)"
      ]
     },
     "execution_count": 10,
     "metadata": {},
     "output_type": "execute_result"
    }
   ],
   "source": [
    "# the length of the datas and labels should be the same\n",
    "len(datas), len(labels)"
   ]
  },
  {
   "cell_type": "markdown",
   "metadata": {},
   "source": [
    "The shapes of the datasets depend on the total number of sequences and the sequence length. Here we processes 120 sequence of videos for each of the 4 actions, we have:\n",
    "\n",
    "    Total sequences = 120 sequences/action × 4 actions = 480 sequences\n",
    "\n",
    "Given a test_size of 0.2, 20% of the data (approximately 96 sequences) will be in the test set, and 80% (approximately 384 sequences) will be in the training set."
   ]
  },
  {
   "cell_type": "code",
   "execution_count": 11,
   "metadata": {},
   "outputs": [
    {
     "name": "stdout",
     "output_type": "stream",
     "text": [
      "(2688, 60, 225) (672, 60, 225) (2688, 4) (672, 4)\n"
     ]
    }
   ],
   "source": [
    "# splits the dataset into training and testing sets\n",
    "\n",
    "# specifies that 20% of the data should be used as the test set,\n",
    "# and the remaining 80% should be used as the training set.\n",
    "X_train, X_test, y_train, y_test = train_test_split(datas, labels, test_size=0.2)\n",
    "\n",
    "print(X_train.shape, X_test.shape, y_train.shape, y_test.shape)"
   ]
  },
  {
   "cell_type": "markdown",
   "metadata": {},
   "source": [
    "Wrong Output Example : `(384, 60, 225) (96, 60, 225) (384, 4, 2) (96, 4, 2)`"
   ]
  },
  {
   "cell_type": "code",
   "execution_count": 12,
   "metadata": {},
   "outputs": [],
   "source": [
    "# # augment the training data\n",
    "# X_train_augmented, y_train_augmented = augment_train_test_data(X_train, y_train)\n",
    "\n",
    "# # convert the test data to the required format\n",
    "# X_test = np.array(X_test)\n",
    "# y_test = np.array(y_test)\n",
    "\n",
    "# print(X_train_augmented.shape, X_test.shape, y_train_augmented.shape, y_test.shape)"
   ]
  },
  {
   "cell_type": "markdown",
   "metadata": {},
   "source": [
    "#### Modelling"
   ]
  },
  {
   "cell_type": "code",
   "execution_count": 13,
   "metadata": {},
   "outputs": [
    {
     "data": {
      "text/html": [
       "<pre style=\"white-space:pre;overflow-x:auto;line-height:normal;font-family:Menlo,'DejaVu Sans Mono',consolas,'Courier New',monospace\"><span style=\"font-weight: bold\">Model: \"functional_1\"</span>\n",
       "</pre>\n"
      ],
      "text/plain": [
       "\u001b[1mModel: \"functional_1\"\u001b[0m\n"
      ]
     },
     "metadata": {},
     "output_type": "display_data"
    },
    {
     "data": {
      "text/html": [
       "<pre style=\"white-space:pre;overflow-x:auto;line-height:normal;font-family:Menlo,'DejaVu Sans Mono',consolas,'Courier New',monospace\">┏━━━━━━━━━━━━━━━━━━━━━━━━━━━━━━━━━┳━━━━━━━━━━━━━━━━━━━━━━━━┳━━━━━━━━━━━━━━━┓\n",
       "┃<span style=\"font-weight: bold\"> Layer (type)                    </span>┃<span style=\"font-weight: bold\"> Output Shape           </span>┃<span style=\"font-weight: bold\">       Param # </span>┃\n",
       "┡━━━━━━━━━━━━━━━━━━━━━━━━━━━━━━━━━╇━━━━━━━━━━━━━━━━━━━━━━━━╇━━━━━━━━━━━━━━━┩\n",
       "│ input_layer (<span style=\"color: #0087ff; text-decoration-color: #0087ff\">InputLayer</span>)        │ (<span style=\"color: #00d7ff; text-decoration-color: #00d7ff\">None</span>, <span style=\"color: #00af00; text-decoration-color: #00af00\">60</span>, <span style=\"color: #00af00; text-decoration-color: #00af00\">225</span>)        │             <span style=\"color: #00af00; text-decoration-color: #00af00\">0</span> │\n",
       "├─────────────────────────────────┼────────────────────────┼───────────────┤\n",
       "│ batch_normalization             │ (<span style=\"color: #00d7ff; text-decoration-color: #00d7ff\">None</span>, <span style=\"color: #00af00; text-decoration-color: #00af00\">60</span>, <span style=\"color: #00af00; text-decoration-color: #00af00\">225</span>)        │           <span style=\"color: #00af00; text-decoration-color: #00af00\">900</span> │\n",
       "│ (<span style=\"color: #0087ff; text-decoration-color: #0087ff\">BatchNormalization</span>)            │                        │               │\n",
       "├─────────────────────────────────┼────────────────────────┼───────────────┤\n",
       "│ conv1d (<span style=\"color: #0087ff; text-decoration-color: #0087ff\">Conv1D</span>)                 │ (<span style=\"color: #00d7ff; text-decoration-color: #00d7ff\">None</span>, <span style=\"color: #00af00; text-decoration-color: #00af00\">58</span>, <span style=\"color: #00af00; text-decoration-color: #00af00\">64</span>)         │        <span style=\"color: #00af00; text-decoration-color: #00af00\">43,264</span> │\n",
       "├─────────────────────────────────┼────────────────────────┼───────────────┤\n",
       "│ max_pooling1d (<span style=\"color: #0087ff; text-decoration-color: #0087ff\">MaxPooling1D</span>)    │ (<span style=\"color: #00d7ff; text-decoration-color: #00d7ff\">None</span>, <span style=\"color: #00af00; text-decoration-color: #00af00\">29</span>, <span style=\"color: #00af00; text-decoration-color: #00af00\">64</span>)         │             <span style=\"color: #00af00; text-decoration-color: #00af00\">0</span> │\n",
       "├─────────────────────────────────┼────────────────────────┼───────────────┤\n",
       "│ conv1d_1 (<span style=\"color: #0087ff; text-decoration-color: #0087ff\">Conv1D</span>)               │ (<span style=\"color: #00d7ff; text-decoration-color: #00d7ff\">None</span>, <span style=\"color: #00af00; text-decoration-color: #00af00\">27</span>, <span style=\"color: #00af00; text-decoration-color: #00af00\">128</span>)        │        <span style=\"color: #00af00; text-decoration-color: #00af00\">24,704</span> │\n",
       "├─────────────────────────────────┼────────────────────────┼───────────────┤\n",
       "│ dense (<span style=\"color: #0087ff; text-decoration-color: #0087ff\">Dense</span>)                   │ (<span style=\"color: #00d7ff; text-decoration-color: #00d7ff\">None</span>, <span style=\"color: #00af00; text-decoration-color: #00af00\">27</span>, <span style=\"color: #00af00; text-decoration-color: #00af00\">64</span>)         │         <span style=\"color: #00af00; text-decoration-color: #00af00\">8,256</span> │\n",
       "├─────────────────────────────────┼────────────────────────┼───────────────┤\n",
       "│ dropout (<span style=\"color: #0087ff; text-decoration-color: #0087ff\">Dropout</span>)               │ (<span style=\"color: #00d7ff; text-decoration-color: #00d7ff\">None</span>, <span style=\"color: #00af00; text-decoration-color: #00af00\">27</span>, <span style=\"color: #00af00; text-decoration-color: #00af00\">64</span>)         │             <span style=\"color: #00af00; text-decoration-color: #00af00\">0</span> │\n",
       "├─────────────────────────────────┼────────────────────────┼───────────────┤\n",
       "│ bidirectional (<span style=\"color: #0087ff; text-decoration-color: #0087ff\">Bidirectional</span>)   │ (<span style=\"color: #00d7ff; text-decoration-color: #00d7ff\">None</span>, <span style=\"color: #00af00; text-decoration-color: #00af00\">128</span>)            │        <span style=\"color: #00af00; text-decoration-color: #00af00\">66,048</span> │\n",
       "├─────────────────────────────────┼────────────────────────┼───────────────┤\n",
       "│ dense_3 (<span style=\"color: #0087ff; text-decoration-color: #0087ff\">Dense</span>)                 │ (<span style=\"color: #00d7ff; text-decoration-color: #00d7ff\">None</span>, <span style=\"color: #00af00; text-decoration-color: #00af00\">4</span>)              │           <span style=\"color: #00af00; text-decoration-color: #00af00\">516</span> │\n",
       "└─────────────────────────────────┴────────────────────────┴───────────────┘\n",
       "</pre>\n"
      ],
      "text/plain": [
       "┏━━━━━━━━━━━━━━━━━━━━━━━━━━━━━━━━━┳━━━━━━━━━━━━━━━━━━━━━━━━┳━━━━━━━━━━━━━━━┓\n",
       "┃\u001b[1m \u001b[0m\u001b[1mLayer (type)                   \u001b[0m\u001b[1m \u001b[0m┃\u001b[1m \u001b[0m\u001b[1mOutput Shape          \u001b[0m\u001b[1m \u001b[0m┃\u001b[1m \u001b[0m\u001b[1m      Param #\u001b[0m\u001b[1m \u001b[0m┃\n",
       "┡━━━━━━━━━━━━━━━━━━━━━━━━━━━━━━━━━╇━━━━━━━━━━━━━━━━━━━━━━━━╇━━━━━━━━━━━━━━━┩\n",
       "│ input_layer (\u001b[38;5;33mInputLayer\u001b[0m)        │ (\u001b[38;5;45mNone\u001b[0m, \u001b[38;5;34m60\u001b[0m, \u001b[38;5;34m225\u001b[0m)        │             \u001b[38;5;34m0\u001b[0m │\n",
       "├─────────────────────────────────┼────────────────────────┼───────────────┤\n",
       "│ batch_normalization             │ (\u001b[38;5;45mNone\u001b[0m, \u001b[38;5;34m60\u001b[0m, \u001b[38;5;34m225\u001b[0m)        │           \u001b[38;5;34m900\u001b[0m │\n",
       "│ (\u001b[38;5;33mBatchNormalization\u001b[0m)            │                        │               │\n",
       "├─────────────────────────────────┼────────────────────────┼───────────────┤\n",
       "│ conv1d (\u001b[38;5;33mConv1D\u001b[0m)                 │ (\u001b[38;5;45mNone\u001b[0m, \u001b[38;5;34m58\u001b[0m, \u001b[38;5;34m64\u001b[0m)         │        \u001b[38;5;34m43,264\u001b[0m │\n",
       "├─────────────────────────────────┼────────────────────────┼───────────────┤\n",
       "│ max_pooling1d (\u001b[38;5;33mMaxPooling1D\u001b[0m)    │ (\u001b[38;5;45mNone\u001b[0m, \u001b[38;5;34m29\u001b[0m, \u001b[38;5;34m64\u001b[0m)         │             \u001b[38;5;34m0\u001b[0m │\n",
       "├─────────────────────────────────┼────────────────────────┼───────────────┤\n",
       "│ conv1d_1 (\u001b[38;5;33mConv1D\u001b[0m)               │ (\u001b[38;5;45mNone\u001b[0m, \u001b[38;5;34m27\u001b[0m, \u001b[38;5;34m128\u001b[0m)        │        \u001b[38;5;34m24,704\u001b[0m │\n",
       "├─────────────────────────────────┼────────────────────────┼───────────────┤\n",
       "│ dense (\u001b[38;5;33mDense\u001b[0m)                   │ (\u001b[38;5;45mNone\u001b[0m, \u001b[38;5;34m27\u001b[0m, \u001b[38;5;34m64\u001b[0m)         │         \u001b[38;5;34m8,256\u001b[0m │\n",
       "├─────────────────────────────────┼────────────────────────┼───────────────┤\n",
       "│ dropout (\u001b[38;5;33mDropout\u001b[0m)               │ (\u001b[38;5;45mNone\u001b[0m, \u001b[38;5;34m27\u001b[0m, \u001b[38;5;34m64\u001b[0m)         │             \u001b[38;5;34m0\u001b[0m │\n",
       "├─────────────────────────────────┼────────────────────────┼───────────────┤\n",
       "│ bidirectional (\u001b[38;5;33mBidirectional\u001b[0m)   │ (\u001b[38;5;45mNone\u001b[0m, \u001b[38;5;34m128\u001b[0m)            │        \u001b[38;5;34m66,048\u001b[0m │\n",
       "├─────────────────────────────────┼────────────────────────┼───────────────┤\n",
       "│ dense_3 (\u001b[38;5;33mDense\u001b[0m)                 │ (\u001b[38;5;45mNone\u001b[0m, \u001b[38;5;34m4\u001b[0m)              │           \u001b[38;5;34m516\u001b[0m │\n",
       "└─────────────────────────────────┴────────────────────────┴───────────────┘\n"
      ]
     },
     "metadata": {},
     "output_type": "display_data"
    },
    {
     "data": {
      "text/html": [
       "<pre style=\"white-space:pre;overflow-x:auto;line-height:normal;font-family:Menlo,'DejaVu Sans Mono',consolas,'Courier New',monospace\"><span style=\"font-weight: bold\"> Total params: </span><span style=\"color: #00af00; text-decoration-color: #00af00\">143,688</span> (561.28 KB)\n",
       "</pre>\n"
      ],
      "text/plain": [
       "\u001b[1m Total params: \u001b[0m\u001b[38;5;34m143,688\u001b[0m (561.28 KB)\n"
      ]
     },
     "metadata": {},
     "output_type": "display_data"
    },
    {
     "data": {
      "text/html": [
       "<pre style=\"white-space:pre;overflow-x:auto;line-height:normal;font-family:Menlo,'DejaVu Sans Mono',consolas,'Courier New',monospace\"><span style=\"font-weight: bold\"> Trainable params: </span><span style=\"color: #00af00; text-decoration-color: #00af00\">143,238</span> (559.52 KB)\n",
       "</pre>\n"
      ],
      "text/plain": [
       "\u001b[1m Trainable params: \u001b[0m\u001b[38;5;34m143,238\u001b[0m (559.52 KB)\n"
      ]
     },
     "metadata": {},
     "output_type": "display_data"
    },
    {
     "data": {
      "text/html": [
       "<pre style=\"white-space:pre;overflow-x:auto;line-height:normal;font-family:Menlo,'DejaVu Sans Mono',consolas,'Courier New',monospace\"><span style=\"font-weight: bold\"> Non-trainable params: </span><span style=\"color: #00af00; text-decoration-color: #00af00\">450</span> (1.76 KB)\n",
       "</pre>\n"
      ],
      "text/plain": [
       "\u001b[1m Non-trainable params: \u001b[0m\u001b[38;5;34m450\u001b[0m (1.76 KB)\n"
      ]
     },
     "metadata": {},
     "output_type": "display_data"
    }
   ],
   "source": [
    "def create_cnn_rnn_model(input_shape, num_classes):\n",
    "    # the input layer\n",
    "    inputs = tf.keras.Input(shape=input_shape)\n",
    "\n",
    "    # BatchNormalization layer to normalize input data\n",
    "    batch = tf.keras.layers.BatchNormalization()(inputs)\n",
    "\n",
    "    # CNN tf.keras.layers to extract spatial features\n",
    "    cnn = tf.keras.layers.Conv1D(64, 3, activation=\"relu\", kernel_regularizer=l2(0.02))(\n",
    "        batch\n",
    "    )\n",
    "    x = tf.keras.layers.MaxPooling1D(2)(cnn)\n",
    "\n",
    "    # CNN tf.keras.layers to extract spatial features\n",
    "    cnn = tf.keras.layers.Conv1D(\n",
    "        128, 3, activation=\"relu\", kernel_regularizer=l2(0.02)\n",
    "    )(x)\n",
    "    x = tf.keras.layers.MaxPooling1D(pool_size=2)(cnn)\n",
    "\n",
    "    x = tf.keras.layers.Dense(64, activation=\"relu\", kernel_regularizer=l2(0.02))(cnn)\n",
    "    x = tf.keras.layers.Dropout(0.4)(x)\n",
    "\n",
    "    rnn = tf.keras.layers.Bidirectional(tf.keras.layers.LSTM(64, activation=\"relu\"))(x)\n",
    "\n",
    "    x = tf.keras.layers.Dense(64, activation=\"relu\", kernel_regularizer=l2(0.02))(rnn)\n",
    "    x = tf.keras.layers.Dropout(0.4)(x)\n",
    "\n",
    "    x = tf.keras.layers.Dense(32, activation=\"relu\", kernel_regularizer=l2(0.02))(x)\n",
    "    x = tf.keras.layers.Dropout(0.4)(x)\n",
    "\n",
    "    outputs = tf.keras.layers.Dense(num_classes, activation=\"softmax\")(rnn)\n",
    "\n",
    "    # create the model\n",
    "    model = models.Model(inputs, outputs)\n",
    "\n",
    "    return model\n",
    "\n",
    "\n",
    "# where 60 is the sequence length\n",
    "# and 225 is the number of features (keypoints) per frame\n",
    "input_shape = (60, 225)\n",
    "num_classes = ACTIONS.shape[0]  # N gesture classes\n",
    "\n",
    "# Create the model\n",
    "model = create_cnn_rnn_model(input_shape, num_classes)\n",
    "\n",
    "model.summary()"
   ]
  },
  {
   "cell_type": "markdown",
   "metadata": {},
   "source": [
    "##### Setting up callbacks for training"
   ]
  },
  {
   "cell_type": "code",
   "execution_count": 14,
   "metadata": {},
   "outputs": [
    {
     "name": "stdout",
     "output_type": "stream",
     "text": [
      "Created new log directory: ../storage/logs\\train-20240610-190846\n"
     ]
    }
   ],
   "source": [
    "def create_log_dir(base_dir, use_time=False):\n",
    "    current_time = datetime.datetime.now().strftime(\"%Y%m%d-%H%M%S\")\n",
    "\n",
    "    # check existing log directories\n",
    "    existing_logs = [\n",
    "        d\n",
    "        for d in os.listdir(base_dir)\n",
    "        if os.path.isdir(os.path.join(base_dir, d)) and d.startswith(\"train-\")\n",
    "    ]\n",
    "\n",
    "    # determine the new log directory name\n",
    "    if existing_logs and not use_time:\n",
    "        latest_log = max(existing_logs)\n",
    "        log_num = int(latest_log.split(\"-\")[1]) + 1\n",
    "        new_log_dir = os.path.join(base_dir, f\"train-{str(log_num).zfill(3)}\")\n",
    "\n",
    "    if not existing_logs and not use_time:\n",
    "        new_log_dir = os.path.join(base_dir, f\"train-001\")\n",
    "\n",
    "    if use_time:\n",
    "        new_log_dir = os.path.join(base_dir, f\"train-{current_time}\")\n",
    "\n",
    "    # create the new log directory\n",
    "    os.makedirs(new_log_dir)\n",
    "    print(f\"Created new log directory: {new_log_dir}\")\n",
    "\n",
    "    return new_log_dir\n",
    "\n",
    "# callback for logging\n",
    "log_dir = os.path.join(create_log_dir(os.path.join(\"../storage/logs\"), True))\n",
    "\n",
    "logging = TensorBoard(log_dir=log_dir)"
   ]
  },
  {
   "cell_type": "markdown",
   "metadata": {},
   "source": [
    "##### Compiling Model"
   ]
  },
  {
   "cell_type": "code",
   "execution_count": 15,
   "metadata": {},
   "outputs": [],
   "source": [
    "# set the optimizer with an initial learning rate\n",
    "optimizer = Adam(learning_rate=1e-4)\n",
    "\n",
    "# compile the model with the optimizer\n",
    "model.compile(\n",
    "    optimizer=optimizer, loss=\"categorical_crossentropy\", metrics=[\"accuracy\"]\n",
    ")\n",
    "\n",
    "early_stopping = EarlyStopping(\n",
    "    monitor=\"val_loss\", patience=30, restore_best_weights=True\n",
    ")\n",
    "\n",
    "es_acc = EarlyStopping(\n",
    "    monitor=\"val_accuracy\",\n",
    "    min_delta=0,\n",
    "    patience=50,\n",
    "    verbose=1,\n",
    "    mode=\"auto\",\n",
    "    baseline=None,\n",
    "    restore_best_weights=True,\n",
    ")\n",
    "\n",
    "lr_scheduler = ReduceLROnPlateau(\n",
    "    monitor=\"val_loss\", factor=0.5, patience=10\n",
    ")"
   ]
  },
  {
   "cell_type": "markdown",
   "metadata": {},
   "source": [
    "##### Training Model"
   ]
  },
  {
   "cell_type": "code",
   "execution_count": 16,
   "metadata": {},
   "outputs": [
    {
     "name": "stdout",
     "output_type": "stream",
     "text": [
      "WARNING:tensorflow:From u:\\workspace\\bangkit\\capstone\\signa_lingua-vision-slr-public\\venv\\lib\\site-packages\\keras\\src\\backend\\common\\global_state.py:82: The name tf.reset_default_graph is deprecated. Please use tf.compat.v1.reset_default_graph instead.\n",
      "\n",
      "Epoch 1/300\n",
      "\u001b[1m84/84\u001b[0m \u001b[32m━━━━━━━━━━━━━━━━━━━━\u001b[0m\u001b[37m\u001b[0m \u001b[1m4s\u001b[0m 15ms/step - accuracy: 0.3394 - loss: 6.5982 - val_accuracy: 0.4747 - val_loss: 6.1387 - learning_rate: 1.0000e-04\n",
      "Epoch 2/300\n",
      "\u001b[1m84/84\u001b[0m \u001b[32m━━━━━━━━━━━━━━━━━━━━\u001b[0m\u001b[37m\u001b[0m \u001b[1m1s\u001b[0m 10ms/step - accuracy: 0.7105 - loss: 5.8122 - val_accuracy: 0.7991 - val_loss: 5.4108 - learning_rate: 1.0000e-04\n",
      "Epoch 3/300\n",
      "\u001b[1m84/84\u001b[0m \u001b[32m━━━━━━━━━━━━━━━━━━━━\u001b[0m\u001b[37m\u001b[0m \u001b[1m1s\u001b[0m 10ms/step - accuracy: 0.8291 - loss: 4.9337 - val_accuracy: 0.8646 - val_loss: 4.6934 - learning_rate: 1.0000e-04\n",
      "Epoch 4/300\n",
      "\u001b[1m84/84\u001b[0m \u001b[32m━━━━━━━━━━━━━━━━━━━━\u001b[0m\u001b[37m\u001b[0m \u001b[1m1s\u001b[0m 10ms/step - accuracy: 0.8871 - loss: 4.3830 - val_accuracy: 0.8869 - val_loss: 4.2302 - learning_rate: 1.0000e-04\n",
      "Epoch 5/300\n",
      "\u001b[1m84/84\u001b[0m \u001b[32m━━━━━━━━━━━━━━━━━━━━\u001b[0m\u001b[37m\u001b[0m \u001b[1m1s\u001b[0m 10ms/step - accuracy: 0.9268 - loss: 4.0319 - val_accuracy: 0.9003 - val_loss: 3.9685 - learning_rate: 1.0000e-04\n",
      "Epoch 6/300\n",
      "\u001b[1m84/84\u001b[0m \u001b[32m━━━━━━━━━━━━━━━━━━━━\u001b[0m\u001b[37m\u001b[0m \u001b[1m1s\u001b[0m 10ms/step - accuracy: 0.9421 - loss: 3.7796 - val_accuracy: 0.8988 - val_loss: 3.7840 - learning_rate: 1.0000e-04\n",
      "Epoch 7/300\n",
      "\u001b[1m84/84\u001b[0m \u001b[32m━━━━━━━━━━━━━━━━━━━━\u001b[0m\u001b[37m\u001b[0m \u001b[1m1s\u001b[0m 10ms/step - accuracy: 0.9523 - loss: 3.5658 - val_accuracy: 0.9003 - val_loss: 3.6258 - learning_rate: 1.0000e-04\n",
      "Epoch 8/300\n",
      "\u001b[1m84/84\u001b[0m \u001b[32m━━━━━━━━━━━━━━━━━━━━\u001b[0m\u001b[37m\u001b[0m \u001b[1m1s\u001b[0m 10ms/step - accuracy: 0.9580 - loss: 3.4088 - val_accuracy: 0.9077 - val_loss: 3.4867 - learning_rate: 1.0000e-04\n",
      "Epoch 9/300\n",
      "\u001b[1m84/84\u001b[0m \u001b[32m━━━━━━━━━━━━━━━━━━━━\u001b[0m\u001b[37m\u001b[0m \u001b[1m1s\u001b[0m 11ms/step - accuracy: 0.9744 - loss: 3.2278 - val_accuracy: 0.9077 - val_loss: 3.4009 - learning_rate: 1.0000e-04\n",
      "Epoch 10/300\n",
      "\u001b[1m84/84\u001b[0m \u001b[32m━━━━━━━━━━━━━━━━━━━━\u001b[0m\u001b[37m\u001b[0m \u001b[1m1s\u001b[0m 10ms/step - accuracy: 0.9810 - loss: 3.0870 - val_accuracy: 0.9107 - val_loss: 3.2705 - learning_rate: 1.0000e-04\n",
      "Epoch 11/300\n",
      "\u001b[1m84/84\u001b[0m \u001b[32m━━━━━━━━━━━━━━━━━━━━\u001b[0m\u001b[37m\u001b[0m \u001b[1m1s\u001b[0m 10ms/step - accuracy: 0.9809 - loss: 2.9558 - val_accuracy: 0.9062 - val_loss: 3.2436 - learning_rate: 1.0000e-04\n",
      "Epoch 12/300\n",
      "\u001b[1m84/84\u001b[0m \u001b[32m━━━━━━━━━━━━━━━━━━━━\u001b[0m\u001b[37m\u001b[0m \u001b[1m1s\u001b[0m 10ms/step - accuracy: 0.9854 - loss: 2.8153 - val_accuracy: 0.9211 - val_loss: 3.0297 - learning_rate: 1.0000e-04\n",
      "Epoch 13/300\n",
      "\u001b[1m84/84\u001b[0m \u001b[32m━━━━━━━━━━━━━━━━━━━━\u001b[0m\u001b[37m\u001b[0m \u001b[1m1s\u001b[0m 10ms/step - accuracy: 0.9851 - loss: 2.7088 - val_accuracy: 0.9211 - val_loss: 2.9179 - learning_rate: 1.0000e-04\n",
      "Epoch 14/300\n",
      "\u001b[1m84/84\u001b[0m \u001b[32m━━━━━━━━━━━━━━━━━━━━\u001b[0m\u001b[37m\u001b[0m \u001b[1m1s\u001b[0m 10ms/step - accuracy: 0.9865 - loss: 2.5950 - val_accuracy: 0.9211 - val_loss: 2.8192 - learning_rate: 1.0000e-04\n",
      "Epoch 15/300\n",
      "\u001b[1m84/84\u001b[0m \u001b[32m━━━━━━━━━━━━━━━━━━━━\u001b[0m\u001b[37m\u001b[0m \u001b[1m1s\u001b[0m 10ms/step - accuracy: 0.9865 - loss: 2.4931 - val_accuracy: 0.9152 - val_loss: 2.8041 - learning_rate: 1.0000e-04\n",
      "Epoch 16/300\n",
      "\u001b[1m84/84\u001b[0m \u001b[32m━━━━━━━━━━━━━━━━━━━━\u001b[0m\u001b[37m\u001b[0m \u001b[1m1s\u001b[0m 10ms/step - accuracy: 0.9920 - loss: 2.3767 - val_accuracy: 0.9092 - val_loss: 2.7075 - learning_rate: 1.0000e-04\n",
      "Epoch 17/300\n",
      "\u001b[1m84/84\u001b[0m \u001b[32m━━━━━━━━━━━━━━━━━━━━\u001b[0m\u001b[37m\u001b[0m \u001b[1m1s\u001b[0m 10ms/step - accuracy: 0.9930 - loss: 2.2917 - val_accuracy: 0.9211 - val_loss: 2.5994 - learning_rate: 1.0000e-04\n",
      "Epoch 18/300\n",
      "\u001b[1m84/84\u001b[0m \u001b[32m━━━━━━━━━━━━━━━━━━━━\u001b[0m\u001b[37m\u001b[0m \u001b[1m1s\u001b[0m 10ms/step - accuracy: 0.9898 - loss: 2.2076 - val_accuracy: 0.9182 - val_loss: 2.5035 - learning_rate: 1.0000e-04\n",
      "Epoch 19/300\n",
      "\u001b[1m84/84\u001b[0m \u001b[32m━━━━━━━━━━━━━━━━━━━━\u001b[0m\u001b[37m\u001b[0m \u001b[1m1s\u001b[0m 11ms/step - accuracy: 0.9950 - loss: 2.1164 - val_accuracy: 0.9196 - val_loss: 2.4747 - learning_rate: 1.0000e-04\n",
      "Epoch 20/300\n",
      "\u001b[1m84/84\u001b[0m \u001b[32m━━━━━━━━━━━━━━━━━━━━\u001b[0m\u001b[37m\u001b[0m \u001b[1m1s\u001b[0m 10ms/step - accuracy: 0.9935 - loss: 2.0394 - val_accuracy: 0.9137 - val_loss: 2.3983 - learning_rate: 1.0000e-04\n",
      "Epoch 21/300\n",
      "\u001b[1m84/84\u001b[0m \u001b[32m━━━━━━━━━━━━━━━━━━━━\u001b[0m\u001b[37m\u001b[0m \u001b[1m1s\u001b[0m 10ms/step - accuracy: 0.9877 - loss: 1.9796 - val_accuracy: 0.9182 - val_loss: 2.2853 - learning_rate: 1.0000e-04\n",
      "Epoch 22/300\n",
      "\u001b[1m84/84\u001b[0m \u001b[32m━━━━━━━━━━━━━━━━━━━━\u001b[0m\u001b[37m\u001b[0m \u001b[1m1s\u001b[0m 10ms/step - accuracy: 0.9900 - loss: 1.8975 - val_accuracy: 0.9211 - val_loss: 2.2489 - learning_rate: 1.0000e-04\n",
      "Epoch 23/300\n",
      "\u001b[1m84/84\u001b[0m \u001b[32m━━━━━━━━━━━━━━━━━━━━\u001b[0m\u001b[37m\u001b[0m \u001b[1m1s\u001b[0m 10ms/step - accuracy: 0.9943 - loss: 1.8239 - val_accuracy: 0.9256 - val_loss: 2.1997 - learning_rate: 1.0000e-04\n",
      "Epoch 24/300\n",
      "\u001b[1m84/84\u001b[0m \u001b[32m━━━━━━━━━━━━━━━━━━━━\u001b[0m\u001b[37m\u001b[0m \u001b[1m1s\u001b[0m 10ms/step - accuracy: 0.9913 - loss: 1.7611 - val_accuracy: 0.9182 - val_loss: 2.0914 - learning_rate: 1.0000e-04\n",
      "Epoch 25/300\n",
      "\u001b[1m84/84\u001b[0m \u001b[32m━━━━━━━━━━━━━━━━━━━━\u001b[0m\u001b[37m\u001b[0m \u001b[1m1s\u001b[0m 10ms/step - accuracy: 0.9936 - loss: 1.6852 - val_accuracy: 0.9226 - val_loss: 2.0302 - learning_rate: 1.0000e-04\n",
      "Epoch 26/300\n",
      "\u001b[1m84/84\u001b[0m \u001b[32m━━━━━━━━━━━━━━━━━━━━\u001b[0m\u001b[37m\u001b[0m \u001b[1m1s\u001b[0m 10ms/step - accuracy: 0.9961 - loss: 1.6202 - val_accuracy: 0.9137 - val_loss: 2.0595 - learning_rate: 1.0000e-04\n",
      "Epoch 27/300\n",
      "\u001b[1m84/84\u001b[0m \u001b[32m━━━━━━━━━━━━━━━━━━━━\u001b[0m\u001b[37m\u001b[0m \u001b[1m1s\u001b[0m 11ms/step - accuracy: 0.9805 - loss: 1.6032 - val_accuracy: 0.9092 - val_loss: 1.9199 - learning_rate: 1.0000e-04\n",
      "Epoch 28/300\n",
      "\u001b[1m84/84\u001b[0m \u001b[32m━━━━━━━━━━━━━━━━━━━━\u001b[0m\u001b[37m\u001b[0m \u001b[1m1s\u001b[0m 10ms/step - accuracy: 0.9957 - loss: 1.5217 - val_accuracy: 0.9315 - val_loss: 1.8499 - learning_rate: 1.0000e-04\n",
      "Epoch 29/300\n",
      "\u001b[1m84/84\u001b[0m \u001b[32m━━━━━━━━━━━━━━━━━━━━\u001b[0m\u001b[37m\u001b[0m \u001b[1m1s\u001b[0m 10ms/step - accuracy: 0.9980 - loss: 1.4631 - val_accuracy: 0.9315 - val_loss: 1.8521 - learning_rate: 1.0000e-04\n",
      "Epoch 30/300\n",
      "\u001b[1m84/84\u001b[0m \u001b[32m━━━━━━━━━━━━━━━━━━━━\u001b[0m\u001b[37m\u001b[0m \u001b[1m1s\u001b[0m 10ms/step - accuracy: 0.9906 - loss: 1.4270 - val_accuracy: 0.9182 - val_loss: 1.8342 - learning_rate: 1.0000e-04\n",
      "Epoch 31/300\n",
      "\u001b[1m84/84\u001b[0m \u001b[32m━━━━━━━━━━━━━━━━━━━━\u001b[0m\u001b[37m\u001b[0m \u001b[1m1s\u001b[0m 10ms/step - accuracy: 0.9955 - loss: 1.3689 - val_accuracy: 0.9196 - val_loss: 1.7761 - learning_rate: 1.0000e-04\n",
      "Epoch 32/300\n",
      "\u001b[1m84/84\u001b[0m \u001b[32m━━━━━━━━━━━━━━━━━━━━\u001b[0m\u001b[37m\u001b[0m \u001b[1m1s\u001b[0m 10ms/step - accuracy: 0.9881 - loss: 1.3525 - val_accuracy: 0.9122 - val_loss: 1.6644 - learning_rate: 1.0000e-04\n",
      "Epoch 33/300\n",
      "\u001b[1m84/84\u001b[0m \u001b[32m━━━━━━━━━━━━━━━━━━━━\u001b[0m\u001b[37m\u001b[0m \u001b[1m1s\u001b[0m 10ms/step - accuracy: 0.9969 - loss: 1.2829 - val_accuracy: 0.9256 - val_loss: 1.6855 - learning_rate: 1.0000e-04\n",
      "Epoch 34/300\n",
      "\u001b[1m84/84\u001b[0m \u001b[32m━━━━━━━━━━━━━━━━━━━━\u001b[0m\u001b[37m\u001b[0m \u001b[1m1s\u001b[0m 10ms/step - accuracy: 0.9990 - loss: 1.2352 - val_accuracy: 0.9226 - val_loss: 1.6726 - learning_rate: 1.0000e-04\n",
      "Epoch 35/300\n",
      "\u001b[1m84/84\u001b[0m \u001b[32m━━━━━━━━━━━━━━━━━━━━\u001b[0m\u001b[37m\u001b[0m \u001b[1m1s\u001b[0m 12ms/step - accuracy: 0.9969 - loss: 1.1933 - val_accuracy: 0.9271 - val_loss: 1.6267 - learning_rate: 1.0000e-04\n",
      "Epoch 36/300\n",
      "\u001b[1m84/84\u001b[0m \u001b[32m━━━━━━━━━━━━━━━━━━━━\u001b[0m\u001b[37m\u001b[0m \u001b[1m1s\u001b[0m 12ms/step - accuracy: 0.9974 - loss: 1.1532 - val_accuracy: 0.8988 - val_loss: 1.5932 - learning_rate: 1.0000e-04\n",
      "Epoch 37/300\n",
      "\u001b[1m84/84\u001b[0m \u001b[32m━━━━━━━━━━━━━━━━━━━━\u001b[0m\u001b[37m\u001b[0m \u001b[1m1s\u001b[0m 12ms/step - accuracy: 0.9893 - loss: 1.1385 - val_accuracy: 0.9241 - val_loss: 1.4762 - learning_rate: 1.0000e-04\n",
      "Epoch 38/300\n",
      "\u001b[1m84/84\u001b[0m \u001b[32m━━━━━━━━━━━━━━━━━━━━\u001b[0m\u001b[37m\u001b[0m \u001b[1m1s\u001b[0m 11ms/step - accuracy: 0.9981 - loss: 1.0727 - val_accuracy: 0.9182 - val_loss: 1.4483 - learning_rate: 1.0000e-04\n",
      "Epoch 39/300\n",
      "\u001b[1m84/84\u001b[0m \u001b[32m━━━━━━━━━━━━━━━━━━━━\u001b[0m\u001b[37m\u001b[0m \u001b[1m1s\u001b[0m 11ms/step - accuracy: 0.9969 - loss: 1.0432 - val_accuracy: 0.9182 - val_loss: 1.3988 - learning_rate: 1.0000e-04\n",
      "Epoch 40/300\n",
      "\u001b[1m84/84\u001b[0m \u001b[32m━━━━━━━━━━━━━━━━━━━━\u001b[0m\u001b[37m\u001b[0m \u001b[1m1s\u001b[0m 11ms/step - accuracy: 0.9917 - loss: 1.0263 - val_accuracy: 0.9271 - val_loss: 1.3609 - learning_rate: 1.0000e-04\n",
      "Epoch 41/300\n",
      "\u001b[1m84/84\u001b[0m \u001b[32m━━━━━━━━━━━━━━━━━━━━\u001b[0m\u001b[37m\u001b[0m \u001b[1m1s\u001b[0m 11ms/step - accuracy: 0.9980 - loss: 0.9786 - val_accuracy: 0.9345 - val_loss: 1.3497 - learning_rate: 1.0000e-04\n",
      "Epoch 42/300\n",
      "\u001b[1m84/84\u001b[0m \u001b[32m━━━━━━━━━━━━━━━━━━━━\u001b[0m\u001b[37m\u001b[0m \u001b[1m1s\u001b[0m 11ms/step - accuracy: 0.9974 - loss: 0.9436 - val_accuracy: 0.9256 - val_loss: 1.3771 - learning_rate: 1.0000e-04\n",
      "Epoch 43/300\n",
      "\u001b[1m84/84\u001b[0m \u001b[32m━━━━━━━━━━━━━━━━━━━━\u001b[0m\u001b[37m\u001b[0m \u001b[1m1s\u001b[0m 11ms/step - accuracy: 0.9957 - loss: 0.9118 - val_accuracy: 0.9226 - val_loss: 1.3944 - learning_rate: 1.0000e-04\n",
      "Epoch 44/300\n",
      "\u001b[1m84/84\u001b[0m \u001b[32m━━━━━━━━━━━━━━━━━━━━\u001b[0m\u001b[37m\u001b[0m \u001b[1m1s\u001b[0m 11ms/step - accuracy: 0.9891 - loss: 0.8965 - val_accuracy: 0.9167 - val_loss: 1.3659 - learning_rate: 1.0000e-04\n",
      "Epoch 45/300\n",
      "\u001b[1m84/84\u001b[0m \u001b[32m━━━━━━━━━━━━━━━━━━━━\u001b[0m\u001b[37m\u001b[0m \u001b[1m1s\u001b[0m 11ms/step - accuracy: 0.9957 - loss: 0.8578 - val_accuracy: 0.9182 - val_loss: 1.3260 - learning_rate: 1.0000e-04\n",
      "Epoch 46/300\n",
      "\u001b[1m84/84\u001b[0m \u001b[32m━━━━━━━━━━━━━━━━━━━━\u001b[0m\u001b[37m\u001b[0m \u001b[1m1s\u001b[0m 11ms/step - accuracy: 0.9927 - loss: 0.8374 - val_accuracy: 0.9301 - val_loss: 1.2121 - learning_rate: 1.0000e-04\n",
      "Epoch 47/300\n",
      "\u001b[1m84/84\u001b[0m \u001b[32m━━━━━━━━━━━━━━━━━━━━\u001b[0m\u001b[37m\u001b[0m \u001b[1m1s\u001b[0m 11ms/step - accuracy: 0.9959 - loss: 0.8051 - val_accuracy: 0.9286 - val_loss: 1.2188 - learning_rate: 1.0000e-04\n",
      "Epoch 48/300\n",
      "\u001b[1m84/84\u001b[0m \u001b[32m━━━━━━━━━━━━━━━━━━━━\u001b[0m\u001b[37m\u001b[0m \u001b[1m1s\u001b[0m 11ms/step - accuracy: 0.9967 - loss: 0.7792 - val_accuracy: 0.9241 - val_loss: 1.2342 - learning_rate: 1.0000e-04\n",
      "Epoch 49/300\n",
      "\u001b[1m84/84\u001b[0m \u001b[32m━━━━━━━━━━━━━━━━━━━━\u001b[0m\u001b[37m\u001b[0m \u001b[1m1s\u001b[0m 11ms/step - accuracy: 0.9986 - loss: 0.7438 - val_accuracy: 0.9241 - val_loss: 1.2082 - learning_rate: 1.0000e-04\n",
      "Epoch 50/300\n",
      "\u001b[1m84/84\u001b[0m \u001b[32m━━━━━━━━━━━━━━━━━━━━\u001b[0m\u001b[37m\u001b[0m \u001b[1m1s\u001b[0m 11ms/step - accuracy: 0.9972 - loss: 0.7220 - val_accuracy: 0.9286 - val_loss: 1.1530 - learning_rate: 1.0000e-04\n",
      "Epoch 51/300\n",
      "\u001b[1m84/84\u001b[0m \u001b[32m━━━━━━━━━━━━━━━━━━━━\u001b[0m\u001b[37m\u001b[0m \u001b[1m1s\u001b[0m 11ms/step - accuracy: 0.9970 - loss: 0.6993 - val_accuracy: 0.9152 - val_loss: 1.1917 - learning_rate: 1.0000e-04\n",
      "Epoch 52/300\n",
      "\u001b[1m84/84\u001b[0m \u001b[32m━━━━━━━━━━━━━━━━━━━━\u001b[0m\u001b[37m\u001b[0m \u001b[1m1s\u001b[0m 11ms/step - accuracy: 0.9945 - loss: 0.6895 - val_accuracy: 0.9241 - val_loss: 1.0916 - learning_rate: 1.0000e-04\n",
      "Epoch 53/300\n",
      "\u001b[1m84/84\u001b[0m \u001b[32m━━━━━━━━━━━━━━━━━━━━\u001b[0m\u001b[37m\u001b[0m \u001b[1m1s\u001b[0m 11ms/step - accuracy: 0.9983 - loss: 0.6511 - val_accuracy: 0.9211 - val_loss: 1.1296 - learning_rate: 1.0000e-04\n",
      "Epoch 54/300\n",
      "\u001b[1m84/84\u001b[0m \u001b[32m━━━━━━━━━━━━━━━━━━━━\u001b[0m\u001b[37m\u001b[0m \u001b[1m1s\u001b[0m 12ms/step - accuracy: 0.9957 - loss: 0.6369 - val_accuracy: 0.9196 - val_loss: 1.1463 - learning_rate: 1.0000e-04\n",
      "Epoch 55/300\n",
      "\u001b[1m84/84\u001b[0m \u001b[32m━━━━━━━━━━━━━━━━━━━━\u001b[0m\u001b[37m\u001b[0m \u001b[1m1s\u001b[0m 12ms/step - accuracy: 0.9955 - loss: 0.6149 - val_accuracy: 0.9211 - val_loss: 1.0692 - learning_rate: 1.0000e-04\n",
      "Epoch 56/300\n",
      "\u001b[1m84/84\u001b[0m \u001b[32m━━━━━━━━━━━━━━━━━━━━\u001b[0m\u001b[37m\u001b[0m \u001b[1m1s\u001b[0m 12ms/step - accuracy: 0.9980 - loss: 0.5871 - val_accuracy: 0.9271 - val_loss: 1.0473 - learning_rate: 1.0000e-04\n",
      "Epoch 57/300\n",
      "\u001b[1m84/84\u001b[0m \u001b[32m━━━━━━━━━━━━━━━━━━━━\u001b[0m\u001b[37m\u001b[0m \u001b[1m1s\u001b[0m 11ms/step - accuracy: 0.9975 - loss: 0.5674 - val_accuracy: 0.9256 - val_loss: 1.0356 - learning_rate: 1.0000e-04\n",
      "Epoch 58/300\n",
      "\u001b[1m84/84\u001b[0m \u001b[32m━━━━━━━━━━━━━━━━━━━━\u001b[0m\u001b[37m\u001b[0m \u001b[1m1s\u001b[0m 11ms/step - accuracy: 0.9924 - loss: 0.5628 - val_accuracy: 0.9271 - val_loss: 0.9774 - learning_rate: 1.0000e-04\n",
      "Epoch 59/300\n",
      "\u001b[1m84/84\u001b[0m \u001b[32m━━━━━━━━━━━━━━━━━━━━\u001b[0m\u001b[37m\u001b[0m \u001b[1m1s\u001b[0m 12ms/step - accuracy: 0.9946 - loss: 0.5408 - val_accuracy: 0.9301 - val_loss: 0.9091 - learning_rate: 1.0000e-04\n",
      "Epoch 60/300\n",
      "\u001b[1m84/84\u001b[0m \u001b[32m━━━━━━━━━━━━━━━━━━━━\u001b[0m\u001b[37m\u001b[0m \u001b[1m1s\u001b[0m 12ms/step - accuracy: 0.9983 - loss: 0.5151 - val_accuracy: 0.9271 - val_loss: 0.9665 - learning_rate: 1.0000e-04\n",
      "Epoch 61/300\n",
      "\u001b[1m84/84\u001b[0m \u001b[32m━━━━━━━━━━━━━━━━━━━━\u001b[0m\u001b[37m\u001b[0m \u001b[1m1s\u001b[0m 11ms/step - accuracy: 0.9939 - loss: 0.5089 - val_accuracy: 0.9152 - val_loss: 0.9858 - learning_rate: 1.0000e-04\n",
      "Epoch 62/300\n",
      "\u001b[1m84/84\u001b[0m \u001b[32m━━━━━━━━━━━━━━━━━━━━\u001b[0m\u001b[37m\u001b[0m \u001b[1m1s\u001b[0m 12ms/step - accuracy: 0.9908 - loss: 0.5029 - val_accuracy: 0.9182 - val_loss: 0.8769 - learning_rate: 1.0000e-04\n",
      "Epoch 63/300\n",
      "\u001b[1m84/84\u001b[0m \u001b[32m━━━━━━━━━━━━━━━━━━━━\u001b[0m\u001b[37m\u001b[0m \u001b[1m1s\u001b[0m 11ms/step - accuracy: 0.9965 - loss: 0.4725 - val_accuracy: 0.9330 - val_loss: 0.8312 - learning_rate: 1.0000e-04\n",
      "Epoch 64/300\n",
      "\u001b[1m84/84\u001b[0m \u001b[32m━━━━━━━━━━━━━━━━━━━━\u001b[0m\u001b[37m\u001b[0m \u001b[1m1s\u001b[0m 12ms/step - accuracy: 0.9991 - loss: 0.4501 - val_accuracy: 0.9241 - val_loss: 0.8572 - learning_rate: 1.0000e-04\n",
      "Epoch 65/300\n",
      "\u001b[1m84/84\u001b[0m \u001b[32m━━━━━━━━━━━━━━━━━━━━\u001b[0m\u001b[37m\u001b[0m \u001b[1m1s\u001b[0m 12ms/step - accuracy: 0.9981 - loss: 0.4398 - val_accuracy: 0.9226 - val_loss: 0.8213 - learning_rate: 1.0000e-04\n",
      "Epoch 66/300\n",
      "\u001b[1m84/84\u001b[0m \u001b[32m━━━━━━━━━━━━━━━━━━━━\u001b[0m\u001b[37m\u001b[0m \u001b[1m1s\u001b[0m 12ms/step - accuracy: 0.9977 - loss: 0.4258 - val_accuracy: 0.9301 - val_loss: 0.8020 - learning_rate: 1.0000e-04\n",
      "Epoch 67/300\n",
      "\u001b[1m84/84\u001b[0m \u001b[32m━━━━━━━━━━━━━━━━━━━━\u001b[0m\u001b[37m\u001b[0m \u001b[1m1s\u001b[0m 11ms/step - accuracy: 0.9942 - loss: 0.4179 - val_accuracy: 0.9286 - val_loss: 0.8097 - learning_rate: 1.0000e-04\n",
      "Epoch 68/300\n",
      "\u001b[1m84/84\u001b[0m \u001b[32m━━━━━━━━━━━━━━━━━━━━\u001b[0m\u001b[37m\u001b[0m \u001b[1m1s\u001b[0m 11ms/step - accuracy: 0.9950 - loss: 0.4110 - val_accuracy: 0.9241 - val_loss: 0.8145 - learning_rate: 1.0000e-04\n",
      "Epoch 69/300\n",
      "\u001b[1m84/84\u001b[0m \u001b[32m━━━━━━━━━━━━━━━━━━━━\u001b[0m\u001b[37m\u001b[0m \u001b[1m1s\u001b[0m 12ms/step - accuracy: 0.9971 - loss: 0.3847 - val_accuracy: 0.9196 - val_loss: 0.8438 - learning_rate: 1.0000e-04\n",
      "Epoch 70/300\n",
      "\u001b[1m84/84\u001b[0m \u001b[32m━━━━━━━━━━━━━━━━━━━━\u001b[0m\u001b[37m\u001b[0m \u001b[1m1s\u001b[0m 12ms/step - accuracy: 0.9966 - loss: 0.3744 - val_accuracy: 0.9256 - val_loss: 0.8138 - learning_rate: 1.0000e-04\n",
      "Epoch 71/300\n",
      "\u001b[1m84/84\u001b[0m \u001b[32m━━━━━━━━━━━━━━━━━━━━\u001b[0m\u001b[37m\u001b[0m \u001b[1m1s\u001b[0m 11ms/step - accuracy: 0.9972 - loss: 0.3598 - val_accuracy: 0.9167 - val_loss: 0.7893 - learning_rate: 1.0000e-04\n",
      "Epoch 72/300\n",
      "\u001b[1m84/84\u001b[0m \u001b[32m━━━━━━━━━━━━━━━━━━━━\u001b[0m\u001b[37m\u001b[0m \u001b[1m1s\u001b[0m 12ms/step - accuracy: 0.9959 - loss: 0.3578 - val_accuracy: 0.9301 - val_loss: 0.7264 - learning_rate: 1.0000e-04\n",
      "Epoch 73/300\n",
      "\u001b[1m84/84\u001b[0m \u001b[32m━━━━━━━━━━━━━━━━━━━━\u001b[0m\u001b[37m\u001b[0m \u001b[1m1s\u001b[0m 12ms/step - accuracy: 0.9986 - loss: 0.3358 - val_accuracy: 0.9301 - val_loss: 0.6901 - learning_rate: 1.0000e-04\n",
      "Epoch 74/300\n",
      "\u001b[1m84/84\u001b[0m \u001b[32m━━━━━━━━━━━━━━━━━━━━\u001b[0m\u001b[37m\u001b[0m \u001b[1m1s\u001b[0m 12ms/step - accuracy: 0.9953 - loss: 0.3329 - val_accuracy: 0.9345 - val_loss: 0.7057 - learning_rate: 1.0000e-04\n",
      "Epoch 75/300\n",
      "\u001b[1m84/84\u001b[0m \u001b[32m━━━━━━━━━━━━━━━━━━━━\u001b[0m\u001b[37m\u001b[0m \u001b[1m1s\u001b[0m 12ms/step - accuracy: 0.9869 - loss: 0.3464 - val_accuracy: 0.9211 - val_loss: 0.7335 - learning_rate: 1.0000e-04\n",
      "Epoch 76/300\n",
      "\u001b[1m84/84\u001b[0m \u001b[32m━━━━━━━━━━━━━━━━━━━━\u001b[0m\u001b[37m\u001b[0m \u001b[1m1s\u001b[0m 12ms/step - accuracy: 0.9955 - loss: 0.3206 - val_accuracy: 0.9182 - val_loss: 0.8173 - learning_rate: 1.0000e-04\n",
      "Epoch 77/300\n",
      "\u001b[1m84/84\u001b[0m \u001b[32m━━━━━━━━━━━━━━━━━━━━\u001b[0m\u001b[37m\u001b[0m \u001b[1m1s\u001b[0m 12ms/step - accuracy: 0.9971 - loss: 0.3040 - val_accuracy: 0.9152 - val_loss: 0.7419 - learning_rate: 1.0000e-04\n",
      "Epoch 78/300\n",
      "\u001b[1m84/84\u001b[0m \u001b[32m━━━━━━━━━━━━━━━━━━━━\u001b[0m\u001b[37m\u001b[0m \u001b[1m1s\u001b[0m 11ms/step - accuracy: 0.9952 - loss: 0.3092 - val_accuracy: 0.9226 - val_loss: 0.6685 - learning_rate: 1.0000e-04\n",
      "Epoch 79/300\n",
      "\u001b[1m84/84\u001b[0m \u001b[32m━━━━━━━━━━━━━━━━━━━━\u001b[0m\u001b[37m\u001b[0m \u001b[1m1s\u001b[0m 11ms/step - accuracy: 0.9975 - loss: 0.2921 - val_accuracy: 0.9152 - val_loss: 0.7062 - learning_rate: 1.0000e-04\n",
      "Epoch 80/300\n",
      "\u001b[1m84/84\u001b[0m \u001b[32m━━━━━━━━━━━━━━━━━━━━\u001b[0m\u001b[37m\u001b[0m \u001b[1m1s\u001b[0m 12ms/step - accuracy: 0.9997 - loss: 0.2715 - val_accuracy: 0.9196 - val_loss: 0.7298 - learning_rate: 1.0000e-04\n",
      "Epoch 81/300\n",
      "\u001b[1m84/84\u001b[0m \u001b[32m━━━━━━━━━━━━━━━━━━━━\u001b[0m\u001b[37m\u001b[0m \u001b[1m1s\u001b[0m 12ms/step - accuracy: 0.9994 - loss: 0.2628 - val_accuracy: 0.9286 - val_loss: 0.6992 - learning_rate: 1.0000e-04\n",
      "Epoch 82/300\n",
      "\u001b[1m84/84\u001b[0m \u001b[32m━━━━━━━━━━━━━━━━━━━━\u001b[0m\u001b[37m\u001b[0m \u001b[1m1s\u001b[0m 12ms/step - accuracy: 0.9940 - loss: 0.2666 - val_accuracy: 0.9301 - val_loss: 0.6901 - learning_rate: 1.0000e-04\n",
      "Epoch 83/300\n",
      "\u001b[1m84/84\u001b[0m \u001b[32m━━━━━━━━━━━━━━━━━━━━\u001b[0m\u001b[37m\u001b[0m \u001b[1m1s\u001b[0m 12ms/step - accuracy: 0.9935 - loss: 0.2692 - val_accuracy: 0.9271 - val_loss: 0.6208 - learning_rate: 1.0000e-04\n",
      "Epoch 84/300\n",
      "\u001b[1m84/84\u001b[0m \u001b[32m━━━━━━━━━━━━━━━━━━━━\u001b[0m\u001b[37m\u001b[0m \u001b[1m1s\u001b[0m 12ms/step - accuracy: 0.9971 - loss: 0.2481 - val_accuracy: 0.9271 - val_loss: 0.6581 - learning_rate: 1.0000e-04\n",
      "Epoch 85/300\n",
      "\u001b[1m84/84\u001b[0m \u001b[32m━━━━━━━━━━━━━━━━━━━━\u001b[0m\u001b[37m\u001b[0m \u001b[1m1s\u001b[0m 12ms/step - accuracy: 0.9964 - loss: 0.2449 - val_accuracy: 0.9256 - val_loss: 0.7164 - learning_rate: 1.0000e-04\n",
      "Epoch 86/300\n",
      "\u001b[1m84/84\u001b[0m \u001b[32m━━━━━━━━━━━━━━━━━━━━\u001b[0m\u001b[37m\u001b[0m \u001b[1m1s\u001b[0m 13ms/step - accuracy: 0.9967 - loss: 0.2348 - val_accuracy: 0.9286 - val_loss: 0.6577 - learning_rate: 1.0000e-04\n",
      "Epoch 87/300\n",
      "\u001b[1m84/84\u001b[0m \u001b[32m━━━━━━━━━━━━━━━━━━━━\u001b[0m\u001b[37m\u001b[0m \u001b[1m1s\u001b[0m 12ms/step - accuracy: 0.9977 - loss: 0.2271 - val_accuracy: 0.9286 - val_loss: 0.6705 - learning_rate: 1.0000e-04\n",
      "Epoch 88/300\n",
      "\u001b[1m84/84\u001b[0m \u001b[32m━━━━━━━━━━━━━━━━━━━━\u001b[0m\u001b[37m\u001b[0m \u001b[1m1s\u001b[0m 12ms/step - accuracy: 0.9938 - loss: 0.2321 - val_accuracy: 0.9182 - val_loss: 0.7442 - learning_rate: 1.0000e-04\n",
      "Epoch 89/300\n",
      "\u001b[1m84/84\u001b[0m \u001b[32m━━━━━━━━━━━━━━━━━━━━\u001b[0m\u001b[37m\u001b[0m \u001b[1m1s\u001b[0m 12ms/step - accuracy: 0.9962 - loss: 0.2197 - val_accuracy: 0.9256 - val_loss: 0.6944 - learning_rate: 1.0000e-04\n",
      "Epoch 90/300\n",
      "\u001b[1m84/84\u001b[0m \u001b[32m━━━━━━━━━━━━━━━━━━━━\u001b[0m\u001b[37m\u001b[0m \u001b[1m1s\u001b[0m 13ms/step - accuracy: 0.9951 - loss: 0.2183 - val_accuracy: 0.9301 - val_loss: 0.6657 - learning_rate: 1.0000e-04\n",
      "Epoch 91/300\n",
      "\u001b[1m84/84\u001b[0m \u001b[32m━━━━━━━━━━━━━━━━━━━━\u001b[0m\u001b[37m\u001b[0m \u001b[1m1s\u001b[0m 12ms/step - accuracy: 0.9919 - loss: 0.2178 - val_accuracy: 0.9360 - val_loss: 0.5861 - learning_rate: 1.0000e-04\n",
      "Epoch 92/300\n",
      "\u001b[1m84/84\u001b[0m \u001b[32m━━━━━━━━━━━━━━━━━━━━\u001b[0m\u001b[37m\u001b[0m \u001b[1m1s\u001b[0m 12ms/step - accuracy: 0.9989 - loss: 0.1959 - val_accuracy: 0.9226 - val_loss: 0.6638 - learning_rate: 1.0000e-04\n",
      "Epoch 93/300\n",
      "\u001b[1m84/84\u001b[0m \u001b[32m━━━━━━━━━━━━━━━━━━━━\u001b[0m\u001b[37m\u001b[0m \u001b[1m1s\u001b[0m 12ms/step - accuracy: 0.9974 - loss: 0.1920 - val_accuracy: 0.9315 - val_loss: 0.6447 - learning_rate: 1.0000e-04\n",
      "Epoch 94/300\n",
      "\u001b[1m84/84\u001b[0m \u001b[32m━━━━━━━━━━━━━━━━━━━━\u001b[0m\u001b[37m\u001b[0m \u001b[1m1s\u001b[0m 12ms/step - accuracy: 0.9970 - loss: 0.1890 - val_accuracy: 0.9330 - val_loss: 0.6483 - learning_rate: 1.0000e-04\n",
      "Epoch 95/300\n",
      "\u001b[1m84/84\u001b[0m \u001b[32m━━━━━━━━━━━━━━━━━━━━\u001b[0m\u001b[37m\u001b[0m \u001b[1m1s\u001b[0m 12ms/step - accuracy: 0.9959 - loss: 0.1898 - val_accuracy: 0.9211 - val_loss: 0.6993 - learning_rate: 1.0000e-04\n",
      "Epoch 96/300\n",
      "\u001b[1m84/84\u001b[0m \u001b[32m━━━━━━━━━━━━━━━━━━━━\u001b[0m\u001b[37m\u001b[0m \u001b[1m1s\u001b[0m 12ms/step - accuracy: 0.9954 - loss: 0.1845 - val_accuracy: 0.9330 - val_loss: 0.6032 - learning_rate: 1.0000e-04\n",
      "Epoch 97/300\n",
      "\u001b[1m84/84\u001b[0m \u001b[32m━━━━━━━━━━━━━━━━━━━━\u001b[0m\u001b[37m\u001b[0m \u001b[1m1s\u001b[0m 13ms/step - accuracy: 0.9962 - loss: 0.1783 - val_accuracy: 0.9286 - val_loss: 0.5799 - learning_rate: 1.0000e-04\n",
      "Epoch 98/300\n",
      "\u001b[1m84/84\u001b[0m \u001b[32m━━━━━━━━━━━━━━━━━━━━\u001b[0m\u001b[37m\u001b[0m \u001b[1m1s\u001b[0m 12ms/step - accuracy: 0.9980 - loss: 0.1687 - val_accuracy: 0.9286 - val_loss: 0.6231 - learning_rate: 1.0000e-04\n",
      "Epoch 99/300\n",
      "\u001b[1m84/84\u001b[0m \u001b[32m━━━━━━━━━━━━━━━━━━━━\u001b[0m\u001b[37m\u001b[0m \u001b[1m1s\u001b[0m 12ms/step - accuracy: 0.9961 - loss: 0.1703 - val_accuracy: 0.9286 - val_loss: 0.5752 - learning_rate: 1.0000e-04\n",
      "Epoch 100/300\n",
      "\u001b[1m84/84\u001b[0m \u001b[32m━━━━━━━━━━━━━━━━━━━━\u001b[0m\u001b[37m\u001b[0m \u001b[1m1s\u001b[0m 12ms/step - accuracy: 0.9944 - loss: 0.1747 - val_accuracy: 0.9241 - val_loss: 0.5439 - learning_rate: 1.0000e-04\n",
      "Epoch 101/300\n",
      "\u001b[1m84/84\u001b[0m \u001b[32m━━━━━━━━━━━━━━━━━━━━\u001b[0m\u001b[37m\u001b[0m \u001b[1m1s\u001b[0m 12ms/step - accuracy: 0.9962 - loss: 0.1625 - val_accuracy: 0.9211 - val_loss: 0.5757 - learning_rate: 1.0000e-04\n",
      "Epoch 102/300\n",
      "\u001b[1m84/84\u001b[0m \u001b[32m━━━━━━━━━━━━━━━━━━━━\u001b[0m\u001b[37m\u001b[0m \u001b[1m1s\u001b[0m 12ms/step - accuracy: 0.9967 - loss: 0.1577 - val_accuracy: 0.9345 - val_loss: 0.4913 - learning_rate: 1.0000e-04\n",
      "Epoch 103/300\n",
      "\u001b[1m84/84\u001b[0m \u001b[32m━━━━━━━━━━━━━━━━━━━━\u001b[0m\u001b[37m\u001b[0m \u001b[1m1s\u001b[0m 12ms/step - accuracy: 0.9953 - loss: 0.1577 - val_accuracy: 0.9286 - val_loss: 0.4984 - learning_rate: 1.0000e-04\n",
      "Epoch 104/300\n",
      "\u001b[1m84/84\u001b[0m \u001b[32m━━━━━━━━━━━━━━━━━━━━\u001b[0m\u001b[37m\u001b[0m \u001b[1m1s\u001b[0m 12ms/step - accuracy: 0.9969 - loss: 0.1486 - val_accuracy: 0.9315 - val_loss: 0.4870 - learning_rate: 1.0000e-04\n",
      "Epoch 105/300\n",
      "\u001b[1m84/84\u001b[0m \u001b[32m━━━━━━━━━━━━━━━━━━━━\u001b[0m\u001b[37m\u001b[0m \u001b[1m1s\u001b[0m 12ms/step - accuracy: 0.9964 - loss: 0.1482 - val_accuracy: 0.9167 - val_loss: 0.6130 - learning_rate: 1.0000e-04\n",
      "Epoch 106/300\n",
      "\u001b[1m84/84\u001b[0m \u001b[32m━━━━━━━━━━━━━━━━━━━━\u001b[0m\u001b[37m\u001b[0m \u001b[1m1s\u001b[0m 12ms/step - accuracy: 0.9982 - loss: 0.1454 - val_accuracy: 0.9330 - val_loss: 0.5369 - learning_rate: 1.0000e-04\n",
      "Epoch 107/300\n",
      "\u001b[1m84/84\u001b[0m \u001b[32m━━━━━━━━━━━━━━━━━━━━\u001b[0m\u001b[37m\u001b[0m \u001b[1m1s\u001b[0m 12ms/step - accuracy: 0.9938 - loss: 0.1431 - val_accuracy: 0.9226 - val_loss: 0.6032 - learning_rate: 1.0000e-04\n",
      "Epoch 108/300\n",
      "\u001b[1m84/84\u001b[0m \u001b[32m━━━━━━━━━━━━━━━━━━━━\u001b[0m\u001b[37m\u001b[0m \u001b[1m1s\u001b[0m 12ms/step - accuracy: 0.9870 - loss: 0.1592 - val_accuracy: 0.9330 - val_loss: 0.4698 - learning_rate: 1.0000e-04\n",
      "Epoch 109/300\n",
      "\u001b[1m84/84\u001b[0m \u001b[32m━━━━━━━━━━━━━━━━━━━━\u001b[0m\u001b[37m\u001b[0m \u001b[1m1s\u001b[0m 12ms/step - accuracy: 0.9961 - loss: 0.1383 - val_accuracy: 0.9301 - val_loss: 0.4732 - learning_rate: 1.0000e-04\n",
      "Epoch 110/300\n",
      "\u001b[1m84/84\u001b[0m \u001b[32m━━━━━━━━━━━━━━━━━━━━\u001b[0m\u001b[37m\u001b[0m \u001b[1m1s\u001b[0m 12ms/step - accuracy: 0.9909 - loss: 0.1461 - val_accuracy: 0.9301 - val_loss: 0.4730 - learning_rate: 1.0000e-04\n",
      "Epoch 111/300\n",
      "\u001b[1m84/84\u001b[0m \u001b[32m━━━━━━━━━━━━━━━━━━━━\u001b[0m\u001b[37m\u001b[0m \u001b[1m1s\u001b[0m 12ms/step - accuracy: 0.9959 - loss: 0.1329 - val_accuracy: 0.9315 - val_loss: 0.5159 - learning_rate: 1.0000e-04\n",
      "Epoch 112/300\n",
      "\u001b[1m84/84\u001b[0m \u001b[32m━━━━━━━━━━━━━━━━━━━━\u001b[0m\u001b[37m\u001b[0m \u001b[1m1s\u001b[0m 12ms/step - accuracy: 0.9975 - loss: 0.1330 - val_accuracy: 0.9330 - val_loss: 0.5049 - learning_rate: 1.0000e-04\n",
      "Epoch 113/300\n",
      "\u001b[1m84/84\u001b[0m \u001b[32m━━━━━━━━━━━━━━━━━━━━\u001b[0m\u001b[37m\u001b[0m \u001b[1m1s\u001b[0m 12ms/step - accuracy: 0.9955 - loss: 0.1333 - val_accuracy: 0.9301 - val_loss: 0.4626 - learning_rate: 1.0000e-04\n",
      "Epoch 114/300\n",
      "\u001b[1m84/84\u001b[0m \u001b[32m━━━━━━━━━━━━━━━━━━━━\u001b[0m\u001b[37m\u001b[0m \u001b[1m1s\u001b[0m 12ms/step - accuracy: 0.9951 - loss: 0.1254 - val_accuracy: 0.9330 - val_loss: 0.4480 - learning_rate: 1.0000e-04\n",
      "Epoch 115/300\n",
      "\u001b[1m84/84\u001b[0m \u001b[32m━━━━━━━━━━━━━━━━━━━━\u001b[0m\u001b[37m\u001b[0m \u001b[1m1s\u001b[0m 12ms/step - accuracy: 0.9979 - loss: 0.1196 - val_accuracy: 0.9345 - val_loss: 0.4954 - learning_rate: 1.0000e-04\n",
      "Epoch 116/300\n",
      "\u001b[1m84/84\u001b[0m \u001b[32m━━━━━━━━━━━━━━━━━━━━\u001b[0m\u001b[37m\u001b[0m \u001b[1m1s\u001b[0m 12ms/step - accuracy: 0.9961 - loss: 0.1242 - val_accuracy: 0.9256 - val_loss: 0.5490 - learning_rate: 1.0000e-04\n",
      "Epoch 117/300\n",
      "\u001b[1m84/84\u001b[0m \u001b[32m━━━━━━━━━━━━━━━━━━━━\u001b[0m\u001b[37m\u001b[0m \u001b[1m1s\u001b[0m 13ms/step - accuracy: 0.9964 - loss: 0.1228 - val_accuracy: 0.9390 - val_loss: 0.4483 - learning_rate: 1.0000e-04\n",
      "Epoch 118/300\n",
      "\u001b[1m84/84\u001b[0m \u001b[32m━━━━━━━━━━━━━━━━━━━━\u001b[0m\u001b[37m\u001b[0m \u001b[1m1s\u001b[0m 12ms/step - accuracy: 0.9972 - loss: 0.1176 - val_accuracy: 0.9360 - val_loss: 0.4491 - learning_rate: 1.0000e-04\n",
      "Epoch 119/300\n",
      "\u001b[1m84/84\u001b[0m \u001b[32m━━━━━━━━━━━━━━━━━━━━\u001b[0m\u001b[37m\u001b[0m \u001b[1m1s\u001b[0m 12ms/step - accuracy: 0.9967 - loss: 0.1147 - val_accuracy: 0.9375 - val_loss: 0.4048 - learning_rate: 1.0000e-04\n",
      "Epoch 120/300\n",
      "\u001b[1m84/84\u001b[0m \u001b[32m━━━━━━━━━━━━━━━━━━━━\u001b[0m\u001b[37m\u001b[0m \u001b[1m1s\u001b[0m 12ms/step - accuracy: 0.9956 - loss: 0.1135 - val_accuracy: 0.9345 - val_loss: 0.4159 - learning_rate: 1.0000e-04\n",
      "Epoch 121/300\n",
      "\u001b[1m84/84\u001b[0m \u001b[32m━━━━━━━━━━━━━━━━━━━━\u001b[0m\u001b[37m\u001b[0m \u001b[1m1s\u001b[0m 12ms/step - accuracy: 0.9994 - loss: 0.1081 - val_accuracy: 0.9420 - val_loss: 0.4207 - learning_rate: 1.0000e-04\n",
      "Epoch 122/300\n",
      "\u001b[1m84/84\u001b[0m \u001b[32m━━━━━━━━━━━━━━━━━━━━\u001b[0m\u001b[37m\u001b[0m \u001b[1m1s\u001b[0m 12ms/step - accuracy: 0.9959 - loss: 0.1108 - val_accuracy: 0.9390 - val_loss: 0.4105 - learning_rate: 1.0000e-04\n",
      "Epoch 123/300\n",
      "\u001b[1m84/84\u001b[0m \u001b[32m━━━━━━━━━━━━━━━━━━━━\u001b[0m\u001b[37m\u001b[0m \u001b[1m1s\u001b[0m 12ms/step - accuracy: 0.9999 - loss: 0.1045 - val_accuracy: 0.9315 - val_loss: 0.4919 - learning_rate: 1.0000e-04\n",
      "Epoch 124/300\n",
      "\u001b[1m84/84\u001b[0m \u001b[32m━━━━━━━━━━━━━━━━━━━━\u001b[0m\u001b[37m\u001b[0m \u001b[1m1s\u001b[0m 12ms/step - accuracy: 0.9978 - loss: 0.1018 - val_accuracy: 0.9315 - val_loss: 0.4890 - learning_rate: 1.0000e-04\n",
      "Epoch 125/300\n",
      "\u001b[1m84/84\u001b[0m \u001b[32m━━━━━━━━━━━━━━━━━━━━\u001b[0m\u001b[37m\u001b[0m \u001b[1m1s\u001b[0m 12ms/step - accuracy: 0.9977 - loss: 0.1050 - val_accuracy: 0.9286 - val_loss: 0.4861 - learning_rate: 1.0000e-04\n",
      "Epoch 126/300\n",
      "\u001b[1m84/84\u001b[0m \u001b[32m━━━━━━━━━━━━━━━━━━━━\u001b[0m\u001b[37m\u001b[0m \u001b[1m1s\u001b[0m 12ms/step - accuracy: 0.9985 - loss: 0.0984 - val_accuracy: 0.9286 - val_loss: 0.5015 - learning_rate: 1.0000e-04\n",
      "Epoch 127/300\n",
      "\u001b[1m84/84\u001b[0m \u001b[32m━━━━━━━━━━━━━━━━━━━━\u001b[0m\u001b[37m\u001b[0m \u001b[1m1s\u001b[0m 12ms/step - accuracy: 0.9945 - loss: 0.1090 - val_accuracy: 0.9330 - val_loss: 0.4337 - learning_rate: 1.0000e-04\n",
      "Epoch 128/300\n",
      "\u001b[1m84/84\u001b[0m \u001b[32m━━━━━━━━━━━━━━━━━━━━\u001b[0m\u001b[37m\u001b[0m \u001b[1m1s\u001b[0m 12ms/step - accuracy: 0.9919 - loss: 0.1126 - val_accuracy: 0.9345 - val_loss: 0.4490 - learning_rate: 1.0000e-04\n",
      "Epoch 129/300\n",
      "\u001b[1m84/84\u001b[0m \u001b[32m━━━━━━━━━━━━━━━━━━━━\u001b[0m\u001b[37m\u001b[0m \u001b[1m1s\u001b[0m 12ms/step - accuracy: 0.9967 - loss: 0.0983 - val_accuracy: 0.9390 - val_loss: 0.4386 - learning_rate: 1.0000e-04\n",
      "Epoch 130/300\n",
      "\u001b[1m84/84\u001b[0m \u001b[32m━━━━━━━━━━━━━━━━━━━━\u001b[0m\u001b[37m\u001b[0m \u001b[1m1s\u001b[0m 13ms/step - accuracy: 0.9986 - loss: 0.0937 - val_accuracy: 0.9405 - val_loss: 0.4307 - learning_rate: 5.0000e-05\n",
      "Epoch 131/300\n",
      "\u001b[1m84/84\u001b[0m \u001b[32m━━━━━━━━━━━━━━━━━━━━\u001b[0m\u001b[37m\u001b[0m \u001b[1m1s\u001b[0m 12ms/step - accuracy: 0.9999 - loss: 0.0909 - val_accuracy: 0.9435 - val_loss: 0.4550 - learning_rate: 5.0000e-05\n",
      "Epoch 132/300\n",
      "\u001b[1m84/84\u001b[0m \u001b[32m━━━━━━━━━━━━━━━━━━━━\u001b[0m\u001b[37m\u001b[0m \u001b[1m1s\u001b[0m 12ms/step - accuracy: 0.9998 - loss: 0.0887 - val_accuracy: 0.9405 - val_loss: 0.4776 - learning_rate: 5.0000e-05\n",
      "Epoch 133/300\n",
      "\u001b[1m84/84\u001b[0m \u001b[32m━━━━━━━━━━━━━━━━━━━━\u001b[0m\u001b[37m\u001b[0m \u001b[1m1s\u001b[0m 12ms/step - accuracy: 0.9990 - loss: 0.0882 - val_accuracy: 0.9375 - val_loss: 0.5099 - learning_rate: 5.0000e-05\n",
      "Epoch 134/300\n",
      "\u001b[1m84/84\u001b[0m \u001b[32m━━━━━━━━━━━━━━━━━━━━\u001b[0m\u001b[37m\u001b[0m \u001b[1m1s\u001b[0m 12ms/step - accuracy: 0.9974 - loss: 0.0902 - val_accuracy: 0.9420 - val_loss: 0.4775 - learning_rate: 5.0000e-05\n",
      "Epoch 135/300\n",
      "\u001b[1m84/84\u001b[0m \u001b[32m━━━━━━━━━━━━━━━━━━━━\u001b[0m\u001b[37m\u001b[0m \u001b[1m1s\u001b[0m 12ms/step - accuracy: 0.9993 - loss: 0.0863 - val_accuracy: 0.9420 - val_loss: 0.4502 - learning_rate: 5.0000e-05\n",
      "Epoch 136/300\n",
      "\u001b[1m84/84\u001b[0m \u001b[32m━━━━━━━━━━━━━━━━━━━━\u001b[0m\u001b[37m\u001b[0m \u001b[1m1s\u001b[0m 13ms/step - accuracy: 0.9997 - loss: 0.0839 - val_accuracy: 0.9390 - val_loss: 0.4726 - learning_rate: 5.0000e-05\n",
      "Epoch 137/300\n",
      "\u001b[1m84/84\u001b[0m \u001b[32m━━━━━━━━━━━━━━━━━━━━\u001b[0m\u001b[37m\u001b[0m \u001b[1m1s\u001b[0m 12ms/step - accuracy: 0.9989 - loss: 0.0839 - val_accuracy: 0.9360 - val_loss: 0.5318 - learning_rate: 5.0000e-05\n",
      "Epoch 138/300\n",
      "\u001b[1m84/84\u001b[0m \u001b[32m━━━━━━━━━━━━━━━━━━━━\u001b[0m\u001b[37m\u001b[0m \u001b[1m1s\u001b[0m 12ms/step - accuracy: 0.9989 - loss: 0.0847 - val_accuracy: 0.9405 - val_loss: 0.4955 - learning_rate: 5.0000e-05\n",
      "Epoch 139/300\n",
      "\u001b[1m84/84\u001b[0m \u001b[32m━━━━━━━━━━━━━━━━━━━━\u001b[0m\u001b[37m\u001b[0m \u001b[1m1s\u001b[0m 13ms/step - accuracy: 0.9990 - loss: 0.0808 - val_accuracy: 0.9449 - val_loss: 0.4455 - learning_rate: 5.0000e-05\n",
      "Epoch 140/300\n",
      "\u001b[1m84/84\u001b[0m \u001b[32m━━━━━━━━━━━━━━━━━━━━\u001b[0m\u001b[37m\u001b[0m \u001b[1m1s\u001b[0m 12ms/step - accuracy: 0.9999 - loss: 0.0791 - val_accuracy: 0.9539 - val_loss: 0.4395 - learning_rate: 2.5000e-05\n",
      "Epoch 141/300\n",
      "\u001b[1m84/84\u001b[0m \u001b[32m━━━━━━━━━━━━━━━━━━━━\u001b[0m\u001b[37m\u001b[0m \u001b[1m1s\u001b[0m 12ms/step - accuracy: 0.9995 - loss: 0.0787 - val_accuracy: 0.9509 - val_loss: 0.4406 - learning_rate: 2.5000e-05\n",
      "Epoch 142/300\n",
      "\u001b[1m84/84\u001b[0m \u001b[32m━━━━━━━━━━━━━━━━━━━━\u001b[0m\u001b[37m\u001b[0m \u001b[1m1s\u001b[0m 13ms/step - accuracy: 0.9991 - loss: 0.0787 - val_accuracy: 0.9464 - val_loss: 0.4478 - learning_rate: 2.5000e-05\n",
      "Epoch 143/300\n",
      "\u001b[1m84/84\u001b[0m \u001b[32m━━━━━━━━━━━━━━━━━━━━\u001b[0m\u001b[37m\u001b[0m \u001b[1m1s\u001b[0m 12ms/step - accuracy: 0.9994 - loss: 0.0771 - val_accuracy: 0.9464 - val_loss: 0.4447 - learning_rate: 2.5000e-05\n",
      "Epoch 144/300\n",
      "\u001b[1m84/84\u001b[0m \u001b[32m━━━━━━━━━━━━━━━━━━━━\u001b[0m\u001b[37m\u001b[0m \u001b[1m1s\u001b[0m 12ms/step - accuracy: 1.0000 - loss: 0.0760 - val_accuracy: 0.9420 - val_loss: 0.4763 - learning_rate: 2.5000e-05\n",
      "Epoch 145/300\n",
      "\u001b[1m84/84\u001b[0m \u001b[32m━━━━━━━━━━━━━━━━━━━━\u001b[0m\u001b[37m\u001b[0m \u001b[1m1s\u001b[0m 13ms/step - accuracy: 1.0000 - loss: 0.0750 - val_accuracy: 0.9435 - val_loss: 0.4703 - learning_rate: 2.5000e-05\n",
      "Epoch 146/300\n",
      "\u001b[1m84/84\u001b[0m \u001b[32m━━━━━━━━━━━━━━━━━━━━\u001b[0m\u001b[37m\u001b[0m \u001b[1m1s\u001b[0m 12ms/step - accuracy: 0.9996 - loss: 0.0745 - val_accuracy: 0.9464 - val_loss: 0.4592 - learning_rate: 2.5000e-05\n",
      "Epoch 147/300\n",
      "\u001b[1m84/84\u001b[0m \u001b[32m━━━━━━━━━━━━━━━━━━━━\u001b[0m\u001b[37m\u001b[0m \u001b[1m1s\u001b[0m 13ms/step - accuracy: 0.9998 - loss: 0.0738 - val_accuracy: 0.9509 - val_loss: 0.4699 - learning_rate: 2.5000e-05\n",
      "Epoch 148/300\n",
      "\u001b[1m84/84\u001b[0m \u001b[32m━━━━━━━━━━━━━━━━━━━━\u001b[0m\u001b[37m\u001b[0m \u001b[1m1s\u001b[0m 13ms/step - accuracy: 1.0000 - loss: 0.0730 - val_accuracy: 0.9420 - val_loss: 0.4753 - learning_rate: 2.5000e-05\n",
      "Epoch 149/300\n",
      "\u001b[1m84/84\u001b[0m \u001b[32m━━━━━━━━━━━━━━━━━━━━\u001b[0m\u001b[37m\u001b[0m \u001b[1m1s\u001b[0m 13ms/step - accuracy: 1.0000 - loss: 0.0720 - val_accuracy: 0.9420 - val_loss: 0.4830 - learning_rate: 2.5000e-05\n",
      "Restoring model weights from the end of the best epoch: 140.\n"
     ]
    }
   ],
   "source": [
    "tf.keras.backend.clear_session()\n",
    "\n",
    "# train the model with the callbacks\n",
    "history = model.fit(\n",
    "    X_train,\n",
    "    y_train,\n",
    "    epochs=300,\n",
    "    validation_data=(X_test, y_test),\n",
    "    callbacks=[logging, early_stopping, es_acc, lr_scheduler],\n",
    ")"
   ]
  },
  {
   "cell_type": "markdown",
   "metadata": {},
   "source": [
    "#### Confusion Evaluation"
   ]
  },
  {
   "cell_type": "code",
   "execution_count": 21,
   "metadata": {},
   "outputs": [],
   "source": [
    "import itertools\n",
    "\n",
    "import matplotlib.pyplot as plt  # type: ignore\n",
    "from sklearn.metrics import accuracy_score, confusion_matrix  # type: ignore"
   ]
  },
  {
   "cell_type": "code",
   "execution_count": 22,
   "metadata": {},
   "outputs": [],
   "source": [
    "y_true = np.argmax(y_test, axis=1)\n",
    "y_pred = np.argmax(model.predict(X_test, verbose=0), axis=1)\n",
    "\n",
    "# compute confusion matrix\n",
    "cm = confusion_matrix(y_true, y_pred)"
   ]
  },
  {
   "cell_type": "code",
   "execution_count": 23,
   "metadata": {},
   "outputs": [
    {
     "name": "stdout",
     "output_type": "stream",
     "text": [
      "\u001b[1m84/84\u001b[0m \u001b[32m━━━━━━━━━━━━━━━━━━━━\u001b[0m\u001b[37m\u001b[0m \u001b[1m0s\u001b[0m 4ms/step - accuracy: 1.0000 - loss: 0.0772\n",
      "Test accuracy: 1.0\n"
     ]
    }
   ],
   "source": [
    "test_loss, test_acc = model.evaluate(X_train, y_train)\n",
    "\n",
    "print(f'Test accuracy: {test_acc}')"
   ]
  },
  {
   "cell_type": "code",
   "execution_count": 24,
   "metadata": {},
   "outputs": [
    {
     "name": "stdout",
     "output_type": "stream",
     "text": [
      "Accuracy Score: 0.9538690476190477\n"
     ]
    },
    {
     "data": {
      "image/png": "[encoded data removed]",
      "text/plain": [
       "<Figure size 640x480 with 2 Axes>"
      ]
     },
     "metadata": {},
     "output_type": "display_data"
    }
   ],
   "source": [
    "# plot confusion matrix\n",
    "plt.imshow(cm, interpolation='nearest', cmap=plt.cm.Blues)\n",
    "plt.title('Confusion matrix')\n",
    "plt.colorbar()\n",
    "tick_marks = np.arange(len(ACTIONS))\n",
    "plt.xticks(tick_marks, ACTIONS, rotation=45)\n",
    "plt.yticks(tick_marks, ACTIONS)\n",
    "\n",
    "# add labels\n",
    "thresh = cm.max() / 2.\n",
    "for i, j in itertools.product(range(cm.shape[0]), range(cm.shape[1])):\n",
    "    plt.text(j, i, format(cm[i, j], 'd'),\n",
    "             horizontalalignment=\"center\",\n",
    "             color=\"white\" if cm[i, j] > thresh else \"black\")\n",
    "\n",
    "plt.ylabel('True label')\n",
    "plt.xlabel('Predicted label')\n",
    "plt.tight_layout()\n",
    "\n",
    "# compute and print accuracy score\n",
    "accuracy = accuracy_score(y_true, y_pred)\n",
    "print(\"Accuracy Score:\", accuracy)\n",
    "\n",
    "plt.show()"
   ]
  },
  {
   "cell_type": "markdown",
   "metadata": {},
   "source": [
    "#### Saving the model"
   ]
  },
  {
   "cell_type": "code",
   "execution_count": 25,
   "metadata": {},
   "outputs": [],
   "source": [
    "def get_next_filename(directory, base_name, extension):\n",
    "    # list all files in the directory\n",
    "    files = os.listdir(directory)\n",
    "\n",
    "    # filter files that start with the base_name and end with the extension\n",
    "    versions = [f for f in files if f.startswith(base_name) and f.endswith(extension)]\n",
    "\n",
    "    # if the models directory is empty, then use the\n",
    "    # default start version (001)\n",
    "    if not versions and base_name == \"singa_slr_v_\":\n",
    "        return f\"{base_name}001.{extension}\"\n",
    "\n",
    "    # if the fiven basename is different than the actual basename\n",
    "    # then save the model with given name\n",
    "    if not base_name == \"singa_slr_v_\":\n",
    "        return f\"{base_name}.{extension}\"\n",
    "\n",
    "    # extract version numbers from filenames\n",
    "    versions = [file.split(\"_\")[-1] for file in versions]\n",
    "\n",
    "    # convert version numbers to tuples of integers for comparison\n",
    "    versions_int = [int(v.split(\".\")[0]) for v in versions]\n",
    "\n",
    "    next_version = max(versions_int) + 1\n",
    "\n",
    "    # format the next number with leading zeros to maintain the same length\n",
    "    next_filename = f\"{base_name}{next_version:03d}.{extension}\"\n",
    "\n",
    "    return next_filename\n",
    "\n",
    "\n",
    "def save_as_tflite(_model, model_path):\n",
    "    with tempfile.TemporaryDirectory() as temp_dir:\n",
    "        # export the model to the temporary directory\n",
    "        export_path = os.path.join(temp_dir, \"_tf_temp\")\n",
    "\n",
    "        _model.export(export_path)\n",
    "\n",
    "        converter = tf.lite.TFLiteConverter.from_saved_model(export_path)\n",
    "        # Enable resource variables and selective ops to handle the conversion issues\n",
    "        converter.experimental_enable_resource_variables = True\n",
    "        converter.target_spec.supported_ops = [\n",
    "            tf.lite.OpsSet.TFLITE_BUILTINS,\n",
    "            tf.lite.OpsSet.SELECT_TF_OPS,\n",
    "        ]\n",
    "        converter._experimental_lower_tensor_list_ops = False\n",
    "\n",
    "        tflite_model = converter.convert()\n",
    "\n",
    "        with open(model_path, \"wb\") as f:\n",
    "            f.write(tflite_model)\n",
    "\n",
    "        f.close()\n",
    "\n",
    "\n",
    "def save_as_keras(_model, model_path):\n",
    "    _model.save(model_path)\n",
    "\n",
    "\n",
    "def save_model(_model, extension=\"keras\", base_name=\"singa_slr_v_\"):\n",
    "    model_dir = \"../storage/models/\" + extension\n",
    "\n",
    "    next_filename = get_next_filename(model_dir, base_name, extension)\n",
    "    model_path = os.path.join(model_dir, next_filename)\n",
    "\n",
    "    match extension:\n",
    "        case \"tflite\":\n",
    "            save_as_tflite(_model, model_path)\n",
    "            print(f\"saved as tflite at {model_path}\")\n",
    "\n",
    "        case \"keras\":\n",
    "            save_as_keras(_model, model_path)\n",
    "            print(f\"saved as keras at {model_path}\")"
   ]
  },
  {
   "cell_type": "code",
   "execution_count": 26,
   "metadata": {},
   "outputs": [
    {
     "name": "stdout",
     "output_type": "stream",
     "text": [
      "saved as keras at ../storage/models/keras\\singa_slr_v_001.keras\n"
     ]
    }
   ],
   "source": [
    "save_model(model)"
   ]
  },
  {
   "cell_type": "code",
   "execution_count": 27,
   "metadata": {},
   "outputs": [
    {
     "name": "stdout",
     "output_type": "stream",
     "text": [
      "INFO:tensorflow:Assets written to: C:\\Users\\acer\\AppData\\Local\\Temp\\tmpis0yvzxb\\_tf_temp\\assets\n"
     ]
    },
    {
     "name": "stderr",
     "output_type": "stream",
     "text": [
      "INFO:tensorflow:Assets written to: C:\\Users\\acer\\AppData\\Local\\Temp\\tmpis0yvzxb\\_tf_temp\\assets\n"
     ]
    },
    {
     "name": "stdout",
     "output_type": "stream",
     "text": [
      "Saved artifact at 'C:\\Users\\acer\\AppData\\Local\\Temp\\tmpis0yvzxb\\_tf_temp'. The following endpoints are available:\n",
      "\n",
      "* Endpoint 'serve'\n",
      "  args_0 (POSITIONAL_ONLY): TensorSpec(shape=(None, 60, 225), dtype=tf.float32, name='keras_tensor')\n",
      "Output Type:\n",
      "  TensorSpec(shape=(None, 4), dtype=tf.float32, name=None)\n",
      "Captures:\n",
      "  1806568266336: TensorSpec(shape=(), dtype=tf.resource, name=None)\n",
      "  1806568267392: TensorSpec(shape=(), dtype=tf.resource, name=None)\n",
      "  1806568262112: TensorSpec(shape=(), dtype=tf.resource, name=None)\n",
      "  1806568259824: TensorSpec(shape=(), dtype=tf.resource, name=None)\n",
      "  1806568269680: TensorSpec(shape=(), dtype=tf.resource, name=None)\n",
      "  1806568269504: TensorSpec(shape=(), dtype=tf.resource, name=None)\n",
      "  1806568273376: TensorSpec(shape=(), dtype=tf.resource, name=None)\n",
      "  1806568275664: TensorSpec(shape=(), dtype=tf.resource, name=None)\n",
      "  1806568606000: TensorSpec(shape=(), dtype=tf.resource, name=None)\n",
      "  1806568605120: TensorSpec(shape=(), dtype=tf.resource, name=None)\n",
      "  1806568618672: TensorSpec(shape=(), dtype=tf.resource, name=None)\n",
      "  1806568850528: TensorSpec(shape=(), dtype=tf.resource, name=None)\n",
      "  1806568849472: TensorSpec(shape=(), dtype=tf.resource, name=None)\n",
      "  1806568851408: TensorSpec(shape=(), dtype=tf.resource, name=None)\n",
      "  1806568853872: TensorSpec(shape=(), dtype=tf.resource, name=None)\n",
      "  1806568855104: TensorSpec(shape=(), dtype=tf.resource, name=None)\n",
      "  1806568864080: TensorSpec(shape=(), dtype=tf.resource, name=None)\n",
      "  1807674458528: TensorSpec(shape=(), dtype=tf.resource, name=None)\n",
      "saved as tflite at ../storage/models/tflite\\singa_slr_v_001.tflite\n"
     ]
    }
   ],
   "source": [
    "save_model(model, extension=\"tflite\")"
   ]
  }
 ],
 "metadata": {
  "kernelspec": {
   "display_name": "venv",
   "language": "python",
   "name": "python3"
  },
  "language_info": {
   "codemirror_mode": {
    "name": "ipython",
    "version": 3
   },
   "file_extension": ".py",
   "mimetype": "text/x-python",
   "name": "python",
   "nbconvert_exporter": "python",
   "pygments_lexer": "ipython3",
   "version": "3.10.2"
  }
 },
 "nbformat": 4,
 "nbformat_minor": 2
}
